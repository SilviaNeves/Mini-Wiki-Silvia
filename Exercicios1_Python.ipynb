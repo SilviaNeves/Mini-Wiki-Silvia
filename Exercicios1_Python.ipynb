{
  "nbformat": 4,
  "nbformat_minor": 0,
  "metadata": {
    "colab": {
      "provenance": [],
      "include_colab_link": true
    },
    "kernelspec": {
      "name": "python3",
      "display_name": "Python 3"
    },
    "language_info": {
      "name": "python"
    }
  },
  "cells": [
    {
      "cell_type": "markdown",
      "metadata": {
        "id": "view-in-github",
        "colab_type": "text"
      },
      "source": [
        "<a href=\"https://colab.research.google.com/github/SilviaNeves/Mini-Wiki-Silvia/blob/main/Exercicios1_Python.ipynb\" target=\"_parent\"><img src=\"https://colab.research.google.com/assets/colab-badge.svg\" alt=\"Open In Colab\"/></a>"
      ]
    },
    {
      "cell_type": "markdown",
      "source": [
        "1-Crie três variáveis representando seu nome, sua idade e sua altura. Exiba-as no console."
      ],
      "metadata": {
        "id": "cJjgj1FE1SM8"
      }
    },
    {
      "cell_type": "code",
      "execution_count": null,
      "metadata": {
        "id": "w_9kNzh41Jls",
        "outputId": "e0c2b6ff-2b0b-418e-f199-dc5e1cec2865",
        "colab": {
          "base_uri": "https://localhost:8080/"
        }
      },
      "outputs": [
        {
          "output_type": "stream",
          "name": "stdout",
          "text": [
            "Digite seu nome: Silvia\n",
            "Digite sua idade: 45\n",
            "Digite sua altura: 1.64\n",
            "meu nome é: Silvia, tenho 45 anos, minha altura é 1.64.\n"
          ]
        }
      ],
      "source": [
        "#Declaração de variaveis\n",
        "nome=input(\"Digite seu nome: \")\n",
        "idade=int(input(\"Digite sua idade: \"))\n",
        "altura=float(input(\"Digite sua altura: \"))\n",
        "#exibição\n",
        "print(f'meu nome é: {nome}, tenho {idade} anos, minha altura é {altura}.')"
      ]
    },
    {
      "cell_type": "markdown",
      "source": [
        "2- Descubra o tipo de cada variável ciada no exercício 1."
      ],
      "metadata": {
        "id": "OEjPlhCU1Szk"
      }
    },
    {
      "cell_type": "code",
      "source": [
        "#verificação e exibição dos tipos de variaveis do exercicio 1\n",
        "print(f\"Tipo da variável 'nome':\", type(nome))\n",
        "print(f\"Tipo da variável 'idade':\", type(idade))\n",
        "print(f\"Tipo da variável 'altura':\", type(altura))"
      ],
      "metadata": {
        "id": "ipyhG4-k1TCi",
        "outputId": "74973f07-c4eb-4917-b43f-836356616f41",
        "colab": {
          "base_uri": "https://localhost:8080/"
        }
      },
      "execution_count": null,
      "outputs": [
        {
          "output_type": "stream",
          "name": "stdout",
          "text": [
            "Tipo da variável 'nome': <class 'str'>\n",
            "Tipo da variável 'idade': <class 'int'>\n",
            "Tipo da variável 'altura': <class 'float'>\n"
          ]
        }
      ]
    },
    {
      "cell_type": "markdown",
      "source": [
        "3- Converta a variável idade para float e a altura para int. Depois, exiba os novos valores."
      ],
      "metadata": {
        "id": "5v4vpw5l2M-e"
      }
    },
    {
      "cell_type": "code",
      "source": [
        "#declaração variáveis\n",
        "nome=input(\"Digite seu nome: \")\n",
        "idade=int(input(\"Digite sua idade: \"))\n",
        "altura=float(input(\"Digite sua altura: \"))\n",
        "#exibição variáveis\n",
        "print(f'meu nome é: {nome}, tenho {idade} anos, minha altura é {altura}.')\n",
        "#conversão de tipos\n",
        "idade_float = float(idade)\n",
        "altura_int = int(altura)\n",
        "#Exibição dos novos valores e tipos convertidos\n",
        "print(f\"Nova idade convertida: tipo(float):\", idade_float, type(idade_float))\n",
        "print(f\"Nova altura convertida: tipo(int):\", altura_int, type(altura_int))"
      ],
      "metadata": {
        "id": "3B6amjxY2YjT",
        "outputId": "939a9fe7-aa14-45e7-fd36-62fe838096ce",
        "colab": {
          "base_uri": "https://localhost:8080/"
        }
      },
      "execution_count": null,
      "outputs": [
        {
          "output_type": "stream",
          "name": "stdout",
          "text": [
            "Digite seu nome: der\n",
            "Digite sua idade: 54\n",
            "Digite sua altura: 567\n",
            "meu nome é: der, tenho 54 anos, minha altura é 567.0.\n",
            "Nova idade convertida: tipo(float): 54.0 <class 'float'>\n",
            "Nova altura convertida: tipo(int): 567 <class 'int'>\n"
          ]
        }
      ]
    },
    {
      "cell_type": "markdown",
      "source": [
        " 4- Faça um programa que peça dois números ao usuário e mostre a soma, subtração, multiplicação e divisão entre eles."
      ],
      "metadata": {
        "id": "cFeFSIqS2R8r"
      }
    },
    {
      "cell_type": "code",
      "source": [
        "#declaração de variaveis\n",
        "num1=float(input(\"Digite o primeiro número: \"))\n",
        "num2=float(input(\"Digite o segundo número: \"))\n",
        "#operações matematicas\n",
        "soma=num1+num2\n",
        "subtracao=num1-num2\n",
        "multiplicacao=num1*num2\n",
        "divisao=num1/num2\n",
        "#exibição das operações\n",
        "print(f\"Soma: {soma}\")\n",
        "print(f\"Subtração: {subtracao}\")\n",
        "print(f\"Multiplicação: {multiplicacao:.2f}\") #:.2f usado para definir em 2 casas decimais\n",
        "print(f\"Divisão: {divisao:.2f}\")#:.2f usado para definir em 2 casas decimais"
      ],
      "metadata": {
        "id": "mSJ4kEK72Y9D",
        "outputId": "a525bba9-4ee9-4690-a7b7-562bfcc64d7d",
        "colab": {
          "base_uri": "https://localhost:8080/"
        }
      },
      "execution_count": null,
      "outputs": [
        {
          "output_type": "stream",
          "name": "stdout",
          "text": [
            "Digite o primeiro número: 54\n",
            "Digite o segundo número: 87\n",
            "Soma: 141.0\n",
            "Subtração: -33.0\n",
            "Multiplicação: 4698.00\n",
            "Divisão: 0.62\n"
          ]
        }
      ]
    },
    {
      "cell_type": "markdown",
      "source": [
        "5- Crie um programa que receba a idade de uma pessoa e verifique se ela é maior de idade (18 anos ou mais)."
      ],
      "metadata": {
        "id": "SeVD8UBz2Vdi"
      }
    },
    {
      "cell_type": "code",
      "source": [
        "#declarar as variáveis\n",
        "idade=int(input(\"Digite qual é a sua idade\"))\n",
        "if idade>=18:\n",
        "  print(f\"Você é maior de idade tem {idade} anos, esta apto a acessar os nossos cursos.\")\n",
        "else:\n",
        "  print(f\"Que pena! Você tem {idade} anos, é menor de idade. Fica para uma outra oportunidade.\")"
      ],
      "metadata": {
        "id": "FVqNVjPN2ZPc",
        "outputId": "e1629363-c8c2-4eb3-921b-662eaf95f428",
        "colab": {
          "base_uri": "https://localhost:8080/"
        }
      },
      "execution_count": null,
      "outputs": [
        {
          "output_type": "stream",
          "name": "stdout",
          "text": [
            "Digite qual é a sua idade12\n",
            "Que pena! Você tem 12 anos, é menor de idade. Fica para uma outra oportunidae.\n"
          ]
        }
      ]
    },
    {
      "cell_type": "markdown",
      "source": [
        " 6- Calculadora de IMC: Peça o peso e altura do usuário e calcule o Índice de Massa Corporal (IMC)."
      ],
      "metadata": {
        "id": "4RsWvNmI2Z78"
      }
    },
    {
      "cell_type": "code",
      "source": [
        "#variaveis peso, altura e nome\n",
        "nome = input(\"Digite seu nome: \")\n",
        "peso = float(input(\"Digite seu peso em kg: \"))\n",
        "altura = float(input(\"Digite sua altura em metros: \"))\n",
        "\n",
        "# fórmula para calcular o IMC\n",
        "imc = peso / (altura * altura)\n",
        "\n",
        "# exibição dos dados\n",
        "if imc < 18.5:\n",
        "  print(f\"{nome} Seu IMC é:{imc:.2f}.Você está abaixo do peso.\")\n",
        "elif imc < 25:\n",
        "  print(f\"{nome} Seu IMC é:{imc:.2f}.Seu peso está normal.\")\n",
        "elif imc < 30:\n",
        "\n",
        "  print(f\"{nome} Seu IMC é:{imc:.2f}.Você está com sobrepeso.Pratique exercícios físico.\")\n",
        "else:\n",
        "  print(f\"{nome} Seu IMC é:{imc:.2f}.Você está com obesidade, necessita de ajuda médica para emagrecer.\")\n"
      ],
      "metadata": {
        "id": "V9EkYrFu2eQ6",
        "outputId": "d621eabc-ffae-487a-d7d0-ac5ccfdc6176",
        "colab": {
          "base_uri": "https://localhost:8080/"
        }
      },
      "execution_count": null,
      "outputs": [
        {
          "output_type": "stream",
          "name": "stdout",
          "text": [
            "Digite seu nome: silvia\n",
            "Digite seu peso em kg: 64\n",
            "Digite sua altura em metros: 1.64\n",
            "silvia Seu IMC é:23.80.Seu peso está normal.\n"
          ]
        }
      ]
    },
    {
      "cell_type": "markdown",
      "source": [
        " 7-Verificador de Número Par ou Ímpar:"
      ],
      "metadata": {
        "id": "Ye06Uwir2e0i"
      }
    },
    {
      "cell_type": "code",
      "source": [
        "#declaração de variaveis\n",
        "numero=int(input('Digite um número'))\n",
        "\n",
        "#verificador e exibição se é par ou impar\n",
        "if numero %2 ==0:\n",
        "  print(f\"O número {numero} é par.\")\n",
        "else:\n",
        "  print(f\"O número {numero} é impar.\")"
      ],
      "metadata": {
        "id": "KAwOgyqK2i9j",
        "outputId": "20b7877a-cd7c-4866-d158-dc1994931665",
        "colab": {
          "base_uri": "https://localhost:8080/"
        }
      },
      "execution_count": null,
      "outputs": [
        {
          "output_type": "stream",
          "name": "stdout",
          "text": [
            "Digite um número44\n",
            "O número 44 é par.\n"
          ]
        }
      ]
    },
    {
      "cell_type": "markdown",
      "source": [
        "8- Conversor de Temperatura de Celsius para Fahrenheint"
      ],
      "metadata": {
        "id": "Ffq8DpFJ2jgS"
      }
    },
    {
      "cell_type": "code",
      "source": [
        "# declaração de variaveis\n",
        "celsius = float(input(\"Digite a temperatura em graus Celsius: \"))\n",
        "\n",
        "# fórmula para Conversão da temperatura\n",
        "fahrenheit = (celsius * 9/5) + 32\n",
        "\n",
        "# Saída de dados\n",
        "print(\"A temperatura em graus Fahrenheit é:\", fahrenheit)"
      ],
      "metadata": {
        "id": "BEjHUkio20nC",
        "outputId": "ea55bd04-69c6-420e-ce9d-2c11fe739e42",
        "colab": {
          "base_uri": "https://localhost:8080/"
        }
      },
      "execution_count": null,
      "outputs": [
        {
          "output_type": "stream",
          "name": "stdout",
          "text": [
            "Digite a temperatura em graus Celsius: 38.0\n",
            "A temperatura em graus Fahrenheit é: 100.4\n"
          ]
        }
      ]
    },
    {
      "cell_type": "markdown",
      "source": [
        "9- Média de Notas: Peça três notas ao usuário e calcule a média."
      ],
      "metadata": {
        "id": "DBDOW7fU21Eb"
      }
    },
    {
      "cell_type": "code",
      "source": [
        "#declaração das variaveis nota\n",
        "nome = input(\"Digite seu nome: \")\n",
        "nota1 = float(input(\"Digite a sua nota do primeiro bimestre: \"))\n",
        "nota2 = float(input(\"Digite a sua nota do segundo bimestre: \"))\n",
        "nota3 = float(input(\"Digite a nota do terceiro bimestre: \"))\n",
        "#fórmula para calcular a média\n",
        "media = (nota1 + nota2 + nota3) / 3\n",
        "#exibição dos dados\n",
        "print(f\"Olá {nome}, sua média é: {media:.2f}\")"
      ],
      "metadata": {
        "id": "j-k-JWy13MwC",
        "outputId": "44fbd46b-7f7d-4691-98b5-4e1fe2bed92f",
        "colab": {
          "base_uri": "https://localhost:8080/"
        }
      },
      "execution_count": null,
      "outputs": [
        {
          "output_type": "stream",
          "name": "stdout",
          "text": [
            "Digite seu nome: jose\n",
            "Digite a sua nota do primeiro bimestre: 50\n",
            "Digite a sua nota do segundo bimestre: 60\n",
            "Digite a nota do terceiro bimestre: 80\n",
            "Olá jose, sua média é: 63.33\n"
          ]
        }
      ]
    },
    {
      "cell_type": "markdown",
      "source": [
        "10 - Calculo de Juros Compostos:\n",
        "\n",
        "\n",
        "```\n",
        "M=C(1+i)^t\n",
        "```\n",
        "Sendo:\n",
        "* C= Capital inicial\n",
        "* i= Taxa de juros\n",
        "* t= Tempo(meses)\n",
        "\n"
      ],
      "metadata": {
        "id": "rfldAQLt3NEc"
      }
    },
    {
      "cell_type": "code",
      "source": [
        "#declaração das variaveis\n",
        "capital = float(input(\"Digite o capital inicial do investimento: \"))\n",
        "taxa = float(input(\"Digite a taxa de juros (em decimal): \"))\n",
        "tempo = int(input(\"Digite o período de tempo (em meses): \"))\n",
        "\n",
        "# Cálculo dos juros compostos\n",
        "M = capital * (1 + taxa) ** tempo\n",
        "\n",
        "# Saída de dados\n",
        "print(f\"O valor futuro do investimento é: {M}\")"
      ],
      "metadata": {
        "id": "XGzo0Y3A3zfQ",
        "outputId": "ed8dd308-caa5-4420-ab15-2bbe64b3e118",
        "colab": {
          "base_uri": "https://localhost:8080/"
        }
      },
      "execution_count": null,
      "outputs": [
        {
          "output_type": "stream",
          "name": "stdout",
          "text": [
            "Digite o capital inicial do investimento: 64\n",
            "Digite a taxa de juros (em decimal): 64\n",
            "Digite o período de tempo (em meses): 64\n",
            "O valor futuro do investimento é: 6.801971362226138e+117\n"
          ]
        }
      ]
    },
    {
      "cell_type": "markdown",
      "source": [
        "11- Comparação de Dois Números\n",
        "Peça dois números ao usuário e exiba se eles são iguais, diferentes, maior, menor, etc."
      ],
      "metadata": {
        "id": "-OEOClEi5bYj"
      }
    },
    {
      "cell_type": "code",
      "source": [
        "# declaração das variáveis numeros\n",
        "num1 = float(input(\"Digite o primeiro número: \"))\n",
        "num2 = float(input(\"Digite o segundo número: \"))\n",
        "\n",
        "# Comparação e exibição\n",
        "if num1 == num2:\n",
        "  print(\"Os números são iguais.\")\n",
        "else:\n",
        "  print(\"Os números são diferentes.\")\n",
        "\n",
        "if num1 > num2:\n",
        "  print(num1, \"é maior que\", num2)\n",
        "elif num1 < num2:\n",
        "  print(num1, \"é menor que\", num2)\n",
        "if num1 >= num2:\n",
        "  print(num1, \"é maior ou igual a\", num2)\n",
        "if num1 <= num2:\n",
        "  print(num1, \"é menor ou igual a\", num2)"
      ],
      "metadata": {
        "id": "4cd0wMhJ_Apb",
        "outputId": "17ce0242-beb0-4dcb-ef13-a42bffd545bb",
        "colab": {
          "base_uri": "https://localhost:8080/"
        }
      },
      "execution_count": null,
      "outputs": [
        {
          "output_type": "stream",
          "name": "stdout",
          "text": [
            "Digite o primeiro número: 34\n",
            "Digite o segundo número: 54\n",
            "Os números são diferentes.\n",
            "34.0 é menor que 54.0\n",
            "34.0 é menor ou igual a 54.0\n"
          ]
        }
      ]
    },
    {
      "cell_type": "markdown",
      "source": [
        "12- Conversor de Moeda\n",
        "Peça um valor em reais e converta para dólares (suponha uma taxa de câmbio de R$ 5,00 por USD)."
      ],
      "metadata": {
        "id": "BRRTh3hJ5eJy"
      }
    },
    {
      "cell_type": "code",
      "source": [
        "# declaração da variavel\n",
        "reais = float(input(\"Digite o valor em reais: \"))\n",
        "\n",
        "# fórmula para conversão de dólares para reais\n",
        "dolares = reais / 5.00\n",
        "\n",
        "# exibição\n",
        "print(\"O valor em dólares é:\", dolares)"
      ],
      "metadata": {
        "id": "QZTmjuxL5r8a",
        "outputId": "f63d38ae-7201-4aad-dfc6-d576585d8cf6",
        "colab": {
          "base_uri": "https://localhost:8080/"
        }
      },
      "execution_count": null,
      "outputs": [
        {
          "output_type": "stream",
          "name": "stdout",
          "text": [
            "Digite o valor em reais: 54\n",
            "O valor em dólares é: 10.8\n"
          ]
        }
      ]
    }
  ]
}