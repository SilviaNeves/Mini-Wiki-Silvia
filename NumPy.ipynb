{
  "nbformat": 4,
  "nbformat_minor": 0,
  "metadata": {
    "colab": {
      "provenance": [],
      "include_colab_link": true
    },
    "kernelspec": {
      "name": "python3",
      "display_name": "Python 3"
    },
    "language_info": {
      "name": "python"
    }
  },
  "cells": [
    {
      "cell_type": "markdown",
      "metadata": {
        "id": "view-in-github",
        "colab_type": "text"
      },
      "source": [
        "<a href=\"https://colab.research.google.com/github/SilviaNeves/Mini-Wiki-Silvia/blob/main/NumPy.ipynb\" target=\"_parent\"><img src=\"https://colab.research.google.com/assets/colab-badge.svg\" alt=\"Open In Colab\"/></a>"
      ]
    },
    {
      "cell_type": "markdown",
      "source": [
        "Instalar biblioteca NumPy"
      ],
      "metadata": {
        "id": "NoNrN4KsGhhf"
      }
    },
    {
      "cell_type": "code",
      "execution_count": null,
      "metadata": {
        "colab": {
          "base_uri": "https://localhost:8080/"
        },
        "id": "lqoAEQ4RFs24",
        "outputId": "6e3fa25b-6955-41f2-eebd-6bee8e0a06a5"
      },
      "outputs": [
        {
          "output_type": "stream",
          "name": "stdout",
          "text": [
            "Requirement already satisfied: numpy in /usr/local/lib/python3.11/dist-packages (1.26.4)\n"
          ]
        }
      ],
      "source": [
        "!pip install numpy"
      ]
    },
    {
      "cell_type": "markdown",
      "source": [
        "Import"
      ],
      "metadata": {
        "id": "7ygIr7o_G-ZL"
      }
    },
    {
      "cell_type": "code",
      "source": [
        "import numpy as np"
      ],
      "metadata": {
        "id": "eJhLoXCPG9-7"
      },
      "execution_count": null,
      "outputs": []
    },
    {
      "cell_type": "markdown",
      "source": [
        "Criando Arrays"
      ],
      "metadata": {
        "id": "QiNi3PkRHLZW"
      }
    },
    {
      "cell_type": "code",
      "source": [
        "lista= [1,2,3,4,5,6,7]\n",
        "array=np.array(lista)\n",
        "\n",
        "print(\"Lista: \",lista)\n",
        "print(\"Array: \",array)"
      ],
      "metadata": {
        "colab": {
          "base_uri": "https://localhost:8080/"
        },
        "id": "R-PLeEKjHKiM",
        "outputId": "29bd6ecb-289f-41ea-da57-0273f631670b"
      },
      "execution_count": null,
      "outputs": [
        {
          "output_type": "stream",
          "name": "stdout",
          "text": [
            "Lista:  [1, 2, 3, 4, 5, 6, 7]\n",
            "Array:  [1 2 3 4 5 6 7]\n"
          ]
        }
      ]
    },
    {
      "cell_type": "markdown",
      "source": [
        "Arrays Multidimensionais"
      ],
      "metadata": {
        "id": "GzFX3Z19HuuE"
      }
    },
    {
      "cell_type": "code",
      "source": [
        "matriz=np.array([[1,2,3],[4,5,6]])\n",
        "print('Matriz 2x3')\n",
        "print(matriz)"
      ],
      "metadata": {
        "colab": {
          "base_uri": "https://localhost:8080/"
        },
        "id": "QT7xZAjsHw8O",
        "outputId": "f742a948-7854-4cb5-d3b8-67b78f229175"
      },
      "execution_count": null,
      "outputs": [
        {
          "output_type": "stream",
          "name": "stdout",
          "text": [
            "Matriz 2x3\n",
            "[[1 2 3]\n",
            " [4 5 6]]\n"
          ]
        }
      ]
    },
    {
      "cell_type": "markdown",
      "source": [
        "Arrays com valores inicializados"
      ],
      "metadata": {
        "id": "6UHY9qr2ILBX"
      }
    },
    {
      "cell_type": "code",
      "source": [
        "#preencher matrizes com 0\n",
        "zeros=np.zeros((2,3))\n",
        "print(zeros)"
      ],
      "metadata": {
        "colab": {
          "base_uri": "https://localhost:8080/"
        },
        "id": "OYXnJOKgIOEx",
        "outputId": "6176972e-ab7f-4a13-9619-3a03168f4b7e"
      },
      "execution_count": null,
      "outputs": [
        {
          "output_type": "stream",
          "name": "stdout",
          "text": [
            "[[0. 0. 0.]\n",
            " [0. 0. 0.]]\n"
          ]
        }
      ]
    },
    {
      "cell_type": "code",
      "source": [
        "#preencher matrizes com 1\n",
        "uns=np.ones((3,2),dtype=int)\n",
        "print(uns)"
      ],
      "metadata": {
        "colab": {
          "base_uri": "https://localhost:8080/"
        },
        "id": "E4h0TrgRIdNK",
        "outputId": "bb73f0f6-41bb-4a01-c14f-f4716bfbcbb7"
      },
      "execution_count": null,
      "outputs": [
        {
          "output_type": "stream",
          "name": "stdout",
          "text": [
            "[[1 1]\n",
            " [1 1]\n",
            " [1 1]]\n"
          ]
        }
      ]
    },
    {
      "cell_type": "code",
      "source": [
        "#preencher uma matriz com numeros aleatórios (numeros entre 0 e 1)\n",
        "aleatorios=np.random.random((2,2))\n",
        "print(aleatorios)"
      ],
      "metadata": {
        "colab": {
          "base_uri": "https://localhost:8080/"
        },
        "id": "A5JiOKHvIrFK",
        "outputId": "335b263a-db4a-49ce-d673-ec8d0ec1e070"
      },
      "execution_count": null,
      "outputs": [
        {
          "output_type": "stream",
          "name": "stdout",
          "text": [
            "[[0.14133541 0.59577568]\n",
            " [0.67212947 0.4553473 ]]\n"
          ]
        }
      ]
    },
    {
      "cell_type": "code",
      "source": [
        "# Gerar números inteiros aleatórios entre 1 e 100\n",
        "aleatorios_inteiros = np.random.randint(1, 101, size=(2, 2))\n",
        "print(\"Aleatórios inteiros maiores que 1:\")\n",
        "print(aleatorios_inteiros)"
      ],
      "metadata": {
        "colab": {
          "base_uri": "https://localhost:8080/"
        },
        "id": "CQcJR_sIMI4G",
        "outputId": "6011f0e3-d819-4f9e-f995-d0536b0fe686"
      },
      "execution_count": null,
      "outputs": [
        {
          "output_type": "stream",
          "name": "stdout",
          "text": [
            "Aleatórios inteiros maiores que 1:\n",
            "[[68 70]\n",
            " [88 68]]\n"
          ]
        }
      ]
    },
    {
      "cell_type": "code",
      "source": [
        "#Array com valores sequenciais\n",
        "sequencia=np.arange(0,10,2) #0 a 10 pulando de 2 em 2\n",
        "sequencia"
      ],
      "metadata": {
        "colab": {
          "base_uri": "https://localhost:8080/"
        },
        "id": "s8ffOUvPTQG3",
        "outputId": "6f23a8c8-feac-4ef3-b1f5-62dd5b2f10b0"
      },
      "execution_count": null,
      "outputs": [
        {
          "output_type": "execute_result",
          "data": {
            "text/plain": [
              "array([0, 2, 4, 6, 8])"
            ]
          },
          "metadata": {},
          "execution_count": 30
        }
      ]
    },
    {
      "cell_type": "code",
      "source": [
        "#array com valores espaçados igualmente\n",
        "array_espacados=np.linspace(0,1,5)\n",
        "array_espacados"
      ],
      "metadata": {
        "colab": {
          "base_uri": "https://localhost:8080/"
        },
        "id": "bknUbwECTv6T",
        "outputId": "e33e24ba-0cbe-493a-b2a0-ba0b0daed650"
      },
      "execution_count": null,
      "outputs": [
        {
          "output_type": "execute_result",
          "data": {
            "text/plain": [
              "array([0.  , 0.25, 0.5 , 0.75, 1.  ])"
            ]
          },
          "metadata": {},
          "execution_count": 31
        }
      ]
    },
    {
      "cell_type": "markdown",
      "source": [
        "Atributos do Array"
      ],
      "metadata": {
        "id": "yVSFglgUUQ0d"
      }
    },
    {
      "cell_type": "code",
      "source": [
        "arr=np.array([[[1,2,3],[4,5,6],[7,8,9]],[[10,11,12],[13,14,15],[16,17,18]]])\n"
      ],
      "metadata": {
        "id": "oZ11GPG6USp1"
      },
      "execution_count": null,
      "outputs": []
    },
    {
      "cell_type": "code",
      "source": [
        "#retorna linha e coluna (L,C)\n",
        "print(arr.shape)"
      ],
      "metadata": {
        "colab": {
          "base_uri": "https://localhost:8080/"
        },
        "id": "ISUWrkBIUaxm",
        "outputId": "f3825a33-4e9f-4607-a564-6bc73805cbc8"
      },
      "execution_count": null,
      "outputs": [
        {
          "output_type": "stream",
          "name": "stdout",
          "text": [
            "(3, 3)\n"
          ]
        }
      ]
    },
    {
      "cell_type": "code",
      "source": [
        "#numero de dimensões\n",
        "print(arr.ndim)"
      ],
      "metadata": {
        "colab": {
          "base_uri": "https://localhost:8080/"
        },
        "id": "wb2JMvraUmU2",
        "outputId": "62fa8520-91c5-43f5-ae67-444ad142a1e2"
      },
      "execution_count": null,
      "outputs": [
        {
          "output_type": "stream",
          "name": "stdout",
          "text": [
            "2\n"
          ]
        }
      ]
    },
    {
      "cell_type": "code",
      "source": [
        "#total de elementos\n",
        "print(arr.size)"
      ],
      "metadata": {
        "colab": {
          "base_uri": "https://localhost:8080/"
        },
        "id": "PPawvnlqUvpF",
        "outputId": "089d5658-5197-4328-ad88-47ac59bec3f3"
      },
      "execution_count": null,
      "outputs": [
        {
          "output_type": "stream",
          "name": "stdout",
          "text": [
            "6\n"
          ]
        }
      ]
    },
    {
      "cell_type": "code",
      "source": [
        "#tipo de dado (int64 é inteiro, float64 é float)\n",
        "print(arr.dtype)"
      ],
      "metadata": {
        "id": "f7thRCtdU2f5"
      },
      "execution_count": null,
      "outputs": []
    },
    {
      "cell_type": "markdown",
      "source": [
        "Operações matemáticas"
      ],
      "metadata": {
        "id": "xuGno5y7Zsc8"
      }
    },
    {
      "cell_type": "code",
      "source": [
        "a=np.array([1,2,3])\n",
        "b=np.array([4,5,6])\n",
        "\n"
      ],
      "metadata": {
        "colab": {
          "base_uri": "https://localhost:8080/"
        },
        "id": "TXsMU3b2ZzAu",
        "outputId": "eb78befb-3b5f-46c1-bce0-721345e86300"
      },
      "execution_count": null,
      "outputs": [
        {
          "output_type": "stream",
          "name": "stdout",
          "text": [
            "[5 7 9]\n"
          ]
        }
      ]
    },
    {
      "cell_type": "markdown",
      "source": [
        "Somar"
      ],
      "metadata": {
        "id": "CeBKZMd4aDQy"
      }
    },
    {
      "cell_type": "code",
      "source": [
        "print(a+b)"
      ],
      "metadata": {
        "colab": {
          "base_uri": "https://localhost:8080/"
        },
        "id": "bKuLsYNcaCkv",
        "outputId": "52008a78-81da-4bd4-c134-5b8f654f172c"
      },
      "execution_count": null,
      "outputs": [
        {
          "output_type": "stream",
          "name": "stdout",
          "text": [
            "[5 7 9]\n"
          ]
        }
      ]
    },
    {
      "cell_type": "markdown",
      "source": [
        "Multiplicar"
      ],
      "metadata": {
        "id": "89jPZINjaFbX"
      }
    },
    {
      "cell_type": "code",
      "source": [
        "print(a*b)"
      ],
      "metadata": {
        "colab": {
          "base_uri": "https://localhost:8080/"
        },
        "id": "CIegBIbpaE7l",
        "outputId": "9008cfaa-3192-4b1a-cad3-84a80ee36ec9"
      },
      "execution_count": null,
      "outputs": [
        {
          "output_type": "stream",
          "name": "stdout",
          "text": [
            "[ 4 10 18]\n"
          ]
        }
      ]
    },
    {
      "cell_type": "markdown",
      "source": [
        "Dividir"
      ],
      "metadata": {
        "id": "_J4MCPgFaI-4"
      }
    },
    {
      "cell_type": "code",
      "source": [
        "print(b/a)"
      ],
      "metadata": {
        "colab": {
          "base_uri": "https://localhost:8080/"
        },
        "id": "PSbNFMGpaK2z",
        "outputId": "fa8fa5b6-eef7-4b59-e101-93416925861b"
      },
      "execution_count": null,
      "outputs": [
        {
          "output_type": "stream",
          "name": "stdout",
          "text": [
            "[4.  2.5 2. ]\n"
          ]
        }
      ]
    },
    {
      "cell_type": "markdown",
      "source": [
        "Exponenciação"
      ],
      "metadata": {
        "id": "iTmbMl-aaRfg"
      }
    },
    {
      "cell_type": "code",
      "source": [
        "print(a**b)"
      ],
      "metadata": {
        "colab": {
          "base_uri": "https://localhost:8080/"
        },
        "id": "dwGgUQHPaQkM",
        "outputId": "c082c858-cc86-4f2f-b4ad-3d7a6dc099a4"
      },
      "execution_count": null,
      "outputs": [
        {
          "output_type": "stream",
          "name": "stdout",
          "text": [
            "[  1  32 729]\n"
          ]
        }
      ]
    },
    {
      "cell_type": "markdown",
      "source": [
        "SLICING"
      ],
      "metadata": {
        "id": "0VuPz2YUa04J"
      }
    },
    {
      "cell_type": "code",
      "source": [
        "arr = np.array([10, 20, 30, 40, 50])\n"
      ],
      "metadata": {
        "colab": {
          "base_uri": "https://localhost:8080/"
        },
        "id": "3PSlsjoka4iv",
        "outputId": "e336815a-a862-427a-b076-56c69c358886"
      },
      "execution_count": null,
      "outputs": [
        {
          "output_type": "stream",
          "name": "stdout",
          "text": [
            "10\n",
            "50\n"
          ]
        }
      ]
    },
    {
      "cell_type": "code",
      "source": [
        "#acessando os elementos\n",
        "print(arr[0])\n",
        "print(arr[-1])"
      ],
      "metadata": {
        "id": "WlSUyr46bH1P"
      },
      "execution_count": null,
      "outputs": []
    },
    {
      "cell_type": "code",
      "source": [
        "#slicing\n",
        "print(arr[1:4])"
      ],
      "metadata": {
        "colab": {
          "base_uri": "https://localhost:8080/"
        },
        "id": "hiFRrFWQbKPx",
        "outputId": "18060c70-2bb0-494c-9fdf-cd42fd9301e0"
      },
      "execution_count": null,
      "outputs": [
        {
          "output_type": "stream",
          "name": "stdout",
          "text": [
            "[20 30 40]\n"
          ]
        }
      ]
    },
    {
      "cell_type": "markdown",
      "source": [
        "Slicing em matrizes"
      ],
      "metadata": {
        "id": "LO3Lpo3obie-"
      }
    },
    {
      "cell_type": "code",
      "source": [
        "matriz = np.array([[1, 2, 3], [4, 5, 6], [7, 8, 9]])"
      ],
      "metadata": {
        "id": "j0Ll-REDbVbM"
      },
      "execution_count": null,
      "outputs": []
    },
    {
      "cell_type": "code",
      "source": [
        "print(matriz[0,1])\n",
        "print(matriz[:,1])"
      ],
      "metadata": {
        "colab": {
          "base_uri": "https://localhost:8080/"
        },
        "id": "kXipw18rbWe1",
        "outputId": "7924d0b6-b4c8-431e-8f04-25769745091a"
      },
      "execution_count": null,
      "outputs": [
        {
          "output_type": "stream",
          "name": "stdout",
          "text": [
            "2\n",
            "[2 5 8]\n"
          ]
        }
      ]
    },
    {
      "cell_type": "markdown",
      "source": [
        "Funções Estatísticas de NumPy"
      ],
      "metadata": {
        "id": "wGtom9vvjq7Z"
      }
    },
    {
      "cell_type": "markdown",
      "source": [
        "somar todos os elementos"
      ],
      "metadata": {
        "id": "ZN7-xQoSkPp9"
      }
    },
    {
      "cell_type": "code",
      "source": [
        "dados = np.array([1, 2, 3, 1 ,4 , 4, 5])\n",
        "                 # 1 1 2 3 4 4 5\n",
        "soma=np.sum(dados)\n",
        "print('Soma:',soma)"
      ],
      "metadata": {
        "colab": {
          "base_uri": "https://localhost:8080/"
        },
        "id": "wnt5NcK9jzZJ",
        "outputId": "9425ca40-4e87-40c8-df47-2137faacb6d0"
      },
      "execution_count": null,
      "outputs": [
        {
          "output_type": "stream",
          "name": "stdout",
          "text": [
            "Soma: 20\n"
          ]
        }
      ]
    },
    {
      "cell_type": "markdown",
      "source": [
        "Média aritmética dos elementos"
      ],
      "metadata": {
        "id": "35Mz-e2LkPJf"
      }
    },
    {
      "cell_type": "code",
      "source": [
        "media=np.mean(dados)\n",
        "print('Média',media)"
      ],
      "metadata": {
        "colab": {
          "base_uri": "https://localhost:8080/"
        },
        "id": "nT5rnsvKkiVw",
        "outputId": "cff063a1-7bc1-4498-94cc-7e2e9009d6ab"
      },
      "execution_count": null,
      "outputs": [
        {
          "output_type": "stream",
          "name": "stdout",
          "text": [
            "Média 3.0\n"
          ]
        }
      ]
    },
    {
      "cell_type": "markdown",
      "source": [
        "Valor central quando os dados são ordenados"
      ],
      "metadata": {
        "id": "P2RbfPD7lMRK"
      }
    },
    {
      "cell_type": "code",
      "source": [
        "mediana=np.median(dados)\n",
        "print('Mediana:',mediana)"
      ],
      "metadata": {
        "colab": {
          "base_uri": "https://localhost:8080/"
        },
        "id": "s4TE1yXBk7un",
        "outputId": "544e7a86-744c-4a83-e0da-3e3b5ccdea84"
      },
      "execution_count": null,
      "outputs": [
        {
          "output_type": "stream",
          "name": "stdout",
          "text": [
            "Mediana: 3.0\n"
          ]
        }
      ]
    },
    {
      "cell_type": "markdown",
      "source": [
        "Min e Max"
      ],
      "metadata": {
        "id": "TfC-etQtlghN"
      }
    },
    {
      "cell_type": "code",
      "source": [
        "minimo=np.min(dados)\n",
        "print('Valor Minimo:',minimo)"
      ],
      "metadata": {
        "colab": {
          "base_uri": "https://localhost:8080/"
        },
        "id": "sqH84xhqlfM0",
        "outputId": "8e5035e2-495b-4513-a8c7-241b8248fc8d"
      },
      "execution_count": null,
      "outputs": [
        {
          "output_type": "stream",
          "name": "stdout",
          "text": [
            "Valor Minimo: 1\n"
          ]
        }
      ]
    },
    {
      "cell_type": "code",
      "source": [
        "maximo=np.max(dados)\n",
        "print('Valor Máximo',maximo)"
      ],
      "metadata": {
        "colab": {
          "base_uri": "https://localhost:8080/"
        },
        "id": "VaVZYIUTn58V",
        "outputId": "40675c32-ba5d-43ca-f8d8-4aac52d56aa9"
      },
      "execution_count": null,
      "outputs": [
        {
          "output_type": "stream",
          "name": "stdout",
          "text": [
            "Valor Máximo 5\n"
          ]
        }
      ]
    },
    {
      "cell_type": "markdown",
      "source": [
        " Índice do valor mínimo e máximo"
      ],
      "metadata": {
        "id": "0NlvW72Zoec7"
      }
    },
    {
      "cell_type": "code",
      "source": [
        "indice_minimo = np.argmin(dados)\n",
        "print('Indice do mínimo',indice_minimo)"
      ],
      "metadata": {
        "colab": {
          "base_uri": "https://localhost:8080/"
        },
        "id": "SyspQH9hodAq",
        "outputId": "b46584c3-854b-4984-d739-3fa84a28e517"
      },
      "execution_count": null,
      "outputs": [
        {
          "output_type": "stream",
          "name": "stdout",
          "text": [
            "Indice do mínimo 0\n"
          ]
        }
      ]
    },
    {
      "cell_type": "code",
      "source": [
        "indice_maximo = np.argmax(dados)\n",
        "print('Indice do mínimo',indice_maximo)"
      ],
      "metadata": {
        "colab": {
          "base_uri": "https://localhost:8080/"
        },
        "id": "AAwZvKWgosLP",
        "outputId": "9990b109-68ce-40c0-c9ad-c84288252def"
      },
      "execution_count": null,
      "outputs": [
        {
          "output_type": "stream",
          "name": "stdout",
          "text": [
            "Indice do mínimo 6\n"
          ]
        }
      ]
    },
    {
      "cell_type": "markdown",
      "source": [
        "![image.png](data:image/png;base64,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)"
      ],
      "metadata": {
        "id": "fFPpKckwpVmi"
      }
    },
    {
      "cell_type": "code",
      "source": [
        "percentil_50=np.percentile(dados,50)\n",
        "print(percentil_50)"
      ],
      "metadata": {
        "colab": {
          "base_uri": "https://localhost:8080/"
        },
        "id": "COG_a7HZpWj3",
        "outputId": "f9ef6af0-e87e-4ac0-ef34-9cdd8a801423"
      },
      "execution_count": null,
      "outputs": [
        {
          "output_type": "stream",
          "name": "stdout",
          "text": [
            "3.0\n"
          ]
        }
      ]
    },
    {
      "cell_type": "markdown",
      "source": [
        "Quartis\n",
        "Os quartis são percentis específicos:\n",
        "\n",
        "Q1 (25%) — Primeiro quartil\n",
        "\n",
        "Q2 (50%) — Mediana\n",
        "\n",
        "Q3 (75%) — Terceiro quartil"
      ],
      "metadata": {
        "id": "XHxOXKC2p2K1"
      }
    },
    {
      "cell_type": "code",
      "source": [
        "primeiro_quartil=np.percentile(dados,25)\n",
        "print(primeiro_quartil)"
      ],
      "metadata": {
        "colab": {
          "base_uri": "https://localhost:8080/"
        },
        "id": "uwHg5djop4OQ",
        "outputId": "10b49245-279e-4a9b-abd9-1b6c223506fc"
      },
      "execution_count": null,
      "outputs": [
        {
          "output_type": "stream",
          "name": "stdout",
          "text": [
            "1.5\n"
          ]
        }
      ]
    },
    {
      "cell_type": "code",
      "source": [
        "terceiro_quartil=np.percentile(dados,75)\n",
        "print(terceiro_quartil)"
      ],
      "metadata": {
        "colab": {
          "base_uri": "https://localhost:8080/"
        },
        "id": "wKN7-hjmqKM0",
        "outputId": "0b269fbe-7ba3-4eee-b8dc-f75b872797f0"
      },
      "execution_count": null,
      "outputs": [
        {
          "output_type": "stream",
          "name": "stdout",
          "text": [
            "4.0\n"
          ]
        }
      ]
    },
    {
      "cell_type": "code",
      "source": [
        "quartil_100=np.percentile(dados,100)\n",
        "print(quartil_100)"
      ],
      "metadata": {
        "colab": {
          "base_uri": "https://localhost:8080/"
        },
        "id": "B98NTsgwqlo-",
        "outputId": "44d1d7be-eb80-4b23-848f-84c317941bc2"
      },
      "execution_count": null,
      "outputs": [
        {
          "output_type": "stream",
          "name": "stdout",
          "text": [
            "5.0\n"
          ]
        }
      ]
    },
    {
      "cell_type": "markdown",
      "source": [
        "Amplitude"
      ],
      "metadata": {
        "id": "jyqjvRDfq6b9"
      }
    },
    {
      "cell_type": "code",
      "source": [
        "amplitude=np.ptp(dados)\n",
        "print(amplitude)"
      ],
      "metadata": {
        "colab": {
          "base_uri": "https://localhost:8080/"
        },
        "id": "HmV8vyqYq7xt",
        "outputId": "c9402925-afd6-472f-a083-338adb77324a"
      },
      "execution_count": null,
      "outputs": [
        {
          "output_type": "stream",
          "name": "stdout",
          "text": [
            "4\n"
          ]
        }
      ]
    },
    {
      "cell_type": "markdown",
      "source": [
        "Valores únicos e contagem de ocorrências\n"
      ],
      "metadata": {
        "id": "8AT9Pz7IwLcu"
      }
    },
    {
      "cell_type": "code",
      "source": [
        "unico=np.unique(dados)\n",
        "unico"
      ],
      "metadata": {
        "colab": {
          "base_uri": "https://localhost:8080/"
        },
        "id": "rKyHoySJvnZ_",
        "outputId": "d5ada339-6c71-4ef5-b888-db9d8cee4854"
      },
      "execution_count": null,
      "outputs": [
        {
          "output_type": "execute_result",
          "data": {
            "text/plain": [
              "array([1, 2, 3, 4, 5])"
            ]
          },
          "metadata": {},
          "execution_count": 73
        }
      ]
    }
  ]
}