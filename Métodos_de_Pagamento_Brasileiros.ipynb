{
  "nbformat": 4,
  "nbformat_minor": 0,
  "metadata": {
    "colab": {
      "provenance": [],
      "authorship_tag": "ABX9TyPw5TKYhO+wDjPTziaBpCnb",
      "include_colab_link": true
    },
    "kernelspec": {
      "name": "python3",
      "display_name": "Python 3"
    },
    "language_info": {
      "name": "python"
    }
  },
  "cells": [
    {
      "cell_type": "markdown",
      "metadata": {
        "id": "view-in-github",
        "colab_type": "text"
      },
      "source": [
        "<a href=\"https://colab.research.google.com/github/SilviaNeves/Mini-Wiki-Silvia/blob/main/M%C3%A9todos_de_Pagamento_Brasileiros.ipynb\" target=\"_parent\"><img src=\"https://colab.research.google.com/assets/colab-badge.svg\" alt=\"Open In Colab\"/></a>"
      ]
    },
    {
      "cell_type": "markdown",
      "source": [
        "Importando as bibliotecas necessárias"
      ],
      "metadata": {
        "id": "c-6CXb50Y4Ca"
      }
    },
    {
      "cell_type": "code",
      "execution_count": 125,
      "metadata": {
        "id": "nHqeKXp4YLRa"
      },
      "outputs": [],
      "source": [
        "import pandas as pd\n",
        "import matplotlib.pyplot as plt  # Para visualização de dados\n",
        "import numpy as np  # Para cálculos numéricos\n"
      ]
    },
    {
      "cell_type": "markdown",
      "source": [
        "**1 - Carregando o dataset \"brazilian_payment_methods.csv\" usando o Pandas e exibindo as primeiras 5 linhas**"
      ],
      "metadata": {
        "id": "Dc9mZkm3Y6N8"
      }
    },
    {
      "cell_type": "code",
      "source": [
        "url = \"https://docs.google.com/spreadsheets/d/1py2jGg9y4raWJ-fr7p97lyWfchzWXZzc3u8F2V9WvYc/export?format=csv\"\n",
        "df = pd.read_csv(url)"
      ],
      "metadata": {
        "id": "FBr1cyG-YhRN"
      },
      "execution_count": 126,
      "outputs": []
    },
    {
      "cell_type": "markdown",
      "source": [
        "Visualizando as primeiras linhas do dataset para garantir que ele foi carregado corretamente"
      ],
      "metadata": {
        "id": "Rq591jcuZUMz"
      }
    },
    {
      "cell_type": "code",
      "source": [
        "print(df.head())"
      ],
      "metadata": {
        "colab": {
          "base_uri": "https://localhost:8080/"
        },
        "collapsed": true,
        "id": "PkDxTCmAYxBD",
        "outputId": "8a2b64c8-440b-41dc-d30f-b3a78a2744b5"
      },
      "execution_count": 127,
      "outputs": [
        {
          "output_type": "stream",
          "name": "stdout",
          "text": [
            "   YearMonth  quantityPix    valuePix  quantityTED    valueTED  quantityTEC  \\\n",
            "0     202405   5228826.97  2137205.79     69023.11  3482036.97         0.00   \n",
            "1     202404   4924681.00  2083746.68     70647.15  3652606.48         0.00   \n",
            "2     202403   4903392.34  1936188.21     67565.05  3333054.27         0.00   \n",
            "3     202402   4367133.78  1718217.65     65805.87  2981226.45        60.01   \n",
            "4     202401   4371541.99  1818473.97     70343.25  3337344.85       387.18   \n",
            "\n",
            "   valueTEC  quantityBankCheck  valueBankCheck  \\\n",
            "0      0.00           10467.85        40133.55   \n",
            "1      0.00           11179.22        43295.40   \n",
            "2      0.00           10122.46        36644.55   \n",
            "3    109.32           10373.38        37076.26   \n",
            "4    815.94           11919.12        41615.89   \n",
            "\n",
            "   quantityBrazilianBoletoPayment  valueBrazilianBoletoPayment  quantityDOC  \\\n",
            "0                       349180.92                    506302.82         0.00   \n",
            "1                       361633.28                    524619.69         0.00   \n",
            "2                       336435.46                    469047.59         0.00   \n",
            "3                       332269.47                    463066.01        61.89   \n",
            "4                       363550.32                    516702.44       600.76   \n",
            "\n",
            "   valueDOC  \n",
            "0      0.00  \n",
            "1      0.00  \n",
            "2      0.00  \n",
            "3     34.21  \n",
            "4    616.58  \n"
          ]
        }
      ]
    },
    {
      "cell_type": "markdown",
      "source": [
        "**2 - Troca dos Nomes das Colunas para Português**\n",
        "Troque os nomes das colunas do dataset para português, conforme as traduções fornecidas:\n",
        "\n",
        " Criação de um dicionário com os nomes das colunas em inglês e suas traduções em português.\n",
        "\n"
      ],
      "metadata": {
        "id": "e4FdPnBIZtDL"
      }
    },
    {
      "cell_type": "code",
      "source": [
        "new_column_names = {\n",
        "    \"YearMonth\": \"O mês de referência no formato AAAAMM\",\n",
        "    \"quantityPix\": \"Número de transações PIX\",\n",
        "    \"valuePix\": \"Valor total das transações PIX\",\n",
        "    \"quantityTED\": \"Número de transações TED\",\n",
        "    \"valueTED\": \"Valor total das transações TED\",\n",
        "    \"quantityTEC\": \"Número de transações TEC\",\n",
        "    \"valueTEC\": \"Valor Total das Transações TEC\",\n",
        "    \"quantityBankCheck\": \"Número de transações de cheque\",\n",
        "    \"valueBankCheck\": \"Valor total das transações de cheque\",\n",
        "    \"quantityBrazilianBoletoPayment\": \"Número de transações de boleto\",\n",
        "    \"valueBrazilianBoletoPayment\": \"Valor total das transações de boleto\",\n",
        "    \"quantityDOC\": \"Número de transações DOC\",\n",
        "    \"valueDOC\": \"Valor total das transações DOC\"\n",
        "}\n",
        "\n"
      ],
      "metadata": {
        "id": "73mpevBEZ1g9"
      },
      "execution_count": 128,
      "outputs": []
    },
    {
      "cell_type": "markdown",
      "source": [
        "Usando o método rename do Pandas para renomear as colunas"
      ],
      "metadata": {
        "id": "JC-1B9C_fCPU"
      }
    },
    {
      "cell_type": "code",
      "source": [
        "df.rename(columns=new_column_names, inplace=True)"
      ],
      "metadata": {
        "id": "sMVzVt4Be5gc"
      },
      "execution_count": 129,
      "outputs": []
    },
    {
      "cell_type": "markdown",
      "source": [
        "Visualizando as primeiras linhas do dataset para verificar as mudanças\n",
        "print(df.head())"
      ],
      "metadata": {
        "id": "F-Se49_nf44v"
      }
    },
    {
      "cell_type": "code",
      "source": [
        "print(df.head())"
      ],
      "metadata": {
        "colab": {
          "base_uri": "https://localhost:8080/"
        },
        "collapsed": true,
        "id": "PMDgfSEOgFXe",
        "outputId": "0ed14304-7bc6-4414-8f3a-b0268a5017bb"
      },
      "execution_count": 130,
      "outputs": [
        {
          "output_type": "stream",
          "name": "stdout",
          "text": [
            "   O mês de referência no formato AAAAMM  Número de transações PIX  \\\n",
            "0                                 202405                5228826.97   \n",
            "1                                 202404                4924681.00   \n",
            "2                                 202403                4903392.34   \n",
            "3                                 202402                4367133.78   \n",
            "4                                 202401                4371541.99   \n",
            "\n",
            "   Valor total das transações PIX  Número de transações TED  \\\n",
            "0                      2137205.79                  69023.11   \n",
            "1                      2083746.68                  70647.15   \n",
            "2                      1936188.21                  67565.05   \n",
            "3                      1718217.65                  65805.87   \n",
            "4                      1818473.97                  70343.25   \n",
            "\n",
            "   Valor total das transações TED  Número de transações TEC  \\\n",
            "0                      3482036.97                      0.00   \n",
            "1                      3652606.48                      0.00   \n",
            "2                      3333054.27                      0.00   \n",
            "3                      2981226.45                     60.01   \n",
            "4                      3337344.85                    387.18   \n",
            "\n",
            "   Valor Total das Transações TEC  Número de transações de cheque  \\\n",
            "0                            0.00                        10467.85   \n",
            "1                            0.00                        11179.22   \n",
            "2                            0.00                        10122.46   \n",
            "3                          109.32                        10373.38   \n",
            "4                          815.94                        11919.12   \n",
            "\n",
            "   Valor total das transações de cheque  Número de transações de boleto  \\\n",
            "0                              40133.55                       349180.92   \n",
            "1                              43295.40                       361633.28   \n",
            "2                              36644.55                       336435.46   \n",
            "3                              37076.26                       332269.47   \n",
            "4                              41615.89                       363550.32   \n",
            "\n",
            "   Valor total das transações de boleto  Número de transações DOC  \\\n",
            "0                             506302.82                      0.00   \n",
            "1                             524619.69                      0.00   \n",
            "2                             469047.59                      0.00   \n",
            "3                             463066.01                     61.89   \n",
            "4                             516702.44                    600.76   \n",
            "\n",
            "   Valor total das transações DOC  \n",
            "0                            0.00  \n",
            "1                            0.00  \n",
            "2                            0.00  \n",
            "3                           34.21  \n",
            "4                          616.58  \n"
          ]
        }
      ]
    },
    {
      "cell_type": "markdown",
      "source": [
        "**3 - Seleção de Colunas:**\n",
        "\n",
        "Selecionando apenas as colunas YearMonth, quantityPix, e valuePix."
      ],
      "metadata": {
        "id": "Yf7FzxsZgVoO"
      }
    },
    {
      "cell_type": "code",
      "source": [
        "colunas_selecionadas = df[['O mês de referência no formato AAAAMM', 'Número de transações PIX', 'Valor total das transações PIX']]"
      ],
      "metadata": {
        "id": "QiuyPGZrieMk"
      },
      "execution_count": 131,
      "outputs": []
    },
    {
      "cell_type": "markdown",
      "source": [
        "E exibindo as primeiras 10 linhas"
      ],
      "metadata": {
        "id": "JuCykvc_jAno"
      }
    },
    {
      "cell_type": "code",
      "source": [
        "print(colunas_selecionadas.head(10))"
      ],
      "metadata": {
        "colab": {
          "base_uri": "https://localhost:8080/"
        },
        "collapsed": true,
        "id": "bTtHGt5FjJE9",
        "outputId": "454c68b7-6338-4302-ff93-c930b1656894"
      },
      "execution_count": 132,
      "outputs": [
        {
          "output_type": "stream",
          "name": "stdout",
          "text": [
            "   O mês de referência no formato AAAAMM  Número de transações PIX  \\\n",
            "0                                 202405                5228826.97   \n",
            "1                                 202404                4924681.00   \n",
            "2                                 202403                4903392.34   \n",
            "3                                 202402                4367133.78   \n",
            "4                                 202401                4371541.99   \n",
            "5                                 202312                4804459.10   \n",
            "6                                 202311                4231283.46   \n",
            "7                                 202310                4069683.33   \n",
            "8                                 202309                3846749.03   \n",
            "9                                 202308                3767327.85   \n",
            "\n",
            "   Valor total das transações PIX  \n",
            "0                      2137205.79  \n",
            "1                      2083746.68  \n",
            "2                      1936188.21  \n",
            "3                      1718217.65  \n",
            "4                      1818473.97  \n",
            "5                      1933836.67  \n",
            "6                      1740874.02  \n",
            "7                      1666062.39  \n",
            "8                      1539042.27  \n",
            "9                      1529362.91  \n"
          ]
        }
      ]
    },
    {
      "cell_type": "markdown",
      "source": [
        "**4 - Filtragem de Dados:**\n",
        "\n",
        "Filtre o dataset para exibir apenas as linhas onde o valor total das transações PIX (valuePix) foi maior que 1.000.000\n"
      ],
      "metadata": {
        "id": "FBGfdlpRjsnA"
      }
    },
    {
      "cell_type": "code",
      "source": [
        "df_filtrado = df[df['Valor total das transações PIX'] > 1000000]"
      ],
      "metadata": {
        "id": "ogUP4iaVjx-n"
      },
      "execution_count": 133,
      "outputs": []
    },
    {
      "cell_type": "markdown",
      "source": [
        "Exibindo o DataFrame filtrado"
      ],
      "metadata": {
        "id": "RouUGVP3kPZu"
      }
    },
    {
      "cell_type": "code",
      "source": [
        "print(df_filtrado)"
      ],
      "metadata": {
        "colab": {
          "base_uri": "https://localhost:8080/"
        },
        "collapsed": true,
        "id": "ykys60uNkUJu",
        "outputId": "9b79606c-67a8-4db2-d51d-d013c5c74ff8"
      },
      "execution_count": 134,
      "outputs": [
        {
          "output_type": "stream",
          "name": "stdout",
          "text": [
            "    O mês de referência no formato AAAAMM  Número de transações PIX  \\\n",
            "0                                  202405                5228826.97   \n",
            "1                                  202404                4924681.00   \n",
            "2                                  202403                4903392.34   \n",
            "3                                  202402                4367133.78   \n",
            "4                                  202401                4371541.99   \n",
            "5                                  202312                4804459.10   \n",
            "6                                  202311                4231283.46   \n",
            "7                                  202310                4069683.33   \n",
            "8                                  202309                3846749.03   \n",
            "9                                  202308                3767327.85   \n",
            "10                                 202307                3532968.05   \n",
            "11                                 202306                3296756.82   \n",
            "12                                 202305                3189216.58   \n",
            "13                                 202304                2910507.92   \n",
            "14                                 202303                3001956.41   \n",
            "15                                 202302                2539124.77   \n",
            "16                                 202301                2575314.32   \n",
            "17                                 202212                2876769.59   \n",
            "18                                 202211                2499996.99   \n",
            "19                                 202210                2436652.95   \n",
            "20                                 202209                2287675.99   \n",
            "\n",
            "    Valor total das transações PIX  Número de transações TED  \\\n",
            "0                       2137205.79                  69023.11   \n",
            "1                       2083746.68                  70647.15   \n",
            "2                       1936188.21                  67565.05   \n",
            "3                       1718217.65                  65805.87   \n",
            "4                       1818473.97                  70343.25   \n",
            "5                       1933836.67                  80202.26   \n",
            "6                       1740874.02                  74398.37   \n",
            "7                       1666062.39                  71870.52   \n",
            "8                       1539042.27                  69407.76   \n",
            "9                       1529362.91                  76572.58   \n",
            "10                      1422663.64                  71737.31   \n",
            "11                      1365737.17                  73637.38   \n",
            "12                      1343030.27                  75894.99   \n",
            "13                      1191585.30                  69286.74   \n",
            "14                      1280326.31                  80528.82   \n",
            "15                      1055639.24                  70232.83   \n",
            "16                      1111232.73                  77982.34   \n",
            "17                      1221473.50                  91361.54   \n",
            "18                      1075433.80                  83094.38   \n",
            "19                      1046436.42                  79833.93   \n",
            "20                      1019529.64                  85504.31   \n",
            "\n",
            "    Valor total das transações TED  Número de transações TEC  \\\n",
            "0                       3482036.97                      0.00   \n",
            "1                       3652606.48                      0.00   \n",
            "2                       3333054.27                      0.00   \n",
            "3                       2981226.45                     60.01   \n",
            "4                       3337344.85                    387.18   \n",
            "5                       3629758.88                   1152.37   \n",
            "6                       3135994.81                    754.56   \n",
            "7                       3325168.12                    664.92   \n",
            "8                       3190049.86                    483.31   \n",
            "9                       3406864.68                    614.09   \n",
            "10                      3363337.34                    667.68   \n",
            "11                      3658988.12                    710.66   \n",
            "12                      3763925.98                    620.33   \n",
            "13                      3234549.03                    661.70   \n",
            "14                      3635596.42                    680.54   \n",
            "15                      2889422.93                    645.05   \n",
            "16                      3394583.49                    632.37   \n",
            "17                      3810324.55                   1272.38   \n",
            "18                      3323697.77                    602.37   \n",
            "19                      3248099.31                    657.19   \n",
            "20                      3471556.34                    483.81   \n",
            "\n",
            "    Valor Total das Transações TEC  Número de transações de cheque  \\\n",
            "0                             0.00                        10467.85   \n",
            "1                             0.00                        11179.22   \n",
            "2                             0.00                        10122.46   \n",
            "3                           109.32                        10373.38   \n",
            "4                           815.94                        11919.12   \n",
            "5                          2498.31                        11241.91   \n",
            "6                          1711.45                        11866.27   \n",
            "7                          1578.12                        12902.42   \n",
            "8                          1085.19                        11916.38   \n",
            "9                          1481.22                        13113.98   \n",
            "10                         1589.98                        12782.70   \n",
            "11                         1683.40                        12898.39   \n",
            "12                         1492.52                        14171.91   \n",
            "13                         1594.82                        12188.20   \n",
            "14                         1584.04                        13763.41   \n",
            "15                         1512.53                        12393.22   \n",
            "16                         1438.59                        14091.41   \n",
            "17                         2757.91                        14246.95   \n",
            "18                         1316.40                        14501.40   \n",
            "19                         1535.22                        14985.60   \n",
            "20                         1073.51                        15454.12   \n",
            "\n",
            "    Valor total das transações de cheque  Número de transações de boleto  \\\n",
            "0                               40133.55                       349180.92   \n",
            "1                               43295.40                       361633.28   \n",
            "2                               36644.55                       336435.46   \n",
            "3                               37076.26                       332269.47   \n",
            "4                               41615.89                       363550.32   \n",
            "5                               39208.22                       337552.05   \n",
            "6                               40735.16                       345234.36   \n",
            "7                               46646.90                       362721.59   \n",
            "8                               41653.43                       340115.13   \n",
            "9                               46973.84                       360865.30   \n",
            "10                              43634.75                       353354.67   \n",
            "11                              44354.61                       348653.58   \n",
            "12                              50982.54                       366029.09   \n",
            "13                              43399.52                       326293.01   \n",
            "14                              55997.48                       362664.11   \n",
            "15                              50947.11                       325643.69   \n",
            "16                              46687.43                       357005.85   \n",
            "17                              47529.19                       349044.00   \n",
            "18                              48575.49                       349118.91   \n",
            "19                              49550.28                       353610.13   \n",
            "20                              52438.11                       350208.81   \n",
            "\n",
            "    Valor total das transações de boleto  Número de transações DOC  \\\n",
            "0                              506302.82                      0.00   \n",
            "1                              524619.69                      0.00   \n",
            "2                              469047.59                      0.00   \n",
            "3                              463066.01                     61.89   \n",
            "4                              516702.44                    600.76   \n",
            "5                              484391.91                   1412.03   \n",
            "6                              490503.75                   1506.38   \n",
            "7                              512336.66                   1746.38   \n",
            "8                              471176.87                   2636.88   \n",
            "9                              501254.74                   5253.95   \n",
            "10                             479276.62                   4722.99   \n",
            "11                             475375.14                   3810.80   \n",
            "12                             509111.41                   4139.19   \n",
            "13                             443418.56                   2378.17   \n",
            "14                             487777.17                   2595.33   \n",
            "15                             427177.90                   2436.12   \n",
            "16                             479459.52                   2499.45   \n",
            "17                             478219.38                   3211.72   \n",
            "18                             473580.19                   3248.99   \n",
            "19                             477418.67                   3411.03   \n",
            "20                             475684.01                   4247.83   \n",
            "\n",
            "    Valor total das transações DOC  \n",
            "0                             0.00  \n",
            "1                             0.00  \n",
            "2                             0.00  \n",
            "3                            34.21  \n",
            "4                           616.58  \n",
            "5                          1399.42  \n",
            "6                          1521.77  \n",
            "7                          1763.79  \n",
            "8                          2532.14  \n",
            "9                          3197.77  \n",
            "10                         4401.98  \n",
            "11                         4006.27  \n",
            "12                         4971.97  \n",
            "13                         2279.99  \n",
            "14                         2565.47  \n",
            "15                         2367.58  \n",
            "16                         2534.06  \n",
            "17                         3117.79  \n",
            "18                         3187.94  \n",
            "19                         3278.90  \n",
            "20                         4047.07  \n"
          ]
        }
      ]
    },
    {
      "cell_type": "markdown",
      "source": [
        "**5 - Criação de Nova Coluna:**\n",
        "\n",
        "Crie uma nova coluna chamada averagePixValue que contenha o valor médio por transação PIX (ou seja, valuePix / quantityPix).\n"
      ],
      "metadata": {
        "id": "YtkMGdH5ku0W"
      }
    },
    {
      "cell_type": "code",
      "source": [
        "df['averagePixValue'] = df['Valor total das transações PIX'] / df['Número de transações PIX']"
      ],
      "metadata": {
        "id": "fN4x8GlEk6KZ"
      },
      "execution_count": 135,
      "outputs": []
    },
    {
      "cell_type": "markdown",
      "source": [
        "Exibindo as primeiras linhas do DataFrame com a nova coluna"
      ],
      "metadata": {
        "id": "ynZTn6CqlNxx"
      }
    },
    {
      "cell_type": "code",
      "source": [
        "print(df.head())"
      ],
      "metadata": {
        "colab": {
          "base_uri": "https://localhost:8080/"
        },
        "collapsed": true,
        "id": "6-nSVLBplRns",
        "outputId": "fbd141d3-0edc-412b-824d-88831600368c"
      },
      "execution_count": 136,
      "outputs": [
        {
          "output_type": "stream",
          "name": "stdout",
          "text": [
            "   O mês de referência no formato AAAAMM  Número de transações PIX  \\\n",
            "0                                 202405                5228826.97   \n",
            "1                                 202404                4924681.00   \n",
            "2                                 202403                4903392.34   \n",
            "3                                 202402                4367133.78   \n",
            "4                                 202401                4371541.99   \n",
            "\n",
            "   Valor total das transações PIX  Número de transações TED  \\\n",
            "0                      2137205.79                  69023.11   \n",
            "1                      2083746.68                  70647.15   \n",
            "2                      1936188.21                  67565.05   \n",
            "3                      1718217.65                  65805.87   \n",
            "4                      1818473.97                  70343.25   \n",
            "\n",
            "   Valor total das transações TED  Número de transações TEC  \\\n",
            "0                      3482036.97                      0.00   \n",
            "1                      3652606.48                      0.00   \n",
            "2                      3333054.27                      0.00   \n",
            "3                      2981226.45                     60.01   \n",
            "4                      3337344.85                    387.18   \n",
            "\n",
            "   Valor Total das Transações TEC  Número de transações de cheque  \\\n",
            "0                            0.00                        10467.85   \n",
            "1                            0.00                        11179.22   \n",
            "2                            0.00                        10122.46   \n",
            "3                          109.32                        10373.38   \n",
            "4                          815.94                        11919.12   \n",
            "\n",
            "   Valor total das transações de cheque  Número de transações de boleto  \\\n",
            "0                              40133.55                       349180.92   \n",
            "1                              43295.40                       361633.28   \n",
            "2                              36644.55                       336435.46   \n",
            "3                              37076.26                       332269.47   \n",
            "4                              41615.89                       363550.32   \n",
            "\n",
            "   Valor total das transações de boleto  Número de transações DOC  \\\n",
            "0                             506302.82                      0.00   \n",
            "1                             524619.69                      0.00   \n",
            "2                             469047.59                      0.00   \n",
            "3                             463066.01                     61.89   \n",
            "4                             516702.44                    600.76   \n",
            "\n",
            "   Valor total das transações DOC  averagePixValue  \n",
            "0                            0.00         0.408735  \n",
            "1                            0.00         0.423123  \n",
            "2                            0.00         0.394867  \n",
            "3                           34.21         0.393443  \n",
            "4                          616.58         0.415980  \n"
          ]
        }
      ]
    },
    {
      "cell_type": "markdown",
      "source": [
        "**6 - Agrupamento de Dados (Groupby):**\n",
        "\n",
        "Agrupe os dados por ano (dica: extraia o ano da coluna YearMonth) e calcule a soma total do valor das transações PIX (valuePix) para cada ano.\n"
      ],
      "metadata": {
        "id": "OXLn2_D5lj2J"
      }
    },
    {
      "cell_type": "markdown",
      "source": [
        "\n",
        "Extraindo o ano da coluna 'YearMonth' e criando uma nova coluna 'Year'"
      ],
      "metadata": {
        "id": "H0hn4Nu_oTqR"
      }
    },
    {
      "cell_type": "code",
      "source": [
        "df['Year'] = pd.to_datetime(df['O mês de referência no formato AAAAMM']).dt.year"
      ],
      "metadata": {
        "id": "IvC-ad6LlprN"
      },
      "execution_count": 137,
      "outputs": []
    },
    {
      "cell_type": "markdown",
      "source": [
        " Agrupando os dados por ano e calculando a soma total de 'valuePix' para cada ano"
      ],
      "metadata": {
        "id": "J6w9KdLcoG1Z"
      }
    },
    {
      "cell_type": "code",
      "source": [
        "resultado = df.groupby('Year')['Valor total das transações PIX'].sum()\n",
        "print(resultado)"
      ],
      "metadata": {
        "colab": {
          "base_uri": "https://localhost:8080/"
        },
        "collapsed": true,
        "id": "k4i_8rqDmXpv",
        "outputId": "aff32053-54c2-4aba-c5fb-5e6b2fd91e3e"
      },
      "execution_count": 138,
      "outputs": [
        {
          "output_type": "stream",
          "name": "stdout",
          "text": [
            "Year\n",
            "1970    43118208.63\n",
            "Name: Valor total das transações PIX, dtype: float64\n"
          ]
        }
      ]
    },
    {
      "cell_type": "markdown",
      "source": [
        "**7 - Ordenação de Dados:**\n",
        "\n",
        "Ordene o dataset pela coluna valuePix em ordem decrescente e exiba as 10 transações com os maiores valores.\n"
      ],
      "metadata": {
        "id": "4ZblzbwLnEEU"
      }
    },
    {
      "cell_type": "markdown",
      "source": [
        "Ordenando o DataFrame pela coluna 'valuePix' em ordem decrescente"
      ],
      "metadata": {
        "id": "VyVhSp_-ojd4"
      }
    },
    {
      "cell_type": "code",
      "source": [
        "df_ordenado = df.sort_values(by='Valor total das transações PIX', ascending=False)"
      ],
      "metadata": {
        "id": "qXsoWKoUnKw1"
      },
      "execution_count": 139,
      "outputs": []
    },
    {
      "cell_type": "markdown",
      "source": [
        "Exibindo as 10 primeiras linhas do DataFrame ordenado"
      ],
      "metadata": {
        "id": "qug9Hzi8osmk"
      }
    },
    {
      "cell_type": "code",
      "source": [
        "print(df_ordenado.head(10))"
      ],
      "metadata": {
        "colab": {
          "base_uri": "https://localhost:8080/"
        },
        "collapsed": true,
        "id": "zVRU60Fvnj4S",
        "outputId": "bfe315f0-76be-41f9-efe1-ebb6fc7ef213"
      },
      "execution_count": 140,
      "outputs": [
        {
          "output_type": "stream",
          "name": "stdout",
          "text": [
            "   O mês de referência no formato AAAAMM  Número de transações PIX  \\\n",
            "0                                 202405                5228826.97   \n",
            "1                                 202404                4924681.00   \n",
            "2                                 202403                4903392.34   \n",
            "5                                 202312                4804459.10   \n",
            "4                                 202401                4371541.99   \n",
            "6                                 202311                4231283.46   \n",
            "3                                 202402                4367133.78   \n",
            "7                                 202310                4069683.33   \n",
            "8                                 202309                3846749.03   \n",
            "9                                 202308                3767327.85   \n",
            "\n",
            "   Valor total das transações PIX  Número de transações TED  \\\n",
            "0                      2137205.79                  69023.11   \n",
            "1                      2083746.68                  70647.15   \n",
            "2                      1936188.21                  67565.05   \n",
            "5                      1933836.67                  80202.26   \n",
            "4                      1818473.97                  70343.25   \n",
            "6                      1740874.02                  74398.37   \n",
            "3                      1718217.65                  65805.87   \n",
            "7                      1666062.39                  71870.52   \n",
            "8                      1539042.27                  69407.76   \n",
            "9                      1529362.91                  76572.58   \n",
            "\n",
            "   Valor total das transações TED  Número de transações TEC  \\\n",
            "0                      3482036.97                      0.00   \n",
            "1                      3652606.48                      0.00   \n",
            "2                      3333054.27                      0.00   \n",
            "5                      3629758.88                   1152.37   \n",
            "4                      3337344.85                    387.18   \n",
            "6                      3135994.81                    754.56   \n",
            "3                      2981226.45                     60.01   \n",
            "7                      3325168.12                    664.92   \n",
            "8                      3190049.86                    483.31   \n",
            "9                      3406864.68                    614.09   \n",
            "\n",
            "   Valor Total das Transações TEC  Número de transações de cheque  \\\n",
            "0                            0.00                        10467.85   \n",
            "1                            0.00                        11179.22   \n",
            "2                            0.00                        10122.46   \n",
            "5                         2498.31                        11241.91   \n",
            "4                          815.94                        11919.12   \n",
            "6                         1711.45                        11866.27   \n",
            "3                          109.32                        10373.38   \n",
            "7                         1578.12                        12902.42   \n",
            "8                         1085.19                        11916.38   \n",
            "9                         1481.22                        13113.98   \n",
            "\n",
            "   Valor total das transações de cheque  Número de transações de boleto  \\\n",
            "0                              40133.55                       349180.92   \n",
            "1                              43295.40                       361633.28   \n",
            "2                              36644.55                       336435.46   \n",
            "5                              39208.22                       337552.05   \n",
            "4                              41615.89                       363550.32   \n",
            "6                              40735.16                       345234.36   \n",
            "3                              37076.26                       332269.47   \n",
            "7                              46646.90                       362721.59   \n",
            "8                              41653.43                       340115.13   \n",
            "9                              46973.84                       360865.30   \n",
            "\n",
            "   Valor total das transações de boleto  Número de transações DOC  \\\n",
            "0                             506302.82                      0.00   \n",
            "1                             524619.69                      0.00   \n",
            "2                             469047.59                      0.00   \n",
            "5                             484391.91                   1412.03   \n",
            "4                             516702.44                    600.76   \n",
            "6                             490503.75                   1506.38   \n",
            "3                             463066.01                     61.89   \n",
            "7                             512336.66                   1746.38   \n",
            "8                             471176.87                   2636.88   \n",
            "9                             501254.74                   5253.95   \n",
            "\n",
            "   Valor total das transações DOC  averagePixValue  Year  \n",
            "0                            0.00         0.408735  1970  \n",
            "1                            0.00         0.423123  1970  \n",
            "2                            0.00         0.394867  1970  \n",
            "5                         1399.42         0.402509  1970  \n",
            "4                          616.58         0.415980  1970  \n",
            "6                         1521.77         0.411429  1970  \n",
            "3                           34.21         0.393443  1970  \n",
            "7                         1763.79         0.409384  1970  \n",
            "8                         2532.14         0.400089  1970  \n",
            "9                         3197.77         0.405954  1970  \n"
          ]
        }
      ]
    },
    {
      "cell_type": "markdown",
      "source": [
        "**8 - Contagem de Dados:**\n",
        "\n",
        "Conte quantos meses no dataset tiveram mais de 1.000.000 de transações PIX (quantityPix)\n"
      ],
      "metadata": {
        "id": "haHwZKiNoxph"
      }
    },
    {
      "cell_type": "markdown",
      "source": [
        "Filtrando os meses onde 'quantityPix' é maior que 1000000"
      ],
      "metadata": {
        "id": "6Ii8CEERpabK"
      }
    },
    {
      "cell_type": "code",
      "source": [
        "meses_acima_1milhao = df[df['Número de transações PIX'] > 1000000]"
      ],
      "metadata": {
        "id": "g_TXuxaFo4KV"
      },
      "execution_count": 141,
      "outputs": []
    },
    {
      "cell_type": "markdown",
      "source": [
        "Contando o número de meses filtrados"
      ],
      "metadata": {
        "id": "QJ4ygxq6pguK"
      }
    },
    {
      "cell_type": "code",
      "source": [
        "quantidade_meses = len(meses_acima_1milhao)"
      ],
      "metadata": {
        "id": "MawKzj3FpIUk"
      },
      "execution_count": 142,
      "outputs": []
    },
    {
      "cell_type": "markdown",
      "source": [
        "Exibindo a quantidade de meses"
      ],
      "metadata": {
        "id": "ggACJZY-pmpG"
      }
    },
    {
      "cell_type": "code",
      "source": [
        "print(f\"A quantidade de meses com mais de 1.000.000 de transações PIX é: {quantidade_meses}\")"
      ],
      "metadata": {
        "collapsed": true,
        "colab": {
          "base_uri": "https://localhost:8080/"
        },
        "id": "DeXfq6zPpS7B",
        "outputId": "72ec91f2-e46d-47ab-dc0c-85a20d18d642"
      },
      "execution_count": 143,
      "outputs": [
        {
          "output_type": "stream",
          "name": "stdout",
          "text": [
            "A quantidade de meses com mais de 1.000.000 de transações PIX é: 33\n"
          ]
        }
      ]
    },
    {
      "cell_type": "markdown",
      "source": [
        "**9 - Média e Mediana:**\n",
        "\n",
        "Calcule a média e a mediana do valor total das transações TED (valueTED).\n"
      ],
      "metadata": {
        "id": "iNBSV428qbUV"
      }
    },
    {
      "cell_type": "markdown",
      "source": [
        "Calculando a média da coluna 'valueTED'"
      ],
      "metadata": {
        "id": "OQe2zjaGrUKW"
      }
    },
    {
      "cell_type": "code",
      "source": [
        "media_ted = df['Valor total das transações TED'].mean()"
      ],
      "metadata": {
        "id": "TD3YNjwxqilr"
      },
      "execution_count": 144,
      "outputs": []
    },
    {
      "cell_type": "code",
      "source": [
        " #Exibindo os resultados\n",
        "print(f\"A média do valor total das transações TED é: {media_ted}\")"
      ],
      "metadata": {
        "colab": {
          "base_uri": "https://localhost:8080/"
        },
        "collapsed": true,
        "id": "jI0ScVtVrc2y",
        "outputId": "f89bc065-a0ea-4c8e-f355-0c6edb60f153"
      },
      "execution_count": 145,
      "outputs": [
        {
          "output_type": "stream",
          "name": "stdout",
          "text": [
            "A média do valor total das transações TED é: 2341739.6480198014\n"
          ]
        }
      ]
    },
    {
      "cell_type": "markdown",
      "source": [
        "Calculando a mediana da coluna 'valueTED'"
      ],
      "metadata": {
        "id": "aHnWtT0JrkNJ"
      }
    },
    {
      "cell_type": "code",
      "source": [
        "mediana_ted = df['Valor total das transações TED'].median()"
      ],
      "metadata": {
        "id": "_UU80XzDqz2G"
      },
      "execution_count": 146,
      "outputs": []
    },
    {
      "cell_type": "code",
      "source": [
        "# Exibindo os resultados\n",
        "print(f\"A mediana do valor total das transações TED é: {mediana_ted}\")"
      ],
      "metadata": {
        "colab": {
          "base_uri": "https://localhost:8080/"
        },
        "collapsed": true,
        "id": "hizeNHiwrAhc",
        "outputId": "8201a6ac-bd5a-4fcf-8e30-58cbbd7e20b5"
      },
      "execution_count": 147,
      "outputs": [
        {
          "output_type": "stream",
          "name": "stdout",
          "text": [
            "A mediana do valor total das transações TED é: 2217642.2\n"
          ]
        }
      ]
    },
    {
      "cell_type": "markdown",
      "source": [
        "**10 - Agrupamento e Agregação:**\n",
        "\n",
        "Agrupe os dados por ano e calcule a média do valor das transações de boleto (valueBrazilianBoletoPayment) para cada ano.\n"
      ],
      "metadata": {
        "id": "qdpXAKNUr7ef"
      }
    },
    {
      "cell_type": "markdown",
      "source": [
        "Extraindo o ano da coluna 'YearMonth' e cria uma nova coluna 'Year'"
      ],
      "metadata": {
        "id": "WaHPpMPxtQdb"
      }
    },
    {
      "cell_type": "code",
      "source": [
        "df['Year'] = pd.to_datetime(df['O mês de referência no formato AAAAMM']).dt.year"
      ],
      "metadata": {
        "id": "tC68e_l8sG-d"
      },
      "execution_count": 148,
      "outputs": []
    },
    {
      "cell_type": "markdown",
      "source": [
        "Agrupando os dados por ano e calculando a média de 'valueBrazilianBoletoPayment' para cada ano"
      ],
      "metadata": {
        "id": "DGH090hPtVi7"
      }
    },
    {
      "cell_type": "code",
      "source": [
        "resultado = df.groupby('Year')['Valor total das transações de boleto'].mean()"
      ],
      "metadata": {
        "id": "XoZ0WU9-sjj4"
      },
      "execution_count": 149,
      "outputs": []
    },
    {
      "cell_type": "code",
      "source": [
        "# Exibindo o resultado\n",
        "print(resultado)"
      ],
      "metadata": {
        "colab": {
          "base_uri": "https://localhost:8080/"
        },
        "collapsed": true,
        "id": "rcI6rcGdszuy",
        "outputId": "bc77e9e7-c114-43ee-a33a-2d6d56de819e"
      },
      "execution_count": 150,
      "outputs": [
        {
          "output_type": "stream",
          "name": "stdout",
          "text": [
            "Year\n",
            "1970    344113.619901\n",
            "Name: Valor total das transações de boleto, dtype: float64\n"
          ]
        }
      ]
    },
    {
      "cell_type": "markdown",
      "source": [
        "**11 - Visualização de Dados:**\n",
        "\n",
        "Crie um gráfico de linha para mostrar a evolução do valor total das transações PIX (valuePix) ao longo do tempo (use a coluna YearMonth como eixo x).\n"
      ],
      "metadata": {
        "id": "Y0Yia5dDtv2S"
      }
    },
    {
      "cell_type": "code",
      "source": [
        "# Cria o gráfico de linha\n",
        "plt.figure(figsize=(12, 6))\n",
        "plt.plot(df['O mês de referência no formato AAAAMM'], df['Valor total das transações PIX'])"
      ],
      "metadata": {
        "colab": {
          "base_uri": "https://localhost:8080/",
          "height": 555
        },
        "collapsed": true,
        "id": "fWqVOZLWu9np",
        "outputId": "f9632729-288d-4c0a-cba1-dd3786df414b"
      },
      "execution_count": 170,
      "outputs": [
        {
          "output_type": "execute_result",
          "data": {
            "text/plain": [
              "[<matplotlib.lines.Line2D at 0x7ab5211f1a90>]"
            ]
          },
          "metadata": {},
          "execution_count": 170
        },
        {
          "output_type": "display_data",
          "data": {
            "text/plain": [
              "<Figure size 1200x600 with 1 Axes>"
            ],
            "image/png": "[encoded data removed]"
          },
          "metadata": {}
        }
      ]
    },
    {
      "cell_type": "code",
      "source": [
        "# Adiciona título e rótulos aos eixos\n",
        "plt.title('Evolução do Valor Total das Transações PIX ao Longo do Tempo')\n",
        "plt.xlabel('Ano/Mês')\n",
        "plt.ylabel('Valor Total das Transações PIX')"
      ],
      "metadata": {
        "colab": {
          "base_uri": "https://localhost:8080/",
          "height": 490
        },
        "collapsed": true,
        "id": "0iWUfyx5vUhy",
        "outputId": "b5628bd4-834a-4036-c149-472b7484b485"
      },
      "execution_count": 153,
      "outputs": [
        {
          "output_type": "execute_result",
          "data": {
            "text/plain": [
              "Text(0, 0.5, 'Valor Total das Transações PIX')"
            ]
          },
          "metadata": {},
          "execution_count": 153
        },
        {
          "output_type": "display_data",
          "data": {
            "text/plain": [
              "<Figure size 640x480 with 1 Axes>"
            ],
            "image/png": "[encoded data removed]"
          },
          "metadata": {}
        }
      ]
    },
    {
      "cell_type": "code",
      "source": [
        "# Formata o eixo x para exibir os anos e meses de forma legível\n",
        "plt.gcf().autofmt_xdate()"
      ],
      "metadata": {
        "colab": {
          "base_uri": "https://localhost:8080/",
          "height": 35
        },
        "collapsed": true,
        "id": "jGIIisLUwlm9",
        "outputId": "0f2c1fb3-1d19-4033-b61d-05614cf0ee35"
      },
      "execution_count": 154,
      "outputs": [
        {
          "output_type": "display_data",
          "data": {
            "text/plain": [
              "<Figure size 640x480 with 0 Axes>"
            ]
          },
          "metadata": {}
        }
      ]
    },
    {
      "cell_type": "code",
      "source": [
        "# Salva o gráfico como uma imagem (opcional)\n",
        "plt.savefig('evolucao_pix.png')\n",
        "# Exibe o gráfico\n",
        "plt.show()"
      ],
      "metadata": {
        "colab": {
          "base_uri": "https://localhost:8080/",
          "height": 35
        },
        "collapsed": true,
        "id": "gdHLb7o6xF4r",
        "outputId": "da83c486-3478-4dbd-b040-50b69293d98b"
      },
      "execution_count": 155,
      "outputs": [
        {
          "output_type": "display_data",
          "data": {
            "text/plain": [
              "<Figure size 640x480 with 0 Axes>"
            ]
          },
          "metadata": {}
        }
      ]
    },
    {
      "cell_type": "markdown",
      "source": [
        "**12 - Substituição de Valores:**\n",
        "\n",
        "Substituindo todos os valores 0.0 na coluna quantityDOC por NaN (valores nulos).\n"
      ],
      "metadata": {
        "id": "P4elG808x_Vs"
      }
    },
    {
      "cell_type": "code",
      "source": [
        "df['Número de transações DOC'] = df['Número de transações DOC'].replace(0.0, np.nan)"
      ],
      "metadata": {
        "id": "b3OLdS5CyGx7"
      },
      "execution_count": 156,
      "outputs": []
    },
    {
      "cell_type": "markdown",
      "source": [
        "Exibinso as primeiras linhas do DataFrame para verificar a substituição"
      ],
      "metadata": {
        "id": "dJB7M4a6zKZN"
      }
    },
    {
      "cell_type": "code",
      "source": [
        "print(df.head())"
      ],
      "metadata": {
        "collapsed": true,
        "colab": {
          "base_uri": "https://localhost:8080/"
        },
        "id": "rVQsemf7y3q9",
        "outputId": "ea367c01-f1e4-4dfa-c0f0-2a8f4d375e6d"
      },
      "execution_count": 157,
      "outputs": [
        {
          "output_type": "stream",
          "name": "stdout",
          "text": [
            "  O mês de referência no formato AAAAMM  Número de transações PIX  \\\n",
            "0         1970-01-01 00:00:00.000202405                5228826.97   \n",
            "1         1970-01-01 00:00:00.000202404                4924681.00   \n",
            "2         1970-01-01 00:00:00.000202403                4903392.34   \n",
            "3         1970-01-01 00:00:00.000202402                4367133.78   \n",
            "4         1970-01-01 00:00:00.000202401                4371541.99   \n",
            "\n",
            "   Valor total das transações PIX  Número de transações TED  \\\n",
            "0                      2137205.79                  69023.11   \n",
            "1                      2083746.68                  70647.15   \n",
            "2                      1936188.21                  67565.05   \n",
            "3                      1718217.65                  65805.87   \n",
            "4                      1818473.97                  70343.25   \n",
            "\n",
            "   Valor total das transações TED  Número de transações TEC  \\\n",
            "0                      3482036.97                      0.00   \n",
            "1                      3652606.48                      0.00   \n",
            "2                      3333054.27                      0.00   \n",
            "3                      2981226.45                     60.01   \n",
            "4                      3337344.85                    387.18   \n",
            "\n",
            "   Valor Total das Transações TEC  Número de transações de cheque  \\\n",
            "0                            0.00                        10467.85   \n",
            "1                            0.00                        11179.22   \n",
            "2                            0.00                        10122.46   \n",
            "3                          109.32                        10373.38   \n",
            "4                          815.94                        11919.12   \n",
            "\n",
            "   Valor total das transações de cheque  Número de transações de boleto  \\\n",
            "0                              40133.55                       349180.92   \n",
            "1                              43295.40                       361633.28   \n",
            "2                              36644.55                       336435.46   \n",
            "3                              37076.26                       332269.47   \n",
            "4                              41615.89                       363550.32   \n",
            "\n",
            "   Valor total das transações de boleto  Número de transações DOC  \\\n",
            "0                             506302.82                       NaN   \n",
            "1                             524619.69                       NaN   \n",
            "2                             469047.59                       NaN   \n",
            "3                             463066.01                     61.89   \n",
            "4                             516702.44                    600.76   \n",
            "\n",
            "   Valor total das transações DOC  averagePixValue  Year  \n",
            "0                            0.00         0.408735  1970  \n",
            "1                            0.00         0.423123  1970  \n",
            "2                            0.00         0.394867  1970  \n",
            "3                           34.21         0.393443  1970  \n",
            "4                          616.58         0.415980  1970  \n"
          ]
        }
      ]
    },
    {
      "cell_type": "markdown",
      "source": [
        "**13 - Correlação entre Métodos de Pagamento:**\n",
        "\n",
        "Calcule a correlação entre o valor total das transações PIX (valuePix) e o valor total das transações TED (valueTED). O que você pode inferir sobre a relação entre esses dois métodos de pagamento?\n"
      ],
      "metadata": {
        "id": "VnmI2TDKzSoP"
      }
    },
    {
      "cell_type": "code",
      "source": [
        "correlacao = df['Valor total das transações PIX'].corr(df['Valor total das transações TED'])"
      ],
      "metadata": {
        "id": "EfG6OJ4SzZfz"
      },
      "execution_count": 158,
      "outputs": []
    },
    {
      "cell_type": "code",
      "source": [
        "# Exibe o resultado\n",
        "print(f\"A correlação entre o valor total das transações PIX e TED é: {correlacao}\")"
      ],
      "metadata": {
        "colab": {
          "base_uri": "https://localhost:8080/"
        },
        "collapsed": true,
        "id": "R8sBkv-Lzvr0",
        "outputId": "7d983df2-f3c6-4b3e-8a0e-95876cac8f31"
      },
      "execution_count": 159,
      "outputs": [
        {
          "output_type": "stream",
          "name": "stdout",
          "text": [
            "A correlação entre o valor total das transações PIX e TED é: 0.8132581546380627\n"
          ]
        }
      ]
    },
    {
      "cell_type": "markdown",
      "source": [
        "Interpretação da correlação"
      ],
      "metadata": {
        "id": "hKd4n2Bw0Iob"
      }
    },
    {
      "cell_type": "code",
      "source": [
        "if correlacao > 0:\n",
        "    print(\"Há uma correlação positiva entre os valores de PIX e TED, ou seja, quando um aumenta, o outro tende a aumentar também.\")\n",
        "elif correlacao < 0:\n",
        "    print(\"Há uma correlação negativa entre os valores de PIX e TED, ou seja, quando um aumenta, o outro tende a diminuir.\")\n",
        "else:\n",
        "    print(\"Não há correlação linear entre os valores de PIX e TED.\")\n"
      ],
      "metadata": {
        "colab": {
          "base_uri": "https://localhost:8080/"
        },
        "collapsed": true,
        "id": "wW1PZKGoz3tO",
        "outputId": "efbfe2d6-5ab4-4e20-9aa4-6b658b8d37fa"
      },
      "execution_count": 160,
      "outputs": [
        {
          "output_type": "stream",
          "name": "stdout",
          "text": [
            "Há uma correlação positiva entre os valores de PIX e TED, ou seja, quando um aumenta, o outro tende a aumentar também.\n"
          ]
        }
      ]
    },
    {
      "cell_type": "markdown",
      "source": [
        "14 - Comparação de Crescimento entre PIX e TED:\n",
        "\n",
        "Compare o crescimento percentual do valor total das transações PIX (valuePix) e TED (valueTED) ao longo do tempo.\n"
      ],
      "metadata": {
        "id": "2udfY-P90bTA"
      }
    },
    {
      "cell_type": "markdown",
      "source": [
        "Calculando o crescimento percentual do valor total das transações PIX"
      ],
      "metadata": {
        "id": "fr9BTjEc1Kgy"
      }
    },
    {
      "cell_type": "code",
      "source": [
        "df['CrescimentoPix'] = df['Valor total das transações PIX'].pct_change() * 100"
      ],
      "metadata": {
        "id": "jNLD8-qJ0fSz"
      },
      "execution_count": 161,
      "outputs": []
    },
    {
      "cell_type": "markdown",
      "source": [
        "Calculando o crescimento percentual do valor total das transações TED"
      ],
      "metadata": {
        "id": "fBmZaOfl1PdD"
      }
    },
    {
      "cell_type": "code",
      "source": [
        "df['CrescimentoTED'] = df['Valor total das transações TED'].pct_change() * 100"
      ],
      "metadata": {
        "id": "UPecbPp30sXI"
      },
      "execution_count": 162,
      "outputs": []
    },
    {
      "cell_type": "markdown",
      "source": [
        "Exibindo as primeiras linhas do DataFrame com as novas colunas de crescimento"
      ],
      "metadata": {
        "id": "xep1amRG1W6B"
      }
    },
    {
      "cell_type": "code",
      "source": [
        "print(df[['O mês de referência no formato AAAAMM', 'CrescimentoPix', 'CrescimentoTED']].head())"
      ],
      "metadata": {
        "colab": {
          "base_uri": "https://localhost:8080/"
        },
        "collapsed": true,
        "id": "4GGI1QhA0z46",
        "outputId": "bfed3a4f-d342-4322-e37c-ae8868adddac"
      },
      "execution_count": 163,
      "outputs": [
        {
          "output_type": "stream",
          "name": "stdout",
          "text": [
            "  O mês de referência no formato AAAAMM  CrescimentoPix  CrescimentoTED\n",
            "0         1970-01-01 00:00:00.000202405             NaN             NaN\n",
            "1         1970-01-01 00:00:00.000202404       -2.501355        4.898555\n",
            "2         1970-01-01 00:00:00.000202403       -7.081402       -8.748608\n",
            "3         1970-01-01 00:00:00.000202402      -11.257715      -10.555718\n",
            "4         1970-01-01 00:00:00.000202401        5.834902       11.945366\n"
          ]
        }
      ]
    },
    {
      "cell_type": "markdown",
      "source": [
        "**15 - Participação de Cada Método de Pagamento:**\n",
        "\n",
        "Calcule a participação percentual de cada método de pagamento (PIX, TED, TEC, Boleto, DOC e CHEQUE) no valor total das transações para o último mês disponível no dataset.\n"
      ],
      "metadata": {
        "id": "7QKEzX731grn"
      }
    },
    {
      "cell_type": "markdown",
      "source": [
        "Obtendo o último mês disponível no dataset"
      ],
      "metadata": {
        "id": "LgGzkObX4aq2"
      }
    },
    {
      "cell_type": "code",
      "source": [
        "ultimo_mes = df['O mês de referência no formato AAAAMM'].max()"
      ],
      "metadata": {
        "id": "6VyfFCKV10pf"
      },
      "execution_count": 164,
      "outputs": []
    },
    {
      "cell_type": "markdown",
      "source": [
        "Filtrando o DataFrame para incluir apenas o último mês"
      ],
      "metadata": {
        "id": "IgABVUbE4gdl"
      }
    },
    {
      "cell_type": "code",
      "source": [
        "df_ultimo_mes = df[df['O mês de referência no formato AAAAMM'] == ultimo_mes]"
      ],
      "metadata": {
        "id": "2BH3Or7j19tO"
      },
      "execution_count": 165,
      "outputs": []
    },
    {
      "cell_type": "markdown",
      "source": [
        "Calculando o valor total das transações para cada método de pagamento"
      ],
      "metadata": {
        "id": "aVdLX12n4lRu"
      }
    },
    {
      "cell_type": "code",
      "source": [
        "valor_pix = df_ultimo_mes['Valor total das transações PIX'].sum()\n",
        "valor_ted = df_ultimo_mes['Valor total das transações TED'].sum()\n",
        "valor_tec = df_ultimo_mes['Valor Total das Transações TEC'].sum()\n",
        "valor_boleto = df_ultimo_mes['Valor total das transações de boleto'].sum()\n",
        "valor_doc = df_ultimo_mes['Valor total das transações DOC'].sum()\n",
        "valor_cheque = df_ultimo_mes['Valor total das transações de cheque'].sum()"
      ],
      "metadata": {
        "id": "cjyAaZ9C2EKQ"
      },
      "execution_count": 166,
      "outputs": []
    },
    {
      "cell_type": "markdown",
      "source": [
        "Calculando o valor total das transações"
      ],
      "metadata": {
        "id": "8bHAX1cX4qUC"
      }
    },
    {
      "cell_type": "code",
      "source": [
        "valor_total = valor_pix + valor_ted + valor_tec + valor_boleto + valor_doc + valor_cheque"
      ],
      "metadata": {
        "id": "SrByOWYF3BT0"
      },
      "execution_count": 167,
      "outputs": []
    },
    {
      "cell_type": "markdown",
      "source": [
        "Calculando a participação percentual de cada método de pagamento"
      ],
      "metadata": {
        "id": "JhFE8Xx_4v2E"
      }
    },
    {
      "cell_type": "code",
      "source": [
        "participacao_pix = (valor_pix / valor_total) * 100\n",
        "participacao_ted = (valor_ted / valor_total) * 100\n",
        "participacao_tec = (valor_tec / valor_total) * 100\n",
        "participacao_boleto = (valor_boleto / valor_total) * 100\n",
        "participacao_doc = (valor_doc / valor_total) * 100\n",
        "participacao_cheque = (valor_cheque / valor_total) * 100"
      ],
      "metadata": {
        "id": "gQct4pRf3Eda"
      },
      "execution_count": 168,
      "outputs": []
    },
    {
      "cell_type": "markdown",
      "source": [
        "Exibindo os resultados"
      ],
      "metadata": {
        "id": "Qs3jqs9r43n8"
      }
    },
    {
      "cell_type": "code",
      "source": [
        "print(f\"Participação percentual no último mês ({ultimo_mes}):\")\n",
        "print(f\"PIX: {participacao_pix:.2f}%\")\n",
        "print(f\"TED: {participacao_ted:.2f}%\")\n",
        "print(f\"TEC: {participacao_tec:.2f}%\")\n",
        "print(f\"Boleto: {participacao_boleto:.2f}%\")\n",
        "print(f\"DOC: {participacao_doc:.2f}%\")\n",
        "print(f\"Cheque: {participacao_cheque:.2f}%\")"
      ],
      "metadata": {
        "colab": {
          "base_uri": "https://localhost:8080/"
        },
        "collapsed": true,
        "id": "XujOw8n43MNK",
        "outputId": "a1d3d849-f0d4-4c9d-83ea-a08cd3cc28ee"
      },
      "execution_count": 169,
      "outputs": [
        {
          "output_type": "stream",
          "name": "stdout",
          "text": [
            "Participação percentual no último mês (1970-01-01 00:00:00.000202405):\n",
            "PIX: 34.66%\n",
            "TED: 56.47%\n",
            "TEC: 0.00%\n",
            "Boleto: 8.21%\n",
            "DOC: 0.00%\n",
            "Cheque: 0.65%\n"
          ]
        }
      ]
    },
    {
      "cell_type": "markdown",
      "source": [
        "# Nova seção"
      ],
      "metadata": {
        "id": "q9GsQRSU4F6S"
      }
    }
  ]
}