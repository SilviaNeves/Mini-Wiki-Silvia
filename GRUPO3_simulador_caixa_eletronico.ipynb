{
  "nbformat": 4,
  "nbformat_minor": 0,
  "metadata": {
    "colab": {
      "provenance": [],
      "include_colab_link": true
    },
    "kernelspec": {
      "name": "python3",
      "display_name": "Python 3"
    },
    "language_info": {
      "name": "python"
    }
  },
  "cells": [
    {
      "cell_type": "markdown",
      "metadata": {
        "id": "view-in-github",
        "colab_type": "text"
      },
      "source": [
        "<a href=\"https://colab.research.google.com/github/SilviaNeves/Mini-Wiki-Silvia/blob/main/GRUPO3_simulador_caixa_eletronico.ipynb\" target=\"_parent\"><img src=\"https://colab.research.google.com/assets/colab-badge.svg\" alt=\"Open In Colab\"/></a>"
      ]
    },
    {
      "cell_type": "markdown",
      "source": [
        "Desenvolvimento de um Simulador de Caixa Eletrônico em Python\n",
        "Contexto\n",
        "Em um mundo onde a digitalização dos serviços bancários é cada vez mais essencial, a necessidade de proporcionar uma experiência prática e segura para os usuários é uma prioridade. Bancos e instituições financeiras buscam maneiras eficientes de educar seus clientes sobre o uso de caixas eletrônicos e aplicativos bancários. Pensando nisso, um Simulador de Caixa Eletrônico pode ajudar tanto na educação financeira quanto na prática de programação.\n",
        "Desafio\n",
        "Desenvolver um Simulador de Caixa Eletrônico utilizando a linguagem de programação Python, capaz de realizar operações bancárias simples como consulta de saldo, depósitos, saques e verificação de extrato. O sistema deve garantir a segurança do usuário através da implementação de uma senha de acesso e limitar a quantidade de saques diários.\n",
        "\n",
        "**Requisitos Funcionais**\n",
        "\n",
        "O sistema deverá ter as seguintes funcionalidades:\n",
        "  - Ver o saldo da conta:\n",
        "  - O usuário poderá consultar o saldo atual de sua conta a qualquer momento.\n",
        "  - O saldo inicial deve ser definido ao iniciar o programa e atualizado conforme transações realizadas.\n",
        "  - Depositar um valor:\n",
        "  - O usuário poderá adicionar um valor à sua conta, aumentando o saldo disponível.\n",
        "  - Deve haver validação para garantir que o valor informado seja positivo.\n",
        "  - Sacar um valor:\n",
        "  - O usuário poderá retirar um valor de sua conta, desde que haja saldo suficiente.\n",
        "  - O sistema deve verificar se o valor do saque não excede o saldo disponível.\n",
        "  - Ver o extrato das últimas transações:\n",
        "  - O usuário poderá visualizar um histórico das transações realizadas (depósitos e saques).\n",
        "  - O extrato deve mostrar o tipo de transação, o valor e a data/hora em que foi realizada.\n",
        "\n",
        "**Sair do sistema:**\n",
        "  - Finalizar a execução do programa de forma segura, salvando o histórico de transações para consultas futuras.\n",
        "\n",
        "**Desafios Extras:**\n",
        "\n",
        "Para tornar o sistema mais robusto e funcional, implemente as seguintes melhorias:\n",
        "  - Impedir saques acima do limite diário:\n",
        "  - Definir um limite máximo de saques por dia (ex: R$ 1.000,00).\n",
        "  - O sistema deve rastrear o total sacado no dia e impedir que o usuário exceda o limite definido.\n",
        "  - Implementar uma senha de acesso ao sistema:\n",
        "  - Solicitar uma senha ao iniciar o programa para garantir a segurança do usuário.\n",
        "  - Permitir um número limitado de tentativas (ex: 3 tentativas) antes de bloquear o acesso.\n",
        "  - Utilizar uma senha padrão (ex: 1234) que pode ser alterada pelo usuário após o primeiro acesso.\n"
      ],
      "metadata": {
        "id": "pdznjW7OfxSC"
      }
    },
    {
      "cell_type": "code",
      "source": [
        "import datetime\n",
        "\n",
        "saldo = 10\n",
        "senha = \"1234\"\n",
        "limite_saque = 1000\n",
        "saques_realizados = 0\n",
        "tentativas = 3\n",
        "extrato = []\n",
        "\n",
        "\n",
        "\n",
        "def autenticar_usuario():\n",
        "    global tentativas  # Para poder modificar a variável tentativas dentro da função\n",
        "    while tentativas > 0:\n",
        "        senha_digitada = input(\"Digite a senha: \")\n",
        "        if senha_digitada == senha:\n",
        "            print(\"Acesso permitido!\")\n",
        "            return True\n",
        "        else:\n",
        "            tentativas -= 1  # Decrementa o número de tentativas\n",
        "            print(f\"Senha incorreta. Você tem {tentativas} tentativas restantes.\")\n",
        "\n",
        "    print(\"Número de tentativas excedido. Acesso bloqueado.\")\n",
        "    return False\n",
        "\n",
        "autenticar_usuario()\n",
        "\n"
      ],
      "metadata": {
        "id": "nwjT7nseoXin",
        "colab": {
          "base_uri": "https://localhost:8080/"
        },
        "outputId": "284abb8b-3f74-466e-c41a-a92c04c4a8fb"
      },
      "execution_count": 82,
      "outputs": [
        {
          "output_type": "stream",
          "name": "stdout",
          "text": [
            "Digite a senha: 1234\n",
            "Acesso permitido!\n"
          ]
        },
        {
          "output_type": "execute_result",
          "data": {
            "text/plain": [
              "True"
            ]
          },
          "metadata": {},
          "execution_count": 82
        }
      ]
    },
    {
      "cell_type": "code",
      "source": [
        "def verificar_saldo():\n",
        "    print(f\"Seu saldo é de R${saldo:.2f}\")\n"
      ],
      "metadata": {
        "id": "70UbFHp2rUQ7"
      },
      "execution_count": 83,
      "outputs": []
    },
    {
      "cell_type": "code",
      "source": [
        "def depositar():\n",
        "    global saldo\n",
        "    valor_deposito = float(input(\"Digite o valor a ser depositado: \"))\n",
        "    if valor_deposito > 0:\n",
        "        saldo += valor_deposito\n",
        "        data_hora = datetime.datetime.now().strftime(\"%Y-%m-%d %H:%M:%S\")\n",
        "        extrato.append(f\"Depósito: R${valor_deposito:.2f} - Data/Hora: {data_hora}\")\n",
        "    else:\n",
        "        print(\"Valor de depósito inválido. O valor deve ser maior que zero.\")\n",
        "\n",
        "depositar()\n",
        "print(saldo)\n"
      ],
      "metadata": {
        "colab": {
          "base_uri": "https://localhost:8080/"
        },
        "id": "9Ifjxt7TrufQ",
        "outputId": "081c96e7-46fa-4d4b-cf7e-51aaf71cc09e"
      },
      "execution_count": 84,
      "outputs": [
        {
          "output_type": "stream",
          "name": "stdout",
          "text": [
            "Digite o valor a ser depositado: 1000\n",
            "1010.0\n"
          ]
        }
      ]
    },
    {
      "cell_type": "code",
      "source": [
        "def sacar():\n",
        "    global saldo,saques_realizados\n",
        "    print(f'Saldo Inicial: {saldo}')\n",
        "    valor = float(input(\"Digite o valor a ser sacado: \"))\n",
        "    if valor <= 0:\n",
        "      print('Valor inválido para saque')\n",
        "    elif valor > saldo:\n",
        "      print('Saldo insuficiente')\n",
        "    elif  saques_realizados + valor > limite_saque:\n",
        "      print('limite de saque extendido')\n",
        "    else:\n",
        "      saldo -= valor\n",
        "      saques_realizados += valor\n",
        "      data_hora = datetime.datetime.now().strftime(\"%Y-%m-%d %H:%M:%S\")\n",
        "      extrato.append(f\"Saque: R${valor:.2f} - Data/Hora: {data_hora}\")\n",
        "      print(f\" Valor do Saque R${valor:.2f} Realizado com sucesso!\")\n",
        "sacar()\n",
        "print(saldo)"
      ],
      "metadata": {
        "colab": {
          "base_uri": "https://localhost:8080/"
        },
        "id": "9A8ik793uLRS",
        "outputId": "d28591ee-de67-42ba-a469-750b4e0c3caa"
      },
      "execution_count": 85,
      "outputs": [
        {
          "output_type": "stream",
          "name": "stdout",
          "text": [
            "Saldo Inicial: 1010.0\n",
            "Digite o valor a ser sacado: 10\n",
            " Valor do Saque R$10.00 Realizado com sucesso!\n",
            "1000.0\n"
          ]
        }
      ]
    },
    {
      "cell_type": "code",
      "source": [
        "def ver_extrato():\n",
        "    print(\"\\nExtrato:\")\n",
        "    if not extrato:\n",
        "        print(\"Nenhuma transação registrada.\")\n",
        "    else:\n",
        "      for transacao in extrato:\n",
        "        print(transacao)\n",
        "\n",
        "ver_extrato()"
      ],
      "metadata": {
        "colab": {
          "base_uri": "https://localhost:8080/"
        },
        "id": "wpuz6Vbl1Yvg",
        "outputId": "b7e47ea5-de30-4d5a-cc0e-eee813cdb2b2"
      },
      "execution_count": 86,
      "outputs": [
        {
          "output_type": "stream",
          "name": "stdout",
          "text": [
            "\n",
            "Extrato:\n",
            "Depósito: R$1000.00 - Data/Hora: 2025-02-21 14:25:36\n",
            "Saque: R$10.00 - Data/Hora: 2025-02-21 14:25:45\n"
          ]
        }
      ]
    },
    {
      "cell_type": "code",
      "source": [
        "def alterar_senha():\n",
        "    global senha\n",
        "    senha_atual = input(\"Digite a senha atual: \")\n",
        "    if senha_atual == senha:\n",
        "        nova_senha = input(\"Digite a nova senha: \")\n",
        "        senha = nova_senha\n",
        "        print(\"Senha alterada com sucesso!\")\n",
        "    else:\n",
        "      print('Senha Atual Incorreta.')\n",
        "\n",
        "alterar_senha()"
      ],
      "metadata": {
        "colab": {
          "base_uri": "https://localhost:8080/"
        },
        "id": "DQpYX4bZ2O7I",
        "outputId": "cd9baf03-dc8f-4ef0-d5f3-e27c6e0078c3"
      },
      "execution_count": 87,
      "outputs": [
        {
          "output_type": "stream",
          "name": "stdout",
          "text": [
            "Digite a senha atual: 1234\n",
            "Digite a nova senha: 4321\n",
            "Senha alterada com sucesso!\n"
          ]
        }
      ]
    },
    {
      "cell_type": "code",
      "source": [
        "def menu():\n",
        "    print(\"\\nBem-vindo ao Simulador de Caixa Eletrônico!\")\n",
        "    if autenticar_usuario():\n",
        "\n",
        "      while True:\n",
        "        print(\"\\nEscolha uma opção:\")\n",
        "        print(\"1. Verificar Saldo\")\n",
        "        print(\"2. Depositar\")\n",
        "        print(\"3. Sacar\")\n",
        "        print(\"4. Ver Extrato\")\n",
        "        print(\"5. Alterar Senha\")\n",
        "        print(\"6. Sair\")\n",
        "\n",
        "        opcao = input(\"Digite o número da opção desejada: \")\n",
        "        if opcao == \"1\":\n",
        "            verificar_saldo()\n",
        "        elif opcao == \"2\":\n",
        "          depositar()\n",
        "        elif opcao == \"3\":\n",
        "          sacar()\n",
        "        elif opcao == \"4\":\n",
        "          ver_extrato()\n",
        "        elif opcao == \"5\":\n",
        "          alterar_senha()\n",
        "        elif opcao == \"6\":\n",
        "          print(\"Saindo do sistema. Obrigado(a)!\")\n",
        "          break\n",
        "        else:\n",
        "          print('Opção inválida!')\n",
        "\n",
        "menu()"
      ],
      "metadata": {
        "colab": {
          "base_uri": "https://localhost:8080/"
        },
        "id": "uPLk23IK2677",
        "outputId": "8856e96a-67e9-4e29-b8c1-0710fcce9780"
      },
      "execution_count": 88,
      "outputs": [
        {
          "output_type": "stream",
          "name": "stdout",
          "text": [
            "\n",
            "Bem-vindo ao Simulador de Caixa Eletrônico!\n",
            "Digite a senha: 4321\n",
            "Acesso permitido!\n",
            "\n",
            "Escolha uma opção:\n",
            "1. Verificar Saldo\n",
            "2. Depositar\n",
            "3. Sacar\n",
            "4. Ver Extrato\n",
            "5. Alterar Senha\n",
            "6. Sair\n",
            "Digite o número da opção desejada: 4\n",
            "\n",
            "Extrato:\n",
            "Depósito: R$1000.00 - Data/Hora: 2025-02-21 14:25:36\n",
            "Saque: R$10.00 - Data/Hora: 2025-02-21 14:25:45\n",
            "\n",
            "Escolha uma opção:\n",
            "1. Verificar Saldo\n",
            "2. Depositar\n",
            "3. Sacar\n",
            "4. Ver Extrato\n",
            "5. Alterar Senha\n",
            "6. Sair\n",
            "Digite o número da opção desejada: 6\n",
            "Saindo do sistema. Obrigado(a)!\n"
          ]
        }
      ]
    }
  ]
}