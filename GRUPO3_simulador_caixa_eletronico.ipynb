{
  "nbformat": 4,
  "nbformat_minor": 0,
  "metadata": {
    "colab": {
      "provenance": [],
      "include_colab_link": true
    },
    "kernelspec": {
      "name": "python3",
      "display_name": "Python 3"
    },
    "language_info": {
      "name": "python"
    }
  },
  "cells": [
    {
      "cell_type": "markdown",
      "metadata": {
        "id": "view-in-github",
        "colab_type": "text"
      },
      "source": [
        "<a href=\"https://colab.research.google.com/github/SilviaNeves/Mini-Wiki-Silvia/blob/main/GRUPO3_simulador_caixa_eletronico.ipynb\" target=\"_parent\"><img src=\"https://colab.research.google.com/assets/colab-badge.svg\" alt=\"Open In Colab\"/></a>"
      ]
    },
    {
      "cell_type": "markdown",
      "source": [
        "Desenvolvimento de um Simulador de Caixa Eletrônico em Python\n",
        "Contexto\n",
        "Em um mundo onde a digitalização dos serviços bancários é cada vez mais essencial, a necessidade de proporcionar uma experiência prática e segura para os usuários é uma prioridade. Bancos e instituições financeiras buscam maneiras eficientes de educar seus clientes sobre o uso de caixas eletrônicos e aplicativos bancários. Pensando nisso, um Simulador de Caixa Eletrônico pode ajudar tanto na educação financeira quanto na prática de programação.\n",
        "Desafio\n",
        "Desenvolver um Simulador de Caixa Eletrônico utilizando a linguagem de programação Python, capaz de realizar operações bancárias simples como consulta de saldo, depósitos, saques e verificação de extrato. O sistema deve garantir a segurança do usuário através da implementação de uma senha de acesso e limitar a quantidade de saques diários.\n",
        "\n",
        "**Requisitos Funcionais**\n",
        "\n",
        "O sistema deverá ter as seguintes funcionalidades:\n",
        "  - Ver o saldo da conta:\n",
        "  - O usuário poderá consultar o saldo atual de sua conta a qualquer momento.\n",
        "  - O saldo inicial deve ser definido ao iniciar o programa e atualizado conforme transações realizadas.\n",
        "  - Depositar um valor:\n",
        "  - O usuário poderá adicionar um valor à sua conta, aumentando o saldo disponível.\n",
        "  - Deve haver validação para garantir que o valor informado seja positivo.\n",
        "  - Sacar um valor:\n",
        "  - O usuário poderá retirar um valor de sua conta, desde que haja saldo suficiente.\n",
        "  - O sistema deve verificar se o valor do saque não excede o saldo disponível.\n",
        "  - Ver o extrato das últimas transações:\n",
        "  - O usuário poderá visualizar um histórico das transações realizadas (depósitos e saques).\n",
        "  - O extrato deve mostrar o tipo de transação, o valor e a data/hora em que foi realizada.\n",
        "\n",
        "**Sair do sistema:**\n",
        "  - Finalizar a execução do programa de forma segura, salvando o histórico de transações para consultas futuras.\n",
        "\n",
        "**Desafios Extras:**\n",
        "\n",
        "Para tornar o sistema mais robusto e funcional, implemente as seguintes melhorias:\n",
        "  - Impedir saques acima do limite diário:\n",
        "  - Definir um limite máximo de saques por dia (ex: R$ 1.000,00).\n",
        "  - O sistema deve rastrear o total sacado no dia e impedir que o usuário exceda o limite definido.\n",
        "  - Implementar uma senha de acesso ao sistema:\n",
        "  - Solicitar uma senha ao iniciar o programa para garantir a segurança do usuário.\n",
        "  - Permitir um número limitado de tentativas (ex: 3 tentativas) antes de bloquear o acesso.\n",
        "  - Utilizar uma senha padrão (ex: 1234) que pode ser alterada pelo usuário após o primeiro acesso.\n"
      ],
      "metadata": {
        "id": "pdznjW7OfxSC"
      }
    },
    {
      "cell_type": "code",
      "source": [
        "saldo = 10\n",
        "senha = \"1234\"\n",
        "limite_saque = 1000\n",
        "tentativas = 3\n",
        "extrato = []\n",
        "\n",
        "print(f\"Seu saldo inicial é de R${saldo}\")\n",
        "\n",
        "def autenticar_usuario():\n",
        "    global tentativas  # Para poder modificar a variável tentativas dentro da função\n",
        "    while tentativas > 0:\n",
        "        senha_digitada = input(\"Digite a senha: \")\n",
        "        if senha_digitada == senha:\n",
        "            print(\"Acesso permitido!\")\n",
        "            return True\n",
        "        else:\n",
        "            tentativas -= 1  # Decrementa o número de tentativas\n",
        "            print(f\"Senha incorreta. Você tem {tentativas} tentativas restantes.\")\n",
        "\n",
        "    print(\"Número de tentativas excedido. Acesso bloqueado.\")\n",
        "    return False\n",
        "\n",
        "autenticar_usuario()"
      ],
      "metadata": {
        "id": "nwjT7nseoXin",
        "colab": {
          "base_uri": "https://localhost:8080/"
        },
        "outputId": "26c881b3-ad8a-4e46-bd4d-2c6f4bc0b7e0"
      },
      "execution_count": null,
      "outputs": [
        {
          "output_type": "stream",
          "name": "stdout",
          "text": [
            "Seu saldo inicial é de R$10\n"
          ]
        }
      ]
    }
  ]
}