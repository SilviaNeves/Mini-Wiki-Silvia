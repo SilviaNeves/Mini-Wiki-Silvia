{
  "nbformat": 4,
  "nbformat_minor": 0,
  "metadata": {
    "colab": {
      "provenance": [],
      "collapsed_sections": [
        "yIeTY7cz1jcW",
        "jRRydzq2368x"
      ],
      "include_colab_link": true
    },
    "kernelspec": {
      "name": "python3",
      "display_name": "Python 3"
    },
    "language_info": {
      "name": "python"
    }
  },
  "cells": [
    {
      "cell_type": "markdown",
      "metadata": {
        "id": "view-in-github",
        "colab_type": "text"
      },
      "source": [
        "<a href=\"https://colab.research.google.com/github/SilviaNeves/Mini-Wiki-Silvia/blob/main/Python_b%C3%A1sico.ipynb\" target=\"_parent\"><img src=\"https://colab.research.google.com/assets/colab-badge.svg\" alt=\"Open In Colab\"/></a>"
      ]
    },
    {
      "cell_type": "markdown",
      "source": [
        "#Aula1"
      ],
      "metadata": {
        "id": "dcFz8Su21SuN"
      }
    },
    {
      "cell_type": "markdown",
      "source": [
        "##Google Colab"
      ],
      "metadata": {
        "id": "yIeTY7cz1jcW"
      }
    },
    {
      "cell_type": "markdown",
      "source": [
        "versão do python"
      ],
      "metadata": {
        "id": "kkRwEwVzv90p"
      }
    },
    {
      "cell_type": "code",
      "source": [
        "!python --version\n"
      ],
      "metadata": {
        "colab": {
          "base_uri": "https://localhost:8080/"
        },
        "id": "VbE6cu6h7VjZ",
        "outputId": "ee84005a-4793-4d9b-bad7-149368a848d2"
      },
      "execution_count": null,
      "outputs": [
        {
          "output_type": "stream",
          "name": "stdout",
          "text": [
            "Python 3.11.11\n"
          ]
        }
      ]
    },
    {
      "cell_type": "markdown",
      "source": [
        "Celula de texto"
      ],
      "metadata": {
        "id": "gHZ1XRidy11n"
      }
    },
    {
      "cell_type": "code",
      "source": [
        "#celula de código"
      ],
      "metadata": {
        "id": "-XePyFRYyNaa"
      },
      "execution_count": null,
      "outputs": []
    },
    {
      "cell_type": "code",
      "source": [
        "print('')"
      ],
      "metadata": {
        "colab": {
          "base_uri": "https://localhost:8080/"
        },
        "id": "sasuYgAKy7DB",
        "outputId": "dfcc158b-e9ff-4b4e-d426-bdbc34666ec2"
      },
      "execution_count": null,
      "outputs": [
        {
          "output_type": "stream",
          "name": "stdout",
          "text": [
            "\n"
          ]
        }
      ]
    },
    {
      "cell_type": "markdown",
      "source": [
        "##comentarios\n"
      ],
      "metadata": {
        "id": "KTQS5-UR3RzX"
      }
    },
    {
      "cell_type": "code",
      "source": [
        "'''\n",
        "Comenta mais\n",
        "que uma linha\n",
        "'''"
      ],
      "metadata": {
        "colab": {
          "base_uri": "https://localhost:8080/",
          "height": 36
        },
        "id": "yir6W8hl0WL0",
        "outputId": "8a516be1-67ac-4c26-c512-e8462636beba"
      },
      "execution_count": null,
      "outputs": [
        {
          "output_type": "execute_result",
          "data": {
            "text/plain": [
              "'\\nComenta mais\\nque uma linha\\n'"
            ],
            "application/vnd.google.colaboratory.intrinsic+json": {
              "type": "string"
            }
          },
          "metadata": {},
          "execution_count": 5
        }
      ]
    },
    {
      "cell_type": "code",
      "source": [
        "#comentar uma linha apenas\n"
      ],
      "metadata": {
        "id": "k9lvEJ_X3yqI"
      },
      "execution_count": null,
      "outputs": []
    },
    {
      "cell_type": "markdown",
      "source": [
        "##print()\n"
      ],
      "metadata": {
        "id": "jRRydzq2368x"
      }
    },
    {
      "cell_type": "code",
      "source": [
        "print(\"\") # com aspas duplas"
      ],
      "metadata": {
        "colab": {
          "base_uri": "https://localhost:8080/"
        },
        "id": "Zu_uEQTY3XH6",
        "outputId": "8825c7b9-2ebf-412d-e8d0-222bf83584c5"
      },
      "execution_count": null,
      "outputs": [
        {
          "output_type": "stream",
          "name": "stdout",
          "text": [
            "\n"
          ]
        }
      ]
    },
    {
      "cell_type": "code",
      "source": [
        "print('') #com aspas simples"
      ],
      "metadata": {
        "colab": {
          "base_uri": "https://localhost:8080/"
        },
        "id": "2N5BbC1L4Dxj",
        "outputId": "9b262183-b288-4f8e-c103-e3a47c91e00d"
      },
      "execution_count": null,
      "outputs": [
        {
          "output_type": "stream",
          "name": "stdout",
          "text": [
            "\n"
          ]
        }
      ]
    },
    {
      "cell_type": "code",
      "source": [
        "nome='timão'\n",
        "print(nome)"
      ],
      "metadata": {
        "colab": {
          "base_uri": "https://localhost:8080/"
        },
        "id": "ofDtHN9L4HOk",
        "outputId": "044b0d4b-3696-4881-e19e-3cbfbdc3824a"
      },
      "execution_count": null,
      "outputs": [
        {
          "output_type": "stream",
          "name": "stdout",
          "text": [
            "timão\n"
          ]
        }
      ]
    },
    {
      "cell_type": "markdown",
      "source": [
        "##tipos de variaveis"
      ],
      "metadata": {
        "id": "rgQXamuU6O5I"
      }
    },
    {
      "cell_type": "markdown",
      "source": [
        "Tipo str"
      ],
      "metadata": {
        "id": "7RWKX3PL6WJn"
      }
    },
    {
      "cell_type": "code",
      "source": [
        "string='Aula 1 de Python'\n",
        "print(string)"
      ],
      "metadata": {
        "colab": {
          "base_uri": "https://localhost:8080/"
        },
        "id": "6NZq957M5jmP",
        "outputId": "d14048ec-0883-4a26-c1b4-789e3e0af1be"
      },
      "execution_count": null,
      "outputs": [
        {
          "output_type": "stream",
          "name": "stdout",
          "text": [
            "Aula 1 de Python\n"
          ]
        }
      ]
    },
    {
      "cell_type": "markdown",
      "source": [
        "Qual o tipo?"
      ],
      "metadata": {
        "id": "LTMf0mD06j4u"
      }
    },
    {
      "cell_type": "code",
      "source": [
        "type(string)"
      ],
      "metadata": {
        "colab": {
          "base_uri": "https://localhost:8080/"
        },
        "id": "P8UNaAFl6iW4",
        "outputId": "cbcd4d65-a307-4b4d-a668-ad471ced47e6"
      },
      "execution_count": null,
      "outputs": [
        {
          "output_type": "execute_result",
          "data": {
            "text/plain": [
              "str"
            ]
          },
          "metadata": {},
          "execution_count": 11
        }
      ]
    },
    {
      "cell_type": "code",
      "source": [
        "print(type(string))"
      ],
      "metadata": {
        "colab": {
          "base_uri": "https://localhost:8080/"
        },
        "id": "SZryLzhB_fih",
        "outputId": "38ed6e60-d299-48a9-d092-6aa3d535fd1b"
      },
      "execution_count": null,
      "outputs": [
        {
          "output_type": "stream",
          "name": "stdout",
          "text": [
            "<class 'str'>\n"
          ]
        }
      ]
    },
    {
      "cell_type": "markdown",
      "source": [
        "Tipo int"
      ],
      "metadata": {
        "id": "c7EaakuA6trM"
      }
    },
    {
      "cell_type": "code",
      "source": [
        "num=5\n",
        "print(num)\n"
      ],
      "metadata": {
        "colab": {
          "base_uri": "https://localhost:8080/"
        },
        "id": "QRL_q-Gp6o9j",
        "outputId": "b1ead540-b378-457c-d4be-fb6756be2bd3"
      },
      "execution_count": null,
      "outputs": [
        {
          "output_type": "stream",
          "name": "stdout",
          "text": [
            "5\n"
          ]
        }
      ]
    },
    {
      "cell_type": "code",
      "source": [
        "type(num)"
      ],
      "metadata": {
        "colab": {
          "base_uri": "https://localhost:8080/"
        },
        "id": "zcHIEtwc66by",
        "outputId": "0e8be0ae-166f-4a13-cb50-3d18c9e6c859"
      },
      "execution_count": null,
      "outputs": [
        {
          "output_type": "execute_result",
          "data": {
            "text/plain": [
              "int"
            ]
          },
          "metadata": {},
          "execution_count": 14
        }
      ]
    },
    {
      "cell_type": "markdown",
      "source": [
        "Tipo float"
      ],
      "metadata": {
        "id": "D7GFGPXJ7Fz0"
      }
    },
    {
      "cell_type": "code",
      "source": [
        "num_float=0.1"
      ],
      "metadata": {
        "id": "pHNYsene7DBH"
      },
      "execution_count": null,
      "outputs": []
    },
    {
      "cell_type": "code",
      "source": [
        "type(num_float)"
      ],
      "metadata": {
        "colab": {
          "base_uri": "https://localhost:8080/"
        },
        "id": "hF2TDnrA7S8V",
        "outputId": "d6289165-ae6a-4418-f2ce-7477ff91a7ce"
      },
      "execution_count": null,
      "outputs": [
        {
          "output_type": "execute_result",
          "data": {
            "text/plain": [
              "float"
            ]
          },
          "metadata": {},
          "execution_count": 16
        }
      ]
    },
    {
      "cell_type": "markdown",
      "source": [
        "Tipo Complexo"
      ],
      "metadata": {
        "id": "RdiL4pjwM0eA"
      }
    },
    {
      "cell_type": "code",
      "source": [
        "num_complex=4j\n",
        "print(type(num_complex))\n"
      ],
      "metadata": {
        "colab": {
          "base_uri": "https://localhost:8080/"
        },
        "id": "9FBou3PrM2ny",
        "outputId": "d2674895-8a59-4525-b255-ff221d52ce18"
      },
      "execution_count": null,
      "outputs": [
        {
          "output_type": "stream",
          "name": "stdout",
          "text": [
            "<class 'complex'>\n"
          ]
        }
      ]
    },
    {
      "cell_type": "markdown",
      "source": [
        "Tipo Boolean"
      ],
      "metadata": {
        "id": "bNrCM5B-Pbb2"
      }
    },
    {
      "cell_type": "code",
      "source": [
        "num_bool=(5==10)\n",
        "print(num_bool)"
      ],
      "metadata": {
        "colab": {
          "base_uri": "https://localhost:8080/"
        },
        "id": "9hI_LoR1PfrV",
        "outputId": "ae82b2f8-0d63-497d-b3b0-e7f5db48c488"
      },
      "execution_count": null,
      "outputs": [
        {
          "output_type": "stream",
          "name": "stdout",
          "text": [
            "False\n"
          ]
        }
      ]
    },
    {
      "cell_type": "markdown",
      "source": [
        "##Variaveis"
      ],
      "metadata": {
        "id": "ksJcklF1AxVj"
      }
    },
    {
      "cell_type": "markdown",
      "source": [
        "NÃO PODEMOS"
      ],
      "metadata": {
        "id": "Fsl6Q8xHA72I"
      }
    },
    {
      "cell_type": "code",
      "source": [
        "#3num=1"
      ],
      "metadata": {
        "id": "l1oecmnGAJZR"
      },
      "execution_count": null,
      "outputs": []
    },
    {
      "cell_type": "code",
      "source": [
        "#Nome inteiro='stefane bressani'"
      ],
      "metadata": {
        "id": "1GRPt236A2Q0"
      },
      "execution_count": null,
      "outputs": []
    },
    {
      "cell_type": "code",
      "source": [
        "idade=30"
      ],
      "metadata": {
        "id": "ugTLCWByBDe8"
      },
      "execution_count": null,
      "outputs": []
    },
    {
      "cell_type": "code",
      "source": [
        "Idade=21"
      ],
      "metadata": {
        "id": "VMstp2u_BQu8"
      },
      "execution_count": null,
      "outputs": []
    },
    {
      "cell_type": "code",
      "source": [
        "IDADE=43"
      ],
      "metadata": {
        "id": "sPtF6iL4BTEa"
      },
      "execution_count": null,
      "outputs": []
    },
    {
      "cell_type": "code",
      "source": [
        "print(idade,Idade,IDADE)"
      ],
      "metadata": {
        "colab": {
          "base_uri": "https://localhost:8080/"
        },
        "id": "kyfBbKeOBXiA",
        "outputId": "48fc5048-fa05-411e-b33f-0a778b5a0e65"
      },
      "execution_count": null,
      "outputs": [
        {
          "output_type": "stream",
          "name": "stdout",
          "text": [
            "30 21 43\n"
          ]
        }
      ]
    },
    {
      "cell_type": "code",
      "source": [
        "print(idade)\n",
        "idade=30\n",
        "print(idade)\n",
        "idade=15\n",
        "print(idade)\n",
        "idade=5\n",
        "print(idade)"
      ],
      "metadata": {
        "colab": {
          "base_uri": "https://localhost:8080/"
        },
        "id": "ntS_UFTgCDc1",
        "outputId": "148816ae-4517-4d76-8bbd-2d9d245227f4"
      },
      "execution_count": null,
      "outputs": [
        {
          "output_type": "stream",
          "name": "stdout",
          "text": [
            "30\n",
            "30\n",
            "15\n",
            "5\n"
          ]
        }
      ]
    },
    {
      "cell_type": "markdown",
      "source": [
        "Atribuem variaveis com nome, idade, altura e imprima"
      ],
      "metadata": {
        "id": "CIB7xyiaBmjn"
      }
    },
    {
      "cell_type": "code",
      "source": [
        "nome=\"Stefane Bressani\"\n",
        "idade=30\n",
        "altura=1.55\n",
        "print(f'Meu nome é {nome},\\n minha idade é {idade}, e minha altura é {altura}')"
      ],
      "metadata": {
        "colab": {
          "base_uri": "https://localhost:8080/"
        },
        "id": "fzAA41dOBckv",
        "outputId": "bdf20440-7d3c-463d-ed03-517176a284e7"
      },
      "execution_count": null,
      "outputs": [
        {
          "output_type": "stream",
          "name": "stdout",
          "text": [
            "Meu nome é Stefane Bressani,\n",
            " minha idade é 30, e minha altura é 1.55\n"
          ]
        }
      ]
    },
    {
      "cell_type": "markdown",
      "source": [
        "##conversão de tipo de dados"
      ],
      "metadata": {
        "id": "VJAGFc22HJvg"
      }
    },
    {
      "cell_type": "code",
      "source": [
        "num='30'\n"
      ],
      "metadata": {
        "id": "0G-ucDHpC7eC"
      },
      "execution_count": null,
      "outputs": []
    },
    {
      "cell_type": "markdown",
      "source": [
        "conevrtendo str em int"
      ],
      "metadata": {
        "id": "svbrGyQLI1G3"
      }
    },
    {
      "cell_type": "code",
      "source": [
        "num=int(num)\n",
        "print(num)\n",
        "print(type(num))"
      ],
      "metadata": {
        "colab": {
          "base_uri": "https://localhost:8080/"
        },
        "id": "piXeH5l_Hz0u",
        "outputId": "85071b9f-7200-434b-9cfd-1fb40dac8d01"
      },
      "execution_count": null,
      "outputs": [
        {
          "output_type": "stream",
          "name": "stdout",
          "text": [
            "30\n",
            "<class 'int'>\n"
          ]
        }
      ]
    },
    {
      "cell_type": "code",
      "source": [
        "num=float(num)\n",
        "print(num)"
      ],
      "metadata": {
        "colab": {
          "base_uri": "https://localhost:8080/"
        },
        "id": "P2WF3A2DICAC",
        "outputId": "6b82ccf7-fb8c-4db8-d4d6-574b933f2ef0"
      },
      "execution_count": null,
      "outputs": [
        {
          "output_type": "stream",
          "name": "stdout",
          "text": [
            "30.0\n"
          ]
        }
      ]
    },
    {
      "cell_type": "code",
      "source": [
        "altura"
      ],
      "metadata": {
        "colab": {
          "base_uri": "https://localhost:8080/"
        },
        "id": "DNE-M6NwKEu2",
        "outputId": "dc73de9f-9daf-4eec-8a21-be0009e3b064"
      },
      "execution_count": null,
      "outputs": [
        {
          "output_type": "execute_result",
          "data": {
            "text/plain": [
              "1.55"
            ]
          },
          "metadata": {},
          "execution_count": 30
        }
      ]
    },
    {
      "cell_type": "code",
      "source": [
        "altura=int(altura)"
      ],
      "metadata": {
        "id": "RyUiegZ-KJ5b"
      },
      "execution_count": null,
      "outputs": []
    },
    {
      "cell_type": "code",
      "source": [
        "print(altura)"
      ],
      "metadata": {
        "colab": {
          "base_uri": "https://localhost:8080/"
        },
        "id": "EEN0i4w7KOoT",
        "outputId": "eeb1c3db-5c2e-4056-f98d-834f56582498"
      },
      "execution_count": null,
      "outputs": [
        {
          "output_type": "stream",
          "name": "stdout",
          "text": [
            "1\n"
          ]
        }
      ]
    },
    {
      "cell_type": "markdown",
      "source": [
        "##Operações"
      ],
      "metadata": {
        "id": "S7KR9kE2KaG_"
      }
    },
    {
      "cell_type": "markdown",
      "source": [
        "Soma"
      ],
      "metadata": {
        "id": "5t4A4YoOKwSY"
      }
    },
    {
      "cell_type": "code",
      "source": [
        "soma=10+10\n",
        "print(soma)"
      ],
      "metadata": {
        "colab": {
          "base_uri": "https://localhost:8080/"
        },
        "id": "CfoceVGYKcI4",
        "outputId": "eb1b1e37-a174-4206-8834-64fb0f7a9c6c"
      },
      "execution_count": null,
      "outputs": [
        {
          "output_type": "stream",
          "name": "stdout",
          "text": [
            "20\n"
          ]
        }
      ]
    },
    {
      "cell_type": "code",
      "source": [
        "print(10+10)"
      ],
      "metadata": {
        "colab": {
          "base_uri": "https://localhost:8080/"
        },
        "id": "vkCp5Da5KqO_",
        "outputId": "15b5bbaa-412c-489b-ef6e-694e1a033ef8"
      },
      "execution_count": null,
      "outputs": [
        {
          "output_type": "stream",
          "name": "stdout",
          "text": [
            "20\n"
          ]
        }
      ]
    },
    {
      "cell_type": "markdown",
      "source": [
        "Subtração"
      ],
      "metadata": {
        "id": "VFxwKuZQKzc3"
      }
    },
    {
      "cell_type": "code",
      "source": [
        "subt=20-10\n",
        "print(subt)"
      ],
      "metadata": {
        "colab": {
          "base_uri": "https://localhost:8080/"
        },
        "id": "Vg6gh0WfKt_7",
        "outputId": "c2c0906c-5d9e-466d-c398-d9eb283caef5"
      },
      "execution_count": null,
      "outputs": [
        {
          "output_type": "stream",
          "name": "stdout",
          "text": [
            "10\n"
          ]
        }
      ]
    },
    {
      "cell_type": "markdown",
      "source": [
        "Multiplicação"
      ],
      "metadata": {
        "id": "dklrTjPqK-_z"
      }
    },
    {
      "cell_type": "code",
      "source": [
        "mult=2*20\n",
        "print(mult)"
      ],
      "metadata": {
        "colab": {
          "base_uri": "https://localhost:8080/"
        },
        "id": "LOIgXoGmK9Rv",
        "outputId": "85fc9baf-afb0-4ddf-c3dc-b32660b884be"
      },
      "execution_count": null,
      "outputs": [
        {
          "output_type": "stream",
          "name": "stdout",
          "text": [
            "40\n"
          ]
        }
      ]
    },
    {
      "cell_type": "markdown",
      "source": [
        "Divisão"
      ],
      "metadata": {
        "id": "u5Wphol4LOGx"
      }
    },
    {
      "cell_type": "code",
      "source": [
        "div=20/10\n",
        "print(div)"
      ],
      "metadata": {
        "colab": {
          "base_uri": "https://localhost:8080/"
        },
        "id": "eExd_BHQLJvt",
        "outputId": "ccd4b94c-ae2c-490e-e5fb-e16f0112c087"
      },
      "execution_count": null,
      "outputs": [
        {
          "output_type": "stream",
          "name": "stdout",
          "text": [
            "2.0\n"
          ]
        }
      ]
    },
    {
      "cell_type": "markdown",
      "source": [
        "Divisão Inteira"
      ],
      "metadata": {
        "id": "BvNZ4pIpNda7"
      }
    },
    {
      "cell_type": "code",
      "source": [
        "div_int=20//10\n",
        "print(div_int)"
      ],
      "metadata": {
        "colab": {
          "base_uri": "https://localhost:8080/"
        },
        "id": "H30g5wr-LSLO",
        "outputId": "3a0412be-1273-406d-81f2-c8ea2916be77"
      },
      "execution_count": null,
      "outputs": [
        {
          "output_type": "stream",
          "name": "stdout",
          "text": [
            "2\n"
          ]
        }
      ]
    },
    {
      "cell_type": "markdown",
      "source": [
        "Resto ou Modulo"
      ],
      "metadata": {
        "id": "BFlPvgyjMOez"
      }
    },
    {
      "cell_type": "code",
      "source": [
        "mod=20%10\n",
        "print(mod)"
      ],
      "metadata": {
        "colab": {
          "base_uri": "https://localhost:8080/"
        },
        "id": "wZbitAM5MnZa",
        "outputId": "9ae8f851-1412-4177-8b82-8f4dc53ef26b"
      },
      "execution_count": null,
      "outputs": [
        {
          "output_type": "stream",
          "name": "stdout",
          "text": [
            "0\n"
          ]
        }
      ]
    },
    {
      "cell_type": "code",
      "source": [
        "mod_par=4%2\n",
        "print(mod_par)"
      ],
      "metadata": {
        "colab": {
          "base_uri": "https://localhost:8080/"
        },
        "id": "BEUBi8VfNm6e",
        "outputId": "2d7b2d60-deff-4cfb-df45-c5fdde27530a"
      },
      "execution_count": null,
      "outputs": [
        {
          "output_type": "stream",
          "name": "stdout",
          "text": [
            "0\n"
          ]
        }
      ]
    },
    {
      "cell_type": "code",
      "source": [
        "mod_impar=5%2\n",
        "print(mod_impar)"
      ],
      "metadata": {
        "colab": {
          "base_uri": "https://localhost:8080/"
        },
        "id": "wscOndjuNu-Z",
        "outputId": "0cbedf7f-60ac-4306-fc89-b4e8b4ede00d"
      },
      "execution_count": null,
      "outputs": [
        {
          "output_type": "stream",
          "name": "stdout",
          "text": [
            "1\n"
          ]
        }
      ]
    },
    {
      "cell_type": "markdown",
      "source": [
        "Exponenciação"
      ],
      "metadata": {
        "id": "t8wt38glO8iW"
      }
    },
    {
      "cell_type": "code",
      "source": [
        "num_exp=2**3 #2 elevado a 3\n",
        "print(num_exp) # print para imprimir o resultado 10+10"
      ],
      "metadata": {
        "colab": {
          "base_uri": "https://localhost:8080/"
        },
        "id": "i3pj36CiN2Rl",
        "outputId": "b3a080aa-40c6-418d-ecac-28e778cdfc14"
      },
      "execution_count": null,
      "outputs": [
        {
          "output_type": "stream",
          "name": "stdout",
          "text": [
            "8\n"
          ]
        }
      ]
    },
    {
      "cell_type": "markdown",
      "source": [
        "###Operações de comparação"
      ],
      "metadata": {
        "id": "gbp3uKT1S20h"
      }
    },
    {
      "cell_type": "code",
      "source": [
        "igual= (5==5) # == igual\n",
        "diferente= (10!=5) # ≠ sinal diferente\n",
        "maiorque= (10>5) #simbolo do maior\n",
        "menorque= (5<10) #simbolo do menor\n",
        "maiorouigual= (5>=10) #simbolo maior ou igual\n",
        "menorouigual= (5<=5) #simbolo menor ou igual\n"
      ],
      "metadata": {
        "id": "9s0HVfkKPRHs"
      },
      "execution_count": null,
      "outputs": []
    },
    {
      "cell_type": "code",
      "source": [
        "x= (10 == int('10'))\n",
        "x1= (10 == '10')\n",
        "print(x)\n",
        "print(x1)"
      ],
      "metadata": {
        "colab": {
          "base_uri": "https://localhost:8080/"
        },
        "id": "b3jccZY-ThpC",
        "outputId": "2fec0314-37d4-48be-e582-f37afe8ff433"
      },
      "execution_count": null,
      "outputs": [
        {
          "output_type": "stream",
          "name": "stdout",
          "text": [
            "True\n",
            "False\n"
          ]
        }
      ]
    },
    {
      "cell_type": "code",
      "source": [
        "x=int(input('Digita um número: '))\n",
        "print(x, type(x))\n",
        "nome=input(\"qual seu nome?: \")\n",
        "print(nome)\n",
        "altura=float(input(\"Qual sua altura?: \"))\n",
        "print(altura,type(altura))"
      ],
      "metadata": {
        "colab": {
          "base_uri": "https://localhost:8080/",
          "height": 238
        },
        "id": "2c2PfzDOY6Xs",
        "outputId": "5b10b6c9-e716-47ae-8a26-abb563473e1e"
      },
      "execution_count": null,
      "outputs": [
        {
          "name": "stdout",
          "output_type": "stream",
          "text": [
            "Digita um número: \n"
          ]
        },
        {
          "output_type": "error",
          "ename": "ValueError",
          "evalue": "invalid literal for int() with base 10: ''",
          "traceback": [
            "\u001b[0;31m---------------------------------------------------------------------------\u001b[0m",
            "\u001b[0;31mValueError\u001b[0m                                Traceback (most recent call last)",
            "\u001b[0;32m<ipython-input-45-2d9cf2856237>\u001b[0m in \u001b[0;36m<cell line: 0>\u001b[0;34m()\u001b[0m\n\u001b[0;32m----> 1\u001b[0;31m \u001b[0mx\u001b[0m\u001b[0;34m=\u001b[0m\u001b[0mint\u001b[0m\u001b[0;34m(\u001b[0m\u001b[0minput\u001b[0m\u001b[0;34m(\u001b[0m\u001b[0;34m'Digita um número: '\u001b[0m\u001b[0;34m)\u001b[0m\u001b[0;34m)\u001b[0m\u001b[0;34m\u001b[0m\u001b[0;34m\u001b[0m\u001b[0m\n\u001b[0m\u001b[1;32m      2\u001b[0m \u001b[0mprint\u001b[0m\u001b[0;34m(\u001b[0m\u001b[0mx\u001b[0m\u001b[0;34m,\u001b[0m \u001b[0mtype\u001b[0m\u001b[0;34m(\u001b[0m\u001b[0mx\u001b[0m\u001b[0;34m)\u001b[0m\u001b[0;34m)\u001b[0m\u001b[0;34m\u001b[0m\u001b[0;34m\u001b[0m\u001b[0m\n\u001b[1;32m      3\u001b[0m \u001b[0mnome\u001b[0m\u001b[0;34m=\u001b[0m\u001b[0minput\u001b[0m\u001b[0;34m(\u001b[0m\u001b[0;34m\"qual seu nome?: \"\u001b[0m\u001b[0;34m)\u001b[0m\u001b[0;34m\u001b[0m\u001b[0;34m\u001b[0m\u001b[0m\n\u001b[1;32m      4\u001b[0m \u001b[0mprint\u001b[0m\u001b[0;34m(\u001b[0m\u001b[0mnome\u001b[0m\u001b[0;34m)\u001b[0m\u001b[0;34m\u001b[0m\u001b[0;34m\u001b[0m\u001b[0m\n\u001b[1;32m      5\u001b[0m \u001b[0maltura\u001b[0m\u001b[0;34m=\u001b[0m\u001b[0mfloat\u001b[0m\u001b[0;34m(\u001b[0m\u001b[0minput\u001b[0m\u001b[0;34m(\u001b[0m\u001b[0;34m\"Qual sua altura?: \"\u001b[0m\u001b[0;34m)\u001b[0m\u001b[0;34m)\u001b[0m\u001b[0;34m\u001b[0m\u001b[0;34m\u001b[0m\u001b[0m\n",
            "\u001b[0;31mValueError\u001b[0m: invalid literal for int() with base 10: ''"
          ]
        }
      ]
    },
    {
      "cell_type": "markdown",
      "source": [
        "Tarefa 1 - Operações\n"
      ],
      "metadata": {
        "id": "YDoOlRA1dk-0"
      }
    },
    {
      "cell_type": "markdown",
      "source": [
        "Peça ao usuario inserir dois numeros na qual ele ira fazer comparações matemáticas e todas as comparações lógicas"
      ],
      "metadata": {
        "id": "D4UPr1TBd7PC"
      }
    },
    {
      "cell_type": "code",
      "source": [
        "x= int(input('Digite um numero: '))\n",
        "y= int(input('Digite outro numero: '))\n",
        "print(f'a soma dos resultados é {x+y}')\n",
        "multi=x*y\n",
        "divisao=x/y\n",
        "print(f'o numero é igual? :{multi==divisao}')\n",
        "print(f'divisão {divisao:.2f}')\n",
        "print(f'{x} ** {y} = {x**y}')\n",
        "print(f'{x} é diferente de {y}? {x!=y}')\n",
        "print(f'{x} é maior que {y}? {x>y}')\n",
        "print(f'{x} menor que {y}? {x<y}')\n",
        "print(f'{x} maior ou igual a {y}? {x>=y}')\n",
        "print(f'{x} menor ou igual a {y}? {x<=y}')"
      ],
      "metadata": {
        "id": "bBWDwHwqdVgA"
      },
      "execution_count": null,
      "outputs": []
    },
    {
      "cell_type": "markdown",
      "source": [
        "##Logica de operação"
      ],
      "metadata": {
        "id": "bp2ZhGudmm9H"
      }
    },
    {
      "cell_type": "code",
      "source": [
        "#Operação AND\n",
        "x=5\n",
        "print(x>3 and x<10)"
      ],
      "metadata": {
        "colab": {
          "base_uri": "https://localhost:8080/"
        },
        "id": "HKLHGfzXgIx7",
        "outputId": "99d24487-7dd0-41b2-ab0a-9e5531f06592"
      },
      "execution_count": null,
      "outputs": [
        {
          "output_type": "stream",
          "name": "stdout",
          "text": [
            "True\n"
          ]
        }
      ]
    },
    {
      "cell_type": "code",
      "source": [
        "#Operação OR\n",
        "print(x<3 or x<4)"
      ],
      "metadata": {
        "colab": {
          "base_uri": "https://localhost:8080/"
        },
        "id": "oakqTEMDnIDr",
        "outputId": "74367270-4cba-4476-d8ca-c1806df1b381"
      },
      "execution_count": null,
      "outputs": [
        {
          "output_type": "stream",
          "name": "stdout",
          "text": [
            "False\n"
          ]
        }
      ]
    },
    {
      "cell_type": "code",
      "source": [
        "#Operação NOT\n",
        "print(not(x>3 and x<10))"
      ],
      "metadata": {
        "id": "RWr2aHB8ni2v"
      },
      "execution_count": null,
      "outputs": []
    },
    {
      "cell_type": "markdown",
      "source": [
        "##Condicionais IF, ELIF e ELSE"
      ],
      "metadata": {
        "id": "ytfwfBOv-HAC"
      }
    },
    {
      "cell_type": "markdown",
      "source": [
        "\n",
        "```\n",
        "if condição:\n",
        "    # faça algo\n",
        "```"
      ],
      "metadata": {
        "id": "oPrKo1FiBN9F"
      }
    },
    {
      "cell_type": "code",
      "source": [
        "if True:\n",
        "    print('é verdadeiro')\n",
        "else:\n",
        "    print('é falso')"
      ],
      "metadata": {
        "colab": {
          "base_uri": "https://localhost:8080/"
        },
        "id": "sbaV1G9z-1si",
        "outputId": "e158fd5d-d91a-43ae-f876-5ea5cc2365ef"
      },
      "execution_count": null,
      "outputs": [
        {
          "output_type": "stream",
          "name": "stdout",
          "text": [
            "é falso\n"
          ]
        }
      ]
    },
    {
      "cell_type": "code",
      "source": [
        "nota_1=float(input('Digite a primeira nota: '))\n",
        "nota_2=float(input('Digite a segunda nota: '))\n",
        "media=(nota_1+nota_2)/2\n",
        "if media>= 6:\n",
        "    print(f'Média resultou em {media} e está aprovada')\n",
        "else:\n",
        "    print(f'Média resultou em {media} e está reprovada')"
      ],
      "metadata": {
        "colab": {
          "base_uri": "https://localhost:8080/"
        },
        "id": "D887uxsfCtmN",
        "outputId": "78de5e6e-7c9f-4984-c9a3-2b1da54caa20"
      },
      "execution_count": null,
      "outputs": [
        {
          "output_type": "stream",
          "name": "stdout",
          "text": [
            "Digite a primeira nota8\n",
            "Digite a segunda nota5\n",
            "Média resultou em 6.5 e está aprovada\n"
          ]
        }
      ]
    },
    {
      "cell_type": "markdown",
      "source": [
        "Atividade 1: Escreva\t um\t programa para ler 2 valores (considere que\t não serão informados valores\tiguais)\te escrever o maior deles."
      ],
      "metadata": {
        "id": "SS42H9geEtqJ"
      }
    },
    {
      "cell_type": "code",
      "source": [
        "numero_1= int(input('Digite um número: '))\n",
        "numero_2= int(input('Digite outro número: '))\n",
        "if numero_1>numero_2:\n",
        "    print(f'Numero {numero_1} maior que Numero {numero_2}')\n",
        "else:\n",
        "    print('Não é maior')"
      ],
      "metadata": {
        "colab": {
          "base_uri": "https://localhost:8080/"
        },
        "id": "YI8jUpkkE-xq",
        "outputId": "5a61d21a-3791-4b48-efed-2b650f6539d2"
      },
      "execution_count": null,
      "outputs": [
        {
          "output_type": "stream",
          "name": "stdout",
          "text": [
            "Digite um número: 1\n",
            "Digite outro número: 7\n",
            "Não é maior\n"
          ]
        }
      ]
    },
    {
      "cell_type": "markdown",
      "source": [
        "###ELIF"
      ],
      "metadata": {
        "id": "8049pGAsITYn"
      }
    },
    {
      "cell_type": "code",
      "source": [
        "numero_1= int(input('Digite um número: '))\n",
        "numero_2= int(input('Digite outro número: '))\n",
        "if numero_1>numero_2:\n",
        "    print(f'Numero {numero_1} maior que Numero {numero_2}')\n",
        "elif numero_1==numero_2:\n",
        "    print('Os numeros são iguais')\n",
        "else:\n",
        "    print('Os numero 2 é maior que o numero 1')"
      ],
      "metadata": {
        "colab": {
          "base_uri": "https://localhost:8080/"
        },
        "id": "1296R-LNIV6T",
        "outputId": "79cbd1d9-e844-4c71-cbb4-8d047bd09a87"
      },
      "execution_count": null,
      "outputs": [
        {
          "output_type": "stream",
          "name": "stdout",
          "text": [
            "Digite um número: 6\n",
            "Digite outro número: 6\n",
            "Os numeros são iguais\n"
          ]
        }
      ]
    },
    {
      "cell_type": "markdown",
      "source": [
        "Exercício:\n",
        "Crie um programa que solicita a idade do usuário e classifica a pessoa em uma das seguintes categorias:\n",
        "\n",
        "* Criança: 0 a 12 anos\n",
        "\n",
        "* Adolescente: 13 a 17 anos\n",
        "\n",
        "* Adulto: 18 a 59 anos\n",
        "\n",
        "* Idoso: 60 anos ou mais"
      ],
      "metadata": {
        "id": "wwSCdHLYJkMx"
      }
    },
    {
      "cell_type": "code",
      "source": [
        "idade=int(input('Digite sua idade'))\n",
        "if idade<=12:\n",
        "    print('Ainda um bebê')\n",
        "elif idade>=13 and idade<18:\n",
        "    print('Um adolescente')\n",
        "elif idade>=18 and idade<60:\n",
        "    print('Um adulto')\n",
        "else:\n",
        "    print('idoso')"
      ],
      "metadata": {
        "colab": {
          "base_uri": "https://localhost:8080/"
        },
        "id": "cFaWzjlOJyqO",
        "outputId": "8a35a066-85ab-4408-943d-9b1658c575ce"
      },
      "execution_count": null,
      "outputs": [
        {
          "output_type": "stream",
          "name": "stdout",
          "text": [
            "Digite sua idade21\n",
            "Um adulto\n"
          ]
        }
      ]
    },
    {
      "cell_type": "markdown",
      "source": [
        "### Short Hand If... Else"
      ],
      "metadata": {
        "id": "YkpkGeMaRXzw"
      }
    },
    {
      "cell_type": "markdown",
      "source": [
        "2 condições"
      ],
      "metadata": {
        "id": "375tfXb5R-Rr"
      }
    },
    {
      "cell_type": "code",
      "source": [
        "a= 2\n",
        "b=300\n",
        "print('A') if a<b else print('B')"
      ],
      "metadata": {
        "colab": {
          "base_uri": "https://localhost:8080/"
        },
        "id": "oNJB6yUkRXeh",
        "outputId": "63456399-1163-4d3c-ee72-e11aea7ad53b"
      },
      "execution_count": null,
      "outputs": [
        {
          "output_type": "stream",
          "name": "stdout",
          "text": [
            "A\n"
          ]
        }
      ]
    },
    {
      "cell_type": "markdown",
      "source": [
        "3 condições"
      ],
      "metadata": {
        "id": "74seTOwWSAaU"
      }
    },
    {
      "cell_type": "code",
      "source": [
        "a=330\n",
        "b=330\n",
        "print('a') if a>b else print('=') if a==b else print('b')"
      ],
      "metadata": {
        "colab": {
          "base_uri": "https://localhost:8080/"
        },
        "id": "uZ_q6fpnSCBk",
        "outputId": "4e6bed84-ca9d-4c58-c302-63f963cea689"
      },
      "execution_count": null,
      "outputs": [
        {
          "output_type": "stream",
          "name": "stdout",
          "text": [
            "=\n"
          ]
        }
      ]
    },
    {
      "cell_type": "markdown",
      "source": [
        "Sugestão do Wallace"
      ],
      "metadata": {
        "id": "bQQuZ9xYTI6b"
      }
    },
    {
      "cell_type": "code",
      "source": [
        "print(f\"Os números {a} e {b} são {'IGUAIS' if a >= b else 'MAIOR' if a <= 1 else 'MENOR'}.\")"
      ],
      "metadata": {
        "colab": {
          "base_uri": "https://localhost:8080/"
        },
        "id": "SiRODGEBS8sI",
        "outputId": "80ccefa6-28d9-4360-d556-98c77df6a092"
      },
      "execution_count": null,
      "outputs": [
        {
          "output_type": "stream",
          "name": "stdout",
          "text": [
            "Os números 330 e 330 são IGUAIS.\n"
          ]
        }
      ]
    },
    {
      "cell_type": "markdown",
      "source": [
        "##IN"
      ],
      "metadata": {
        "id": "6bHbgIyYTh0t"
      }
    },
    {
      "cell_type": "code",
      "source": [
        "lista='José da Silva, Maria Oliveira, Pedro Martins, Ana Souza, Carlos Rodrigues, Juliana Santos, Bruno Gomes, Beatriz Costa, Felipe Almeida, Mariana Fernandes, João Pinto, Luísa Nascimento, Gabriel Souza, Manuela Santos, Thiago Oliveira, Sofia Ferreira, Rafael Albuquerque, Isabella Gomes, Bruno Costa, Maria Martins, Rafaela Souza, Matheus Fernandes, Luísa Almeida, Beatriz Pinto, Mariana Rodrigues, Gabriel Nascimento, João Ferreira, Maria Albuquerque, Felipe Oliveira'"
      ],
      "metadata": {
        "id": "OfNcgpCHTgAn"
      },
      "execution_count": null,
      "outputs": []
    },
    {
      "cell_type": "code",
      "source": [
        "print(lista)"
      ],
      "metadata": {
        "colab": {
          "base_uri": "https://localhost:8080/"
        },
        "id": "n6fMfmd-U7-U",
        "outputId": "274c914b-4bdb-4ee4-c947-4fecab11f6bc"
      },
      "execution_count": null,
      "outputs": [
        {
          "output_type": "stream",
          "name": "stdout",
          "text": [
            "José da Silva, Maria Oliveira, Pedro Martins, Ana Souza, Carlos Rodrigues, Juliana Santos, Bruno Gomes, Beatriz Costa, Felipe Almeida, Mariana Fernandes, João Pinto, Luísa Nascimento, Gabriel Souza, Manuela Santos, Thiago Oliveira, Sofia Ferreira, Rafael Albuquerque, Isabella Gomes, Bruno Costa, Maria Martins, Rafaela Souza, Matheus Fernandes, Luísa Almeida, Beatriz Pinto, Mariana Rodrigues, Gabriel Nascimento, João Ferreira, Maria Albuquerque, Felipe Oliveira\n"
          ]
        }
      ]
    },
    {
      "cell_type": "code",
      "source": [
        "nome_1='Mariana Rodrigues'\n",
        "nome_2='Marcelo Nogueira'"
      ],
      "metadata": {
        "id": "e20V1ropUrJw"
      },
      "execution_count": null,
      "outputs": []
    },
    {
      "cell_type": "code",
      "source": [
        "if nome_1 in lista:\n",
        "    print(f'{nome_1} está na lista')\n",
        "else:\n",
        "    print(f'{nome_1} não está na lista')\n",
        "\n",
        "if nome_2 in lista:\n",
        "    print(f'{nome_2} está na lista')\n",
        "else:\n",
        "    print(f'{nome_2} não está na lista')\n"
      ],
      "metadata": {
        "colab": {
          "base_uri": "https://localhost:8080/"
        },
        "id": "D7eeoVWYVydV",
        "outputId": "b97abba0-ee8e-49bb-d3a1-7b76e72c14ff"
      },
      "execution_count": null,
      "outputs": [
        {
          "output_type": "stream",
          "name": "stdout",
          "text": [
            "Mariana Rodrigues está na lista\n",
            "Marcelo Nogueira não está na lista\n"
          ]
        }
      ]
    },
    {
      "cell_type": "markdown",
      "source": [
        "##Listas"
      ],
      "metadata": {
        "id": "VBdpn7O4Z4Ka"
      }
    },
    {
      "cell_type": "code",
      "source": [
        "         #[-7]    [-6][-5] [-4]     [-3]     [-2]     [-1]\n",
        "lista=['Fabricio', 37,True, 4.5, \"bootcamp\", 'Stella', 1.55]\n",
        "        #[0]      [1] [2]   [3]     [4]        [5]     [6]\n",
        "print(type(lista))\n",
        "\n",
        "print(lista[2])\n",
        "print(type(lista[2]))\n"
      ],
      "metadata": {
        "colab": {
          "base_uri": "https://localhost:8080/"
        },
        "id": "TN9zsbrjZ9Lo",
        "outputId": "6fe2d9f7-62cc-41db-fd2b-049f96592352"
      },
      "execution_count": null,
      "outputs": [
        {
          "output_type": "stream",
          "name": "stdout",
          "text": [
            "<class 'list'>\n",
            "True\n",
            "<class 'bool'>\n"
          ]
        }
      ]
    },
    {
      "cell_type": "markdown",
      "source": [
        "##Manipulações de listas"
      ],
      "metadata": {
        "id": "X5q0U4AAhKMt"
      }
    },
    {
      "cell_type": "markdown",
      "source": [
        "len() - tamanho da lista"
      ],
      "metadata": {
        "id": "Mdb7UMP8hRQK"
      }
    },
    {
      "cell_type": "code",
      "source": [
        "len(lista)"
      ],
      "metadata": {
        "colab": {
          "base_uri": "https://localhost:8080/"
        },
        "id": "mQ7gCnhzhQlb",
        "outputId": "dd6d4a11-6f75-4fff-a70c-cd49540bde33"
      },
      "execution_count": null,
      "outputs": [
        {
          "output_type": "execute_result",
          "data": {
            "text/plain": [
              "7"
            ]
          },
          "metadata": {},
          "execution_count": 3
        }
      ]
    },
    {
      "cell_type": "markdown",
      "source": [
        "###Partição"
      ],
      "metadata": {
        "id": "Aq2SMKDN-dEt"
      }
    },
    {
      "cell_type": "markdown",
      "source": [
        "entre o índice 1 e 4"
      ],
      "metadata": {
        "id": "jOhKF3Tz-ub_"
      }
    },
    {
      "cell_type": "code",
      "source": [
        "lista[1:4]"
      ],
      "metadata": {
        "colab": {
          "base_uri": "https://localhost:8080/"
        },
        "id": "eMOSFaX--fme",
        "outputId": "f16fc43b-059a-474f-f2c5-e741200255db"
      },
      "execution_count": null,
      "outputs": [
        {
          "output_type": "execute_result",
          "data": {
            "text/plain": [
              "[37, True, 4.5]"
            ]
          },
          "metadata": {},
          "execution_count": 5
        }
      ]
    },
    {
      "cell_type": "code",
      "source": [
        "lista[3:6]"
      ],
      "metadata": {
        "colab": {
          "base_uri": "https://localhost:8080/"
        },
        "id": "gY7Ct8In-8Ey",
        "outputId": "d68cfe0c-9953-4f1b-f50b-67cbbf84db1c"
      },
      "execution_count": null,
      "outputs": [
        {
          "output_type": "execute_result",
          "data": {
            "text/plain": [
              "[4.5, 'bootcamp', 'Stella']"
            ]
          },
          "metadata": {},
          "execution_count": 6
        }
      ]
    },
    {
      "cell_type": "code",
      "source": [
        "lista[ :3]"
      ],
      "metadata": {
        "colab": {
          "base_uri": "https://localhost:8080/"
        },
        "id": "1N4zqjiw_w2D",
        "outputId": "c549e266-11a8-495d-90f8-c6c7ba6cfbf7"
      },
      "execution_count": null,
      "outputs": [
        {
          "output_type": "execute_result",
          "data": {
            "text/plain": [
              "['Fabricio', 37, True]"
            ]
          },
          "metadata": {},
          "execution_count": 7
        }
      ]
    },
    {
      "cell_type": "code",
      "source": [
        "lista[-3:]"
      ],
      "metadata": {
        "colab": {
          "base_uri": "https://localhost:8080/"
        },
        "id": "IZHtp9bc_2IL",
        "outputId": "424ffa41-9032-47f8-c922-abbac537450f"
      },
      "execution_count": null,
      "outputs": [
        {
          "output_type": "execute_result",
          "data": {
            "text/plain": [
              "['bootcamp', 'Stella', 1.55]"
            ]
          },
          "metadata": {},
          "execution_count": 8
        }
      ]
    },
    {
      "cell_type": "code",
      "source": [
        "lista[:]"
      ],
      "metadata": {
        "colab": {
          "base_uri": "https://localhost:8080/"
        },
        "id": "f7w6u3_KAH51",
        "outputId": "53157adc-af88-4597-aa14-52243f6b4d75"
      },
      "execution_count": null,
      "outputs": [
        {
          "output_type": "execute_result",
          "data": {
            "text/plain": [
              "['Fabricio', 37, True, 4.5, 'bootcamp', 'Stella', 1.55]"
            ]
          },
          "metadata": {},
          "execution_count": 9
        }
      ]
    },
    {
      "cell_type": "markdown",
      "source": [
        "append() - um elemento só no final da lista"
      ],
      "metadata": {
        "id": "MSWtrFEjCLnY"
      }
    },
    {
      "cell_type": "code",
      "source": [
        "lista.append('Stefane')\n",
        "print(lista)"
      ],
      "metadata": {
        "colab": {
          "base_uri": "https://localhost:8080/"
        },
        "id": "tv-QqvuWCNuF",
        "outputId": "cea95f2e-8618-4da8-8082-d35d7277dfbf"
      },
      "execution_count": null,
      "outputs": [
        {
          "output_type": "stream",
          "name": "stdout",
          "text": [
            "['Fabricio', 37, True, 4.5, 'bootcamp', 'Stella', 1.55, 'Stefane']\n"
          ]
        }
      ]
    },
    {
      "cell_type": "markdown",
      "source": [
        "extend() - uma lista no"
      ],
      "metadata": {
        "id": "eBZNe6K9Cce2"
      }
    },
    {
      "cell_type": "code",
      "source": [
        "lista.extend([1.55,4,'Miguel'])\n",
        "print(lista)"
      ],
      "metadata": {
        "colab": {
          "base_uri": "https://localhost:8080/"
        },
        "id": "LZ67yGThChU7",
        "outputId": "34eb577e-9c1d-4ceb-cb1c-7e2347e34695"
      },
      "execution_count": null,
      "outputs": [
        {
          "output_type": "stream",
          "name": "stdout",
          "text": [
            "['Fabricio', 37, True, 4.5, 'bootcamp', 'Stella', 1.55, 'Stefane', 1.55, 4, 'Miguel']\n"
          ]
        }
      ]
    },
    {
      "cell_type": "code",
      "source": [
        "lista[-3]=1.75\n",
        "print(lista)"
      ],
      "metadata": {
        "colab": {
          "base_uri": "https://localhost:8080/"
        },
        "id": "LF13zA3SDVng",
        "outputId": "10ba4f64-4b6d-4038-b838-5a4296b7aa00"
      },
      "execution_count": null,
      "outputs": [
        {
          "output_type": "stream",
          "name": "stdout",
          "text": [
            "['Fabricio', 37, True, 4.5, 'bootcamp', 'Stella', 1.55, 'Stefane', 1.75, 4, 'Miguel']\n"
          ]
        }
      ]
    },
    {
      "cell_type": "markdown",
      "source": [
        "remove()"
      ],
      "metadata": {
        "id": "QpzMSTCIDkS9"
      }
    },
    {
      "cell_type": "code",
      "source": [
        "lista.remove('Miguel')"
      ],
      "metadata": {
        "id": "8Zx3VnPQDj8m"
      },
      "execution_count": null,
      "outputs": []
    },
    {
      "cell_type": "markdown",
      "source": [
        "pop()"
      ],
      "metadata": {
        "id": "u2j9S3X_HoNI"
      }
    },
    {
      "cell_type": "code",
      "source": [
        "lista_frutas=['banana','maçã','abacate','uva']\n",
        "lista_frutas.pop(1)"
      ],
      "metadata": {
        "colab": {
          "base_uri": "https://localhost:8080/",
          "height": 36
        },
        "id": "Y0e0Iy5cHrHb",
        "outputId": "80fa5152-47e5-48e4-f5ae-8ddf2f5901a6"
      },
      "execution_count": null,
      "outputs": [
        {
          "output_type": "execute_result",
          "data": {
            "text/plain": [
              "'maçã'"
            ],
            "application/vnd.google.colaboratory.intrinsic+json": {
              "type": "string"
            }
          },
          "metadata": {},
          "execution_count": 23
        }
      ]
    },
    {
      "cell_type": "markdown",
      "source": [
        "clear()"
      ],
      "metadata": {
        "id": "lpqUDYhuIBRh"
      }
    },
    {
      "cell_type": "code",
      "source": [
        "lista_frutas.clear()\n",
        "print(lista_frutas)"
      ],
      "metadata": {
        "colab": {
          "base_uri": "https://localhost:8080/"
        },
        "id": "Tagz7AdtICst",
        "outputId": "ce79a0c0-c644-4117-be88-722475193a2e"
      },
      "execution_count": null,
      "outputs": [
        {
          "output_type": "stream",
          "name": "stdout",
          "text": [
            "[]\n"
          ]
        }
      ]
    },
    {
      "cell_type": "markdown",
      "source": [
        "Lista de listas - Matriz"
      ],
      "metadata": {
        "id": "1VVJ_5YjFrwZ"
      }
    },
    {
      "cell_type": "code",
      "source": [
        "numeros=[[1,2,3],[4,5,6],[7,8,9]]\n",
        "# 1  2  3\n",
        "# 4  5  6\n",
        "# 7  8  9\n",
        "print(numeros)"
      ],
      "metadata": {
        "colab": {
          "base_uri": "https://localhost:8080/"
        },
        "id": "sfIv9cWOGD58",
        "outputId": "b09c36bb-4215-4a8d-f3f1-a039a8a149fe"
      },
      "execution_count": null,
      "outputs": [
        {
          "output_type": "stream",
          "name": "stdout",
          "text": [
            "[[1, 2, 3], [4, 5, 6], [7, 8, 9]]\n"
          ]
        }
      ]
    },
    {
      "cell_type": "code",
      "source": [
        "numeros[1]"
      ],
      "metadata": {
        "colab": {
          "base_uri": "https://localhost:8080/"
        },
        "id": "7IB5o5opGXVP",
        "outputId": "6f97fe3e-687c-47a8-8a21-8e451c9d77b7"
      },
      "execution_count": null,
      "outputs": [
        {
          "output_type": "execute_result",
          "data": {
            "text/plain": [
              "[4, 5, 6]"
            ]
          },
          "metadata": {},
          "execution_count": 20
        }
      ]
    },
    {
      "cell_type": "markdown",
      "source": [
        "sort()"
      ],
      "metadata": {
        "id": "gj2VhnNiIYU2"
      }
    },
    {
      "cell_type": "code",
      "source": [
        "lista_nomes=['Giovanni','Jeferson','Larissa','Alex','Anderson','Anderson']\n",
        "lista_nomes.sort(reverse=True) # Ao Contrario\n",
        "lista_nomes"
      ],
      "metadata": {
        "colab": {
          "base_uri": "https://localhost:8080/"
        },
        "id": "MrsJWOnJIbG9",
        "outputId": "7ace1afb-a2a3-4175-92ea-442d45c2319a"
      },
      "execution_count": null,
      "outputs": [
        {
          "output_type": "execute_result",
          "data": {
            "text/plain": [
              "['Larissa', 'Jeferson', 'Giovanni', 'Anderson', 'Anderson', 'Alex']"
            ]
          },
          "metadata": {},
          "execution_count": 33
        }
      ]
    },
    {
      "cell_type": "markdown",
      "source": [
        "reverse()"
      ],
      "metadata": {
        "id": "ZEwwi8YyJIwC"
      }
    },
    {
      "cell_type": "code",
      "source": [
        "lista_nomes.reverse()\n",
        "print(lista_nomes)"
      ],
      "metadata": {
        "colab": {
          "base_uri": "https://localhost:8080/"
        },
        "id": "RmsGKllhJOZN",
        "outputId": "9df74f47-d110-4a98-b22d-0684fa2553d5"
      },
      "execution_count": null,
      "outputs": [
        {
          "output_type": "stream",
          "name": "stdout",
          "text": [
            "['Larissa', 'Jeferson', 'Giovanni', 'Anderson', 'Alex']\n"
          ]
        }
      ]
    },
    {
      "cell_type": "markdown",
      "source": [
        "index()"
      ],
      "metadata": {
        "id": "Oz5F79_yMvay"
      }
    },
    {
      "cell_type": "code",
      "source": [
        "print(lista_nomes)\n",
        "lista_nomes.index('Jeferson')"
      ],
      "metadata": {
        "colab": {
          "base_uri": "https://localhost:8080/"
        },
        "id": "kIUjUqXwMzYK",
        "outputId": "c9a1c624-1cc9-4d82-acf7-fc4299021128"
      },
      "execution_count": null,
      "outputs": [
        {
          "output_type": "stream",
          "name": "stdout",
          "text": [
            "['Larissa', 'Jeferson', 'Giovanni', 'Anderson', 'Alex']\n"
          ]
        },
        {
          "output_type": "execute_result",
          "data": {
            "text/plain": [
              "1"
            ]
          },
          "metadata": {},
          "execution_count": 32
        }
      ]
    },
    {
      "cell_type": "markdown",
      "source": [
        "count()\n"
      ],
      "metadata": {
        "id": "qpfl04B-NtgF"
      }
    },
    {
      "cell_type": "code",
      "source": [
        "lista_nomes.count('Anderson')"
      ],
      "metadata": {
        "colab": {
          "base_uri": "https://localhost:8080/"
        },
        "id": "EIajwg8DN3IB",
        "outputId": "35f1cb01-0bcd-48bb-e0db-a0a4a8d0c048"
      },
      "execution_count": null,
      "outputs": [
        {
          "output_type": "execute_result",
          "data": {
            "text/plain": [
              "2"
            ]
          },
          "metadata": {},
          "execution_count": 34
        }
      ]
    },
    {
      "cell_type": "markdown",
      "source": [
        "While(enquanto)"
      ],
      "metadata": {
        "id": "iYVOpNHAb60g"
      }
    },
    {
      "cell_type": "code",
      "source": [
        "bolacha=5\n",
        "while bolacha>0:\n",
        "    print(f'Tenho {bolacha}')\n",
        "    print('comi a bolacha')\n",
        "    bolacha-=1  #bolacha=bolacha-1\n",
        "\n",
        "print('acabaram as minha bolachinhas')"
      ],
      "metadata": {
        "colab": {
          "base_uri": "https://localhost:8080/"
        },
        "id": "jNIOQgbXcA_Q",
        "outputId": "e122fca2-4df5-4ec0-9711-d382c6a6ce35"
      },
      "execution_count": null,
      "outputs": [
        {
          "output_type": "stream",
          "name": "stdout",
          "text": [
            "Tenho 5\n",
            "comi a bolacha\n",
            "Tenho 4\n",
            "comi a bolacha\n",
            "Tenho 3\n",
            "comi a bolacha\n",
            "Tenho 2\n",
            "comi a bolacha\n",
            "Tenho 1\n",
            "comi a bolacha\n",
            "acabaram as minha bolachinhas\n"
          ]
        }
      ]
    },
    {
      "cell_type": "markdown",
      "source": [
        "```\n",
        "while condição:\n",
        "    #bloco de código\n",
        "```"
      ],
      "metadata": {
        "id": "-cCrAEnPc-X1"
      }
    },
    {
      "cell_type": "markdown",
      "source": [
        "Exercício 1-\n",
        "\n",
        "Você foi contratado para desenvolver um pequeno sistema que auxilie professores no cálculo da média de notas dos alunos. O objetivo do programa é solicitar duas notas de um aluno, calcular a média e exibir o resultado. Esse processo deve ser repetido três vezes, pois será aplicado a três alunos diferentes.\n",
        "\n",
        "Regras do programa:\n",
        "\n",
        "*  O programa deve pedir duas notas para cada aluno.\n",
        "\n",
        "*  Após receber as notas, ele deve calcular e exibir a média aritmética.\n",
        "\n",
        "*  O procedimento deve se repetir para três alunos no total.\n"
      ],
      "metadata": {
        "id": "Zg75sK83n2Cf"
      }
    },
    {
      "cell_type": "code",
      "source": [
        "contador= 1\n",
        "\n",
        "qtd_alunos=int(input('Quantos alunos você quer ver a média?'))\n",
        "while contador<=qtd_alunos:\n",
        "    nota1=float(input('Primeira nota: '))\n",
        "    nota2=float(input('Segunda nota: '))\n",
        "\n",
        "    print(f'Media:{(nota1+nota2)/2}')\n",
        "    contador+=1 #contador=contador+1"
      ],
      "metadata": {
        "colab": {
          "base_uri": "https://localhost:8080/"
        },
        "id": "H9KfH18Wc99W",
        "outputId": "10ab0f20-a8b6-47e8-8b38-700d43ac6b1b"
      },
      "execution_count": null,
      "outputs": [
        {
          "output_type": "stream",
          "name": "stdout",
          "text": [
            "Quantos alunos você quer ver a média?3\n",
            "Primeira nota: 10\n",
            "Segunda nota: 1\n",
            "Media:5.5\n",
            "Primeira nota: 3\n",
            "Segunda nota: 10\n",
            "Media:6.5\n",
            "Primeira nota: 7\n",
            "Segunda nota: 7\n",
            "Media:7.0\n"
          ]
        }
      ]
    },
    {
      "cell_type": "markdown",
      "source": [
        "Exercício 2 - **Adivinhando o Número Secreto**\n",
        "\n",
        "Imagine que você está desenvolvendo um jogo de adivinhação simples. O programa deve escolher um número secreto (por exemplo, 7), e o usuário deve tentar adivinhá-lo.\n",
        "\n",
        "Regras do programa:\n",
        "\n",
        "* O programa deve solicitar um palpite ao usuário.\n",
        "* Se o número digitado for diferente do número secreto, o programa deve exibir \"Errado! Tente novamente:\" e pedir um novo palpite.\n",
        "* O loop deve continuar até que o usuário acerte o número.\n",
        "* Quando o usuário acertar, o programa deve exibir a mensagem e encerrar.\n"
      ],
      "metadata": {
        "id": "Et-UuncDts2G"
      }
    },
    {
      "cell_type": "code",
      "source": [
        "numero_secreto= 7\n",
        "palpite=0\n",
        "while palpite != numero_secreto:\n",
        "    palpite=int(input(\"Tente adivinhar o numero secreto: \"))\n",
        "\n",
        "    if palpite!= numero_secreto:\n",
        "        print( 'Você errou')\n",
        "    else:\n",
        "        print('Você acertou')\n"
      ],
      "metadata": {
        "colab": {
          "base_uri": "https://localhost:8080/"
        },
        "id": "gVh2_kyImMxv",
        "outputId": "b1b32e5f-8b8b-441b-8546-35af0b9613e6"
      },
      "execution_count": null,
      "outputs": [
        {
          "output_type": "stream",
          "name": "stdout",
          "text": [
            "Tente adivinhar o numero secreto: 6\n",
            "Você errou\n",
            "Tente adivinhar o numero secreto: 9\n",
            "Você errou\n",
            "Tente adivinhar o numero secreto: 7\n",
            "Você acertou\n"
          ]
        }
      ]
    },
    {
      "cell_type": "markdown",
      "source": [
        "##loop for"
      ],
      "metadata": {
        "id": "gurLY9bcGCc-"
      }
    },
    {
      "cell_type": "markdown",
      "source": [
        "```\n",
        "for elemento in conjunto:\n",
        "    #códigos a ser executado\n",
        "```"
      ],
      "metadata": {
        "id": "ny-rvTpHGSQf"
      }
    },
    {
      "cell_type": "markdown",
      "source": [
        "```\n",
        "range(inicio,fim,passo)\n",
        "```"
      ],
      "metadata": {
        "id": "oTdfAMk8GogI"
      }
    },
    {
      "cell_type": "code",
      "source": [
        "for i in range(2,10,2):\n",
        "    print(i)"
      ],
      "metadata": {
        "colab": {
          "base_uri": "https://localhost:8080/"
        },
        "id": "cEvHFKH3GCDE",
        "outputId": "fdeea283-a620-44b5-8ae4-15304de86a8e"
      },
      "execution_count": null,
      "outputs": [
        {
          "output_type": "stream",
          "name": "stdout",
          "text": [
            "2\n",
            "4\n",
            "6\n",
            "8\n"
          ]
        }
      ]
    },
    {
      "cell_type": "markdown",
      "source": [
        "Regras básicas:\n",
        "\n",
        "*  Se o inicio não for informado, ele considerar 0 como padrão\n",
        "*  Se o passo não for definido, ele vai ser 1 como padrão"
      ],
      "metadata": {
        "id": "SqDbeYUcH3oc"
      }
    },
    {
      "cell_type": "code",
      "source": [
        "for i in range(10):\n",
        "    print(i)"
      ],
      "metadata": {
        "colab": {
          "base_uri": "https://localhost:8080/"
        },
        "id": "KytFK--XHzLj",
        "outputId": "dd99ed87-eaa8-4989-f951-b38aef3ff7b0"
      },
      "execution_count": null,
      "outputs": [
        {
          "output_type": "stream",
          "name": "stdout",
          "text": [
            "0\n",
            "1\n",
            "2\n",
            "3\n",
            "4\n",
            "5\n",
            "6\n",
            "7\n",
            "8\n",
            "9\n"
          ]
        }
      ]
    },
    {
      "cell_type": "code",
      "source": [
        "pratos=4\n",
        "\n",
        "for prato in range(pratos):\n",
        "    print(f'Lavar o prato {prato+1}')\n",
        "    print(prato)"
      ],
      "metadata": {
        "colab": {
          "base_uri": "https://localhost:8080/"
        },
        "id": "taN0QOQCIUy8",
        "outputId": "b0660900-9f1d-4c63-921f-9571e723a339"
      },
      "execution_count": null,
      "outputs": [
        {
          "output_type": "stream",
          "name": "stdout",
          "text": [
            "Lavar o prato 1\n",
            "0\n",
            "Lavar o prato 2\n",
            "1\n",
            "Lavar o prato 3\n",
            "2\n",
            "Lavar o prato 4\n",
            "3\n"
          ]
        }
      ]
    },
    {
      "cell_type": "code",
      "source": [
        "#imprima do 0 ate o 4\n",
        "for i in range(5):\n",
        "    print(i)"
      ],
      "metadata": {
        "colab": {
          "base_uri": "https://localhost:8080/"
        },
        "id": "jISG82UrKvSv",
        "outputId": "9a0a8b49-d7fc-472a-be1a-1c6f504a3c07"
      },
      "execution_count": null,
      "outputs": [
        {
          "output_type": "stream",
          "name": "stdout",
          "text": [
            "0\n",
            "1\n",
            "2\n",
            "3\n",
            "4\n"
          ]
        }
      ]
    },
    {
      "cell_type": "code",
      "source": [
        "#imprima o 2 ate o 5\n",
        "for i in range(2,6):\n",
        "    print(i)\n"
      ],
      "metadata": {
        "colab": {
          "base_uri": "https://localhost:8080/"
        },
        "id": "8MlTSM3BLDL2",
        "outputId": "740b353d-2f8b-49d4-faa5-89b9529d83c3"
      },
      "execution_count": null,
      "outputs": [
        {
          "output_type": "stream",
          "name": "stdout",
          "text": [
            "2\n",
            "3\n",
            "4\n",
            "5\n"
          ]
        }
      ]
    },
    {
      "cell_type": "code",
      "source": [
        "#imprima 1 ao 9 e pula de 2 em 2\n",
        "for i in range(1,10,2): #range(começo,fim,passo)\n",
        "    print(i)"
      ],
      "metadata": {
        "colab": {
          "base_uri": "https://localhost:8080/"
        },
        "id": "3RGQCJF-LKYd",
        "outputId": "cfc27f30-2547-4ca8-d5eb-2782736ee851"
      },
      "execution_count": null,
      "outputs": [
        {
          "output_type": "stream",
          "name": "stdout",
          "text": [
            "1\n",
            "3\n",
            "5\n",
            "7\n",
            "9\n"
          ]
        }
      ]
    },
    {
      "cell_type": "code",
      "source": [
        "#imprima do 10 ate 2, e volta de 2 em 2\n",
        "for i in range(10,1,-2):\n",
        "    print(i)"
      ],
      "metadata": {
        "colab": {
          "base_uri": "https://localhost:8080/"
        },
        "id": "dkys2mZmLTaf",
        "outputId": "dce3ab33-b23b-4fee-c7cf-cd4bd0dc625a"
      },
      "execution_count": null,
      "outputs": [
        {
          "output_type": "stream",
          "name": "stdout",
          "text": [
            "10\n",
            "8\n",
            "6\n",
            "4\n",
            "2\n"
          ]
        }
      ]
    },
    {
      "cell_type": "markdown",
      "source": [
        "Percorrendo uma lista com for"
      ],
      "metadata": {
        "id": "U582__G2Me-0"
      }
    },
    {
      "cell_type": "code",
      "source": [
        "frutas=['Pera','Uva','Abacate','Jabuticaba','Kiwi','Morango']\n",
        "\n",
        "for i in frutas:\n",
        "    print(f'Eu gosto de: {i}')\n"
      ],
      "metadata": {
        "colab": {
          "base_uri": "https://localhost:8080/"
        },
        "id": "nOs9axhpMhqI",
        "outputId": "e5a382b8-62c1-4777-f530-ee5ab85f8ab4"
      },
      "execution_count": null,
      "outputs": [
        {
          "output_type": "stream",
          "name": "stdout",
          "text": [
            "Eu gosto de: Pera\n",
            "Eu gosto de: Uva\n",
            "Eu gosto de: Abacate\n",
            "Eu gosto de: Jabuticaba\n",
            "Eu gosto de: Kiwi\n",
            "Eu gosto de: Morango\n"
          ]
        }
      ]
    },
    {
      "cell_type": "markdown",
      "source": [
        "Modificar elementos de uma lista"
      ],
      "metadata": {
        "id": "xQ9uYynRO7S5"
      }
    },
    {
      "cell_type": "code",
      "source": [
        "numeros=[1,2,3,4,5]\n",
        "\n",
        "for i in range(len(numeros)):\n",
        "    numeros[i] *= 2 #Multiplica cada numero por 2\n",
        "\n",
        "print(numeros)"
      ],
      "metadata": {
        "colab": {
          "base_uri": "https://localhost:8080/"
        },
        "id": "YdPNLIzuPBHJ",
        "outputId": "e2d7500b-8e9e-4bf7-80df-f531c467b21c"
      },
      "execution_count": null,
      "outputs": [
        {
          "output_type": "stream",
          "name": "stdout",
          "text": [
            "[2, 4, 6, 8, 10]\n"
          ]
        }
      ]
    },
    {
      "cell_type": "markdown",
      "source": [
        "Filtrar elementos de uma lista"
      ],
      "metadata": {
        "id": "LXORiHbgQb16"
      }
    },
    {
      "cell_type": "code",
      "source": [
        "numeros=[10,4,7,3,6,17,13,20,70]\n",
        "pares=[] #pegando apenas numeros pares\n",
        "\n",
        "for i in range(len(numeros)):\n",
        "    if numeros[i] % 2== 0:\n",
        "        pares.append(numeros[i])\n",
        "\n",
        "print(pares)"
      ],
      "metadata": {
        "colab": {
          "base_uri": "https://localhost:8080/"
        },
        "id": "iY02Nw4CQe7m",
        "outputId": "650af407-793b-40f5-a041-522387880513"
      },
      "execution_count": null,
      "outputs": [
        {
          "output_type": "stream",
          "name": "stdout",
          "text": [
            "[10, 4, 6, 20, 70]\n"
          ]
        }
      ]
    },
    {
      "cell_type": "markdown",
      "source": [
        "Removendo elementos com remove()"
      ],
      "metadata": {
        "id": "wPKHq_2YSmVm"
      }
    },
    {
      "cell_type": "code",
      "source": [
        "numeros=[10,4,7,3,6,17,13,20,70]\n",
        "#remover os pares\n",
        "for i in numeros[:]:\n",
        "    if i % 2==0:\n",
        "        numeros.remove(i)\n",
        "print(numeros)"
      ],
      "metadata": {
        "colab": {
          "base_uri": "https://localhost:8080/"
        },
        "id": "6a73aAAaSpRj",
        "outputId": "b389d7de-052a-4866-86ae-cb62d8260735"
      },
      "execution_count": null,
      "outputs": [
        {
          "output_type": "stream",
          "name": "stdout",
          "text": [
            "[7, 3, 17, 13, 6.5]\n"
          ]
        }
      ]
    },
    {
      "cell_type": "markdown",
      "source": [
        "List comprehension"
      ],
      "metadata": {
        "id": "F4CGK8zRZd1I"
      }
    },
    {
      "cell_type": "markdown",
      "source": [
        "```\n",
        "nova_lita=[expressão for item in iteravel if condição]\n",
        "```"
      ],
      "metadata": {
        "id": "ZS6g9qcRZiRG"
      }
    },
    {
      "cell_type": "code",
      "source": [
        "#criar uma lista de quadrados dos numeros 1 a 5\n",
        "quadrados=[x**2 for x in range(1,6)]\n",
        "print(quadrados)\n",
        "\n",
        "lista=[1,2,3,4,5]\n",
        "\n",
        "for i in range(len(lista)):\n",
        "    lista[i]=lista[i]**2\n",
        "lista\n"
      ],
      "metadata": {
        "colab": {
          "base_uri": "https://localhost:8080/"
        },
        "id": "vf8k62XjZf-5",
        "outputId": "21b24401-6782-4ceb-e12a-8db92966aa01"
      },
      "execution_count": null,
      "outputs": [
        {
          "output_type": "stream",
          "name": "stdout",
          "text": [
            "[1, 4, 9, 16, 25]\n"
          ]
        },
        {
          "output_type": "execute_result",
          "data": {
            "text/plain": [
              "[1, 4, 9, 16, 25]"
            ]
          },
          "metadata": {},
          "execution_count": 40
        }
      ]
    },
    {
      "cell_type": "code",
      "source": [
        "#filtrar numeros pares\n",
        "pares=[x for x in lista if x%2==0]\n",
        "print(pares)"
      ],
      "metadata": {
        "colab": {
          "base_uri": "https://localhost:8080/"
        },
        "id": "2FSqZsnzfpMf",
        "outputId": "302fd5e9-210a-49a0-a016-427566f01f1f"
      },
      "execution_count": null,
      "outputs": [
        {
          "output_type": "stream",
          "name": "stdout",
          "text": [
            "[4, 16]\n"
          ]
        }
      ]
    },
    {
      "cell_type": "markdown",
      "source": [
        "##Tuplas"
      ],
      "metadata": {
        "id": "6TuurSGgf3Z6"
      }
    },
    {
      "cell_type": "code",
      "source": [
        "tupla=(1,'Python',3.14,True)"
      ],
      "metadata": {
        "id": "l_peW2kif5XS"
      },
      "execution_count": null,
      "outputs": []
    },
    {
      "cell_type": "code",
      "source": [
        "print(type(tupla))"
      ],
      "metadata": {
        "colab": {
          "base_uri": "https://localhost:8080/"
        },
        "id": "5riqwqNuicrk",
        "outputId": "84e84cdd-2444-4913-89b1-75b175a00453"
      },
      "execution_count": null,
      "outputs": [
        {
          "output_type": "stream",
          "name": "stdout",
          "text": [
            "<class 'tuple'>\n"
          ]
        }
      ]
    },
    {
      "cell_type": "markdown",
      "source": [
        "Acessar elemento das tuplas"
      ],
      "metadata": {
        "id": "3x0CuKOnhhDr"
      }
    },
    {
      "cell_type": "code",
      "source": [
        "print(tupla[1])"
      ],
      "metadata": {
        "colab": {
          "base_uri": "https://localhost:8080/"
        },
        "id": "G0UCCGvdhmBi",
        "outputId": "17eb8f1d-7b0c-4e8d-fc7a-28a66223bced"
      },
      "execution_count": null,
      "outputs": [
        {
          "output_type": "stream",
          "name": "stdout",
          "text": [
            "Python\n"
          ]
        }
      ]
    },
    {
      "cell_type": "markdown",
      "source": [
        "Fatiando uma tupla"
      ],
      "metadata": {
        "id": "B6JvqC2zhywZ"
      }
    },
    {
      "cell_type": "code",
      "source": [
        "print(tupla[1:4])"
      ],
      "metadata": {
        "colab": {
          "base_uri": "https://localhost:8080/"
        },
        "id": "ogTfCpMFh0RZ",
        "outputId": "1a59ae27-c1ae-4f26-bd7f-3d587043cdfa"
      },
      "execution_count": null,
      "outputs": [
        {
          "output_type": "stream",
          "name": "stdout",
          "text": [
            "('Python', 3.14, True)\n"
          ]
        }
      ]
    },
    {
      "cell_type": "markdown",
      "source": [
        "Iterando sobre uma tupla"
      ],
      "metadata": {
        "id": "DwgpvbkniClq"
      }
    },
    {
      "cell_type": "code",
      "source": [
        "tupla_letras=('a','b','c','d','e')\n",
        "for i in tupla_letras:\n",
        "    print(i)"
      ],
      "metadata": {
        "colab": {
          "base_uri": "https://localhost:8080/"
        },
        "id": "ANGw8DXViFVg",
        "outputId": "3d819e22-72eb-4053-a7eb-606f151e2014"
      },
      "execution_count": null,
      "outputs": [
        {
          "output_type": "stream",
          "name": "stdout",
          "text": [
            "a\n",
            "b\n",
            "c\n",
            "d\n",
            "e\n"
          ]
        }
      ]
    },
    {
      "cell_type": "markdown",
      "source": [
        "Métodos Básicos"
      ],
      "metadata": {
        "id": "K4IUpcyNjKRy"
      }
    },
    {
      "cell_type": "markdown",
      "source": [
        "count()"
      ],
      "metadata": {
        "id": "lpZUj47BjTez"
      }
    },
    {
      "cell_type": "code",
      "source": [
        "tupla_numeros=(1,1,2,4,6,3,3,9)"
      ],
      "metadata": {
        "id": "236KR0DUjcRr"
      },
      "execution_count": null,
      "outputs": []
    },
    {
      "cell_type": "code",
      "source": [
        "tupla_numeros.count(1)"
      ],
      "metadata": {
        "colab": {
          "base_uri": "https://localhost:8080/"
        },
        "id": "ctBFliZ3jR1w",
        "outputId": "209c3dc7-7457-4d38-9160-e6742f7c4de1"
      },
      "execution_count": null,
      "outputs": [
        {
          "output_type": "execute_result",
          "data": {
            "text/plain": [
              "2"
            ]
          },
          "metadata": {},
          "execution_count": 9
        }
      ]
    },
    {
      "cell_type": "code",
      "source": [
        "print(type(tupla_numeros[3]))"
      ],
      "metadata": {
        "colab": {
          "base_uri": "https://localhost:8080/"
        },
        "id": "jRSd1EXDjoKg",
        "outputId": "d08fe390-9413-4d8c-8481-408a75097baa"
      },
      "execution_count": null,
      "outputs": [
        {
          "output_type": "stream",
          "name": "stdout",
          "text": [
            "<class 'int'>\n"
          ]
        }
      ]
    },
    {
      "cell_type": "code",
      "source": [
        "tupla_numeros.index(3)"
      ],
      "metadata": {
        "colab": {
          "base_uri": "https://localhost:8080/"
        },
        "id": "A-z5LD0EjzSu",
        "outputId": "73b8e665-2b31-47c1-c2ea-37f82cbe3060"
      },
      "execution_count": null,
      "outputs": [
        {
          "output_type": "execute_result",
          "data": {
            "text/plain": [
              "5"
            ]
          },
          "metadata": {},
          "execution_count": 14
        }
      ]
    },
    {
      "cell_type": "markdown",
      "source": [
        "sum()"
      ],
      "metadata": {
        "id": "YwnjV1BMleXK"
      }
    },
    {
      "cell_type": "code",
      "source": [
        "print(sum(tupla_numeros))"
      ],
      "metadata": {
        "colab": {
          "base_uri": "https://localhost:8080/"
        },
        "id": "MOYkXGLRkhqn",
        "outputId": "aeff51d0-a766-4c60-c33c-eaf9af3ac589"
      },
      "execution_count": null,
      "outputs": [
        {
          "output_type": "stream",
          "name": "stdout",
          "text": [
            "29\n"
          ]
        }
      ]
    },
    {
      "cell_type": "markdown",
      "source": [
        "len()"
      ],
      "metadata": {
        "id": "AIoIGFlYlm6b"
      }
    },
    {
      "cell_type": "code",
      "source": [
        "print(len(tupla_numeros))"
      ],
      "metadata": {
        "colab": {
          "base_uri": "https://localhost:8080/"
        },
        "id": "Z85m0DAnloZB",
        "outputId": "90d2a9ef-825d-42d8-fb79-85ca0452abce"
      },
      "execution_count": null,
      "outputs": [
        {
          "output_type": "stream",
          "name": "stdout",
          "text": [
            "8\n"
          ]
        }
      ]
    },
    {
      "cell_type": "markdown",
      "source": [
        "###Exercicio"
      ],
      "metadata": {
        "id": "4sywhdkwl2vi"
      }
    },
    {
      "cell_type": "markdown",
      "source": [
        "Faça um algoritmo cria uma tupla e coloque 4 notas\n",
        "\n",
        "Calcule a média utilizando sum() e len()\n",
        "\n",
        "Se o aluno tiver media menos que 7 está reprovado"
      ],
      "metadata": {
        "id": "Jx4g3ODOl5_9"
      }
    },
    {
      "cell_type": "code",
      "source": [
        "notas=(4.6,7.8,5.2,8)\n",
        "\n",
        "media=sum(notas)/len(notas)\n",
        "if media>=7:\n",
        "    print('aprovado')\n",
        "else:\n",
        "    print(f'reprovado: {media}')"
      ],
      "metadata": {
        "colab": {
          "base_uri": "https://localhost:8080/"
        },
        "id": "fGn3O__Fl1FL",
        "outputId": "b08d2544-0d42-42de-c4bc-2925be884543"
      },
      "execution_count": null,
      "outputs": [
        {
          "output_type": "stream",
          "name": "stdout",
          "text": [
            "reprovado: 6.3999999999999995\n"
          ]
        }
      ]
    },
    {
      "cell_type": "markdown",
      "source": [
        "Converter Lista em tuplas"
      ],
      "metadata": {
        "id": "7TzlNKWoneSz"
      }
    },
    {
      "cell_type": "code",
      "source": [
        "lista=[1,2,3,4,5,6]\n",
        "tupla=tuple(lista)\n",
        "print(tupla, type(tupla))"
      ],
      "metadata": {
        "colab": {
          "base_uri": "https://localhost:8080/"
        },
        "id": "sRij65jhnPna",
        "outputId": "5c97196b-f658-487f-b46d-edf38b593a1e"
      },
      "execution_count": null,
      "outputs": [
        {
          "output_type": "stream",
          "name": "stdout",
          "text": [
            "(1, 2, 3, 4, 5, 6) <class 'tuple'>\n"
          ]
        }
      ]
    },
    {
      "cell_type": "markdown",
      "source": [
        "tranformar tuple em list"
      ],
      "metadata": {
        "id": "v3BuWeKvn9NY"
      }
    },
    {
      "cell_type": "code",
      "source": [
        "lista=list(tupla)"
      ],
      "metadata": {
        "id": "B9E9vgo2oAZs"
      },
      "execution_count": null,
      "outputs": []
    },
    {
      "cell_type": "markdown",
      "source": [
        "###Exercício\n",
        "Faça um algoritmo cria uma lista e coloque 4 notas em um laço\n",
        "\n",
        "Transforme essas notas em tuplas\n",
        "\n",
        "Calcule a média utilizando sum() e len()\n",
        "\n",
        "Se o aluno tiver media menos que 7 está reprovado"
      ],
      "metadata": {
        "id": "ZAVow7QloXNZ"
      }
    },
    {
      "cell_type": "code",
      "source": [
        "notas=[]\n",
        "for i in range(1,5):\n",
        "    nota=float(input(f'Digite sua nota_{i}'))\n",
        "    notas.append(nota)\n",
        "notas=tuple(notas)\n",
        "\n",
        "media=sum(notas)/len(notas)\n",
        "if media>=7:\n",
        "    print('aprovado')\n",
        "else:\n",
        "    print(f'reprovado: {media}')"
      ],
      "metadata": {
        "colab": {
          "base_uri": "https://localhost:8080/"
        },
        "id": "0WJzPin7oZzr",
        "outputId": "c90f4b4f-966f-4077-d2d0-8a4ebae8c3d6"
      },
      "execution_count": null,
      "outputs": [
        {
          "output_type": "stream",
          "name": "stdout",
          "text": [
            "Digite sua nota_110\n",
            "Digite sua nota_28\n",
            "Digite sua nota_39\n",
            "Digite sua nota_410\n",
            "aprovado\n"
          ]
        }
      ]
    },
    {
      "cell_type": "markdown",
      "source": [
        "##Dicionários"
      ],
      "metadata": {
        "id": "rB4v2-aHunTM"
      }
    },
    {
      "cell_type": "markdown",
      "source": [
        "Criando um dicionário\n",
        "\n",
        "```\n",
        "key =chave\n",
        "value=valor\n",
        "```"
      ],
      "metadata": {
        "id": "eOTuB_1pMJSP"
      }
    },
    {
      "cell_type": "code",
      "source": [
        "agenda={\n",
        "    'nome':'Viviane',\n",
        "    'telefone':'(11)11223344',\n",
        "    'idade':18,\n",
        "    'lista':['chocolate','teclado','café da serra da canastra'],\n",
        "    'trabalho':'Analista de dados',\n",
        "    'endereço':{'rua':'rua 1', 'numero': 23}\n",
        "}"
      ],
      "metadata": {
        "id": "9HVx0ibSusRA"
      },
      "execution_count": null,
      "outputs": []
    },
    {
      "cell_type": "code",
      "source": [
        "print(agenda)"
      ],
      "metadata": {
        "colab": {
          "base_uri": "https://localhost:8080/"
        },
        "id": "UqMXj0hH2kJA",
        "outputId": "9108da90-e598-46fd-c375-5d8bcbea65b8"
      },
      "execution_count": null,
      "outputs": [
        {
          "output_type": "stream",
          "name": "stdout",
          "text": [
            "{'nome': 'Viviane', 'telefone': '(11)11223344', 'idade': 18, 'lista': ['chocolate', 'teclado', 'café da serra da canastra'], 'trabalho': 'Analista de dados', 'endereço': {'rua': 'rua 1', 'numero': 23}}\n"
          ]
        }
      ]
    },
    {
      "cell_type": "code",
      "source": [
        "agenda1=dict(nome='Layla',telefone='(61)11223344')\n",
        "print(agenda1)"
      ],
      "metadata": {
        "colab": {
          "base_uri": "https://localhost:8080/"
        },
        "id": "t4H2lIkw2LmJ",
        "outputId": "5863dc1f-53cb-4fb7-fd18-9b72c2d49397"
      },
      "execution_count": null,
      "outputs": [
        {
          "output_type": "stream",
          "name": "stdout",
          "text": [
            "{'nome': 'Layla', 'telefone': '(61)11223344'}\n"
          ]
        }
      ]
    },
    {
      "cell_type": "markdown",
      "source": [
        "Acessando Valores"
      ],
      "metadata": {
        "id": "p1RXVIDIMNE6"
      }
    },
    {
      "cell_type": "code",
      "source": [
        "print(agenda[\"nome\"])"
      ],
      "metadata": {
        "colab": {
          "base_uri": "https://localhost:8080/"
        },
        "id": "MeVxyZP1MTqM",
        "outputId": "651d875f-fe6b-43a9-887c-63f9a31b7660"
      },
      "execution_count": null,
      "outputs": [
        {
          "output_type": "stream",
          "name": "stdout",
          "text": [
            "Viviane\n"
          ]
        }
      ]
    },
    {
      "cell_type": "markdown",
      "source": [
        "Adicionar ou então Modificar"
      ],
      "metadata": {
        "id": "T09UY_D7NHN1"
      }
    },
    {
      "cell_type": "code",
      "source": [
        "agenda['Observação']= 'Mansão de 5 quartos'\n",
        "print(agenda)"
      ],
      "metadata": {
        "colab": {
          "base_uri": "https://localhost:8080/"
        },
        "id": "Zg2BGTlcNKGA",
        "outputId": "d7d26345-d9cb-4ede-e032-e90da12887ce"
      },
      "execution_count": null,
      "outputs": [
        {
          "output_type": "stream",
          "name": "stdout",
          "text": [
            "{'nome': 'Viviane', 'telefone': '(11)11223344', 'idade': 18, 'lista': ['chocolate', 'teclado', 'café da serra da canastra'], 'trabalho': 'Analista de dados', 'endereço': {'rua': 'rua 1', 'numero': 23}, 'Observação': 'Mansão de 5 quartos'}\n"
          ]
        }
      ]
    },
    {
      "cell_type": "code",
      "source": [
        "agenda['idade']=19\n",
        "print(agenda)"
      ],
      "metadata": {
        "colab": {
          "base_uri": "https://localhost:8080/"
        },
        "id": "kqhgRakQNnry",
        "outputId": "a3ac396c-927a-4c31-c417-40db0ce50889"
      },
      "execution_count": null,
      "outputs": [
        {
          "output_type": "stream",
          "name": "stdout",
          "text": [
            "{'nome': 'Viviane', 'telefone': '(11)11223344', 'idade': 19, 'lista': ['chocolate', 'teclado', 'café da serra da canastra'], 'trabalho': 'Analista de dados', 'endereço': {'rua': 'rua 1', 'numero': 23}, 'Observação': 'Mansão de 5 quartos'}\n"
          ]
        }
      ]
    },
    {
      "cell_type": "markdown",
      "source": [
        "Removendo itens"
      ],
      "metadata": {
        "id": "Mhlw8aeoNvw7"
      }
    },
    {
      "cell_type": "code",
      "source": [
        "del agenda['lista']\n",
        "print(agenda)"
      ],
      "metadata": {
        "colab": {
          "base_uri": "https://localhost:8080/"
        },
        "id": "f8v4TVhWNxle",
        "outputId": "e72696dd-2411-4967-cae4-a24fff10e225"
      },
      "execution_count": null,
      "outputs": [
        {
          "output_type": "stream",
          "name": "stdout",
          "text": [
            "{'nome': 'Viviane', 'telefone': '(11)11223344', 'idade': 19, 'trabalho': 'Analista de dados', 'endereço': {'rua': 'rua 1', 'numero': 23}, 'Observação': 'Mansão de 5 quartos'}\n"
          ]
        }
      ]
    },
    {
      "cell_type": "markdown",
      "source": [
        "Deletar um dicionario"
      ],
      "metadata": {
        "id": "tqKs7cG7ODfF"
      }
    },
    {
      "cell_type": "code",
      "source": [
        "#del agenda1"
      ],
      "metadata": {
        "id": "QNXv6W9dOGIP"
      },
      "execution_count": null,
      "outputs": []
    },
    {
      "cell_type": "markdown",
      "source": [
        "usando o .pop"
      ],
      "metadata": {
        "id": "lYIcdVJ_OaBa"
      }
    },
    {
      "cell_type": "code",
      "source": [
        "#ex_endereco=agenda.pop('endereço')\n",
        "agenda.pop('Observação')\n",
        "print(agenda)"
      ],
      "metadata": {
        "colab": {
          "base_uri": "https://localhost:8080/"
        },
        "id": "XwohrDV1Okcv",
        "outputId": "240bc94d-d571-4df2-fb62-4c0ab108960c"
      },
      "execution_count": null,
      "outputs": [
        {
          "output_type": "stream",
          "name": "stdout",
          "text": [
            "{'nome': 'Viviane', 'telefone': '(11)11223344', 'idade': 19, 'trabalho': 'Analista de dados'}\n"
          ]
        }
      ]
    },
    {
      "cell_type": "markdown",
      "source": [
        "Iterando em um Dicionario"
      ],
      "metadata": {
        "id": "eM2QcyZgPPYS"
      }
    },
    {
      "cell_type": "markdown",
      "source": [],
      "metadata": {
        "id": "4GPM3_RoQtMd"
      }
    },
    {
      "cell_type": "code",
      "source": [
        "#imprimindo apenas as chaves de um dicionário\n",
        "for chave in agenda.keys():\n",
        "    print(chave)"
      ],
      "metadata": {
        "colab": {
          "base_uri": "https://localhost:8080/"
        },
        "id": "o16naiejPVT1",
        "outputId": "95579d46-1f52-4464-ac12-a8297f7b64d7"
      },
      "execution_count": null,
      "outputs": [
        {
          "output_type": "stream",
          "name": "stdout",
          "text": [
            "nome\n",
            "telefone\n",
            "idade\n",
            "lista\n",
            "trabalho\n",
            "endereço\n"
          ]
        }
      ]
    },
    {
      "cell_type": "code",
      "source": [
        "#imprimindo apenas os valores de um dicionário\n",
        "for valor in agenda.values():\n",
        "    print(valor)"
      ],
      "metadata": {
        "colab": {
          "base_uri": "https://localhost:8080/"
        },
        "id": "AyeB5L2JRfcW",
        "outputId": "9e241946-9564-4751-cfa0-a7de2fb92350"
      },
      "execution_count": null,
      "outputs": [
        {
          "output_type": "stream",
          "name": "stdout",
          "text": [
            "Viviane\n",
            "(11)11223344\n",
            "18\n",
            "['chocolate', 'teclado', 'café da serra da canastra']\n",
            "Analista de dados\n",
            "{'rua': 'rua 1', 'numero': 23}\n"
          ]
        }
      ]
    },
    {
      "cell_type": "code",
      "source": [
        "#imprimindo os dois\n",
        "for chave,valor in agenda.items():\n",
        "    print(chave,':',valor)"
      ],
      "metadata": {
        "colab": {
          "base_uri": "https://localhost:8080/"
        },
        "id": "v97DZNzjRxQ6",
        "outputId": "1c461f29-420a-4473-dfe6-c0a8cde09aa3"
      },
      "execution_count": null,
      "outputs": [
        {
          "output_type": "stream",
          "name": "stdout",
          "text": [
            "nome : Viviane\n",
            "telefone : (11)11223344\n",
            "idade : 18\n",
            "lista : ['chocolate', 'teclado', 'café da serra da canastra']\n",
            "trabalho : Analista de dados\n",
            "endereço : {'rua': 'rua 1', 'numero': 23}\n"
          ]
        }
      ]
    },
    {
      "cell_type": "code",
      "source": [
        "for chave,valor in agenda1.items():\n",
        "    print(chave,':',valor)"
      ],
      "metadata": {
        "colab": {
          "base_uri": "https://localhost:8080/"
        },
        "id": "Q3BmoZPTTOo4",
        "outputId": "9607d67b-c8f2-4d09-a3c4-e78205f6f890"
      },
      "execution_count": null,
      "outputs": [
        {
          "output_type": "stream",
          "name": "stdout",
          "text": [
            "nome : Layla\n",
            "telefone : (61)11223344\n"
          ]
        }
      ]
    },
    {
      "cell_type": "markdown",
      "source": [
        "Limpar todo um dicionário"
      ],
      "metadata": {
        "id": "M-CRuDHiR7wG"
      }
    },
    {
      "cell_type": "code",
      "source": [
        "agenda.clear()\n",
        "print(agenda)"
      ],
      "metadata": {
        "colab": {
          "base_uri": "https://localhost:8080/"
        },
        "id": "roxhecrsSSXL",
        "outputId": "ed3d894d-7d68-430c-ce4c-e3b0929e5a24"
      },
      "execution_count": null,
      "outputs": [
        {
          "output_type": "stream",
          "name": "stdout",
          "text": [
            "{}\n"
          ]
        }
      ]
    },
    {
      "cell_type": "markdown",
      "source": [
        "update()"
      ],
      "metadata": {
        "id": "NULyulWAThPN"
      }
    },
    {
      "cell_type": "code",
      "source": [
        "carro={\n",
        "    'carro':'Uno',\n",
        "    'modelo':'mile',\n",
        "    'ano':'2013'\n",
        "}\n",
        "atualizacao={\n",
        "    'acessório':'escada em cima',\n",
        "    'marca':'FIAT'\n",
        "}\n",
        "carro.update(atualizacao)\n",
        "for chave,valor in carro.items():\n",
        "    print(chave,':',valor)"
      ],
      "metadata": {
        "colab": {
          "base_uri": "https://localhost:8080/"
        },
        "id": "IdRLgFDHTjZI",
        "outputId": "1bfaf787-ec6a-4f00-9d84-56c75c5ad732"
      },
      "execution_count": null,
      "outputs": [
        {
          "output_type": "stream",
          "name": "stdout",
          "text": [
            "carro : Uno\n",
            "modelo : mile\n",
            "ano : 2013\n",
            "acessório : escada em cima\n",
            "marca : FIAT\n"
          ]
        }
      ]
    },
    {
      "cell_type": "code",
      "source": [
        "atualizacao_viviane={\n",
        "    'filhos':11,\n",
        "    'idade':20\n",
        "}\n",
        "agenda.update(atualizacao_viviane)\n",
        "for chave,valor in agenda.items():\n",
        "    print(chave,':',valor)"
      ],
      "metadata": {
        "colab": {
          "base_uri": "https://localhost:8080/"
        },
        "id": "5jz0uWyZVJtX",
        "outputId": "7dbe53e9-4dc6-492b-dd25-663157c8eaa6"
      },
      "execution_count": null,
      "outputs": [
        {
          "output_type": "stream",
          "name": "stdout",
          "text": [
            "nome : Viviane\n",
            "telefone : (11)11223344\n",
            "idade : 20\n",
            "lista : ['chocolate', 'teclado', 'café da serra da canastra']\n",
            "trabalho : Analista de dados\n",
            "endereço : {'rua': 'rua 1', 'numero': 23}\n",
            "filhos : 11\n"
          ]
        }
      ]
    },
    {
      "cell_type": "markdown",
      "source": [
        "Exercício 1: Criando um Dicionário Básico\n",
        "Crie um dicionário chamado aluno que armazene as seguintes informações sobre um aluno:\n",
        "\n",
        "Nome: \"João\"\n",
        "\n",
        "Idade: 15\n",
        "\n",
        "Nota: 9.5\n",
        "\n",
        "Depois, imprima o dicionário completo."
      ],
      "metadata": {
        "id": "I4WAedshWLGb"
      }
    },
    {
      "cell_type": "code",
      "source": [
        "aluno_1={\n",
        "    'Nome':'João',\n",
        "    'Idade':15,\n",
        "    'Nota':9.5\n",
        "}\n",
        "aluno_2=dict(Nome='Maria',Idade='17',Nota=8)\n",
        "\n",
        "print(aluno_1)\n",
        "print(aluno_2)"
      ],
      "metadata": {
        "colab": {
          "base_uri": "https://localhost:8080/"
        },
        "id": "ocVO2mExWNQj",
        "outputId": "4995a75e-9d0f-48ad-ff8f-c3269e69e672"
      },
      "execution_count": null,
      "outputs": [
        {
          "output_type": "stream",
          "name": "stdout",
          "text": [
            "{'Nome': 'João', 'Idade': 15, 'Nota': 9.5}\n",
            "{'Nome': 'Maria', 'Idade': '17', 'Nota': 8}\n"
          ]
        }
      ]
    },
    {
      "cell_type": "markdown",
      "source": [
        "Exercício 2: Acessando Valores\n",
        "Usando o dicionário aluno criado no Exercício 1, faça o seguinte:\n",
        "\n",
        "Acesse e imprima o nome do aluno.\n",
        "\n",
        "Acesse e imprima a idade do aluno.\n",
        "\n",
        "Acesse e imprima a nota do aluno."
      ],
      "metadata": {
        "id": "L9_2jKbWYOY4"
      }
    },
    {
      "cell_type": "code",
      "source": [
        "for chave, valor in aluno_1.items():\n",
        "    print(chave,':',valor)\n",
        "for chave, valor in aluno_2.items():\n",
        "    print(chave,':',valor)"
      ],
      "metadata": {
        "colab": {
          "base_uri": "https://localhost:8080/"
        },
        "id": "dhOhztuJYPwR",
        "outputId": "e854d1fc-8c88-4a88-8202-bf3f79941ae9"
      },
      "execution_count": null,
      "outputs": [
        {
          "output_type": "stream",
          "name": "stdout",
          "text": [
            "Nome : João\n",
            "Idade : 15\n",
            "Nota : 9.5\n",
            "Nome : Maria\n",
            "Idade : 17\n",
            "Nota : 8\n"
          ]
        }
      ]
    },
    {
      "cell_type": "markdown",
      "source": [
        "Exercício 3: Modificando Valores\n",
        "\n",
        "Altere as idades e as notas dos alunos\n",
        "\n",
        "Cria um outro dicionário chamada mochila, e coloca tudo que tem dentro da mochila de cada aluno e atualize no dicionário aluno"
      ],
      "metadata": {
        "id": "xkT19hafYr3b"
      }
    },
    {
      "cell_type": "code",
      "source": [
        "mochila={\n",
        "    'objetos':['caderno','lapis','caneta'],\n",
        "    'agenda':{'pai':'Antonio','telefone':'(64)12233456'}\n",
        "}\n",
        "aluno_2.update(mochila)\n",
        "print(aluno_2)"
      ],
      "metadata": {
        "colab": {
          "base_uri": "https://localhost:8080/"
        },
        "id": "C6gGAJPWZGrY",
        "outputId": "4ec6fc82-3ffa-4410-bdd2-151c057c3c5e"
      },
      "execution_count": null,
      "outputs": [
        {
          "output_type": "stream",
          "name": "stdout",
          "text": [
            "{'Nome': 'Maria', 'Idade': '17', 'Nota': 8, 'objetos': ['caderno', 'lapis', 'caneta'], 'agenda': {'pai': 'Antonio', 'telefone': '(64)12233456'}}\n"
          ]
        }
      ]
    },
    {
      "cell_type": "markdown",
      "source": [
        "##Funções"
      ],
      "metadata": {
        "id": "VDo9iQOhenyd"
      }
    },
    {
      "cell_type": "markdown",
      "source": [
        "```\n",
        "def nome_da_funcao():\n",
        "     #bloco de códigos\n",
        "```"
      ],
      "metadata": {
        "id": "LsrbiIXYhHd7"
      }
    },
    {
      "cell_type": "code",
      "source": [
        "def area(c=1,l=1):\n",
        "    area=c*l\n",
        "    return print(f'A área é {area} m²')\n",
        "\n",
        "largura=int(input(\"Qual a largura do quarto: \"))\n",
        "comprimento=int(input('Qual o comprimento do quarto: '))\n",
        "\n",
        "area(comprimento,largura)\n"
      ],
      "metadata": {
        "colab": {
          "base_uri": "https://localhost:8080/"
        },
        "id": "oFT7AjBVep9W",
        "outputId": "f27b0f47-1dd1-4a3a-a63e-998f5325b481"
      },
      "execution_count": null,
      "outputs": [
        {
          "output_type": "stream",
          "name": "stdout",
          "text": [
            "Qual a largura do quarto: 3\n",
            "Qual o comprimento do quarto: 2\n",
            "A área é 6m²\n"
          ]
        }
      ]
    },
    {
      "cell_type": "code",
      "source": [
        "def saudacao(nome):\n",
        "    print(f'Bem Vinda!!!{nome}')\n",
        "\n",
        "\n",
        "lista=['caroline','fernanda','valentina']\n",
        "for i in lista:\n",
        "    saudacao(i)"
      ],
      "metadata": {
        "colab": {
          "base_uri": "https://localhost:8080/"
        },
        "id": "YYooi754hdcL",
        "outputId": "5f82f466-0550-42d8-8f7d-7bdc6f0d82dd"
      },
      "execution_count": null,
      "outputs": [
        {
          "output_type": "stream",
          "name": "stdout",
          "text": [
            "Bem Vinda!!!caroline\n",
            "Bem Vinda!!!fernanda\n",
            "Bem Vinda!!!valentina\n"
          ]
        }
      ]
    },
    {
      "cell_type": "markdown",
      "source": [
        "Exercício- Faça uma função que me retorne uma soma e imprima os valores\n",
        "\n",
        "\n"
      ],
      "metadata": {
        "id": "dZojbfQblhv4"
      }
    },
    {
      "cell_type": "code",
      "source": [
        "def comprimentar(nome='Fulano'):\n",
        "    print(f'Olá {nome}')\n",
        "\n",
        "comprimentar('Stefane')"
      ],
      "metadata": {
        "colab": {
          "base_uri": "https://localhost:8080/"
        },
        "id": "H644WgMomTaE",
        "outputId": "7e6acccd-c301-4027-a9b6-33ad091be8b1"
      },
      "execution_count": null,
      "outputs": [
        {
          "output_type": "stream",
          "name": "stdout",
          "text": [
            "Olá Stefane\n"
          ]
        }
      ]
    },
    {
      "cell_type": "markdown",
      "source": [
        "Exercício- Calculadora simples\n",
        "\n",
        "Crie 4 funções soma, subtração, divisão, multiplicação\n",
        "\n",
        "Crie um Menu que chamará essas funções usando While"
      ],
      "metadata": {
        "id": "5LQfRAyasq_9"
      }
    },
    {
      "cell_type": "code",
      "source": [
        "\n",
        "\n",
        "from IPython.display import clear_output\n",
        "def limpar_terminal():\n",
        "    clear_output(wait=True)\n",
        "\n",
        "\n",
        "#Funções\n",
        "\n",
        "#Função somar\n",
        "def soma(a,b):\n",
        "    return print(a+b)\n",
        "\n",
        "#Função subtração\n",
        "def subt(a,b):\n",
        "    return print(a-b)\n",
        "\n",
        "#Função Multiplicação\n",
        "def mult(a,b):\n",
        "    return print(a*b)\n",
        "\n",
        "#Função Divisão\n",
        "def div(a,b):\n",
        "    if b==0:\n",
        "        return print('Erro')\n",
        "    return print(a/b)\n",
        "#Menu\n",
        "def menu():\n",
        "    print('---MENU---')\n",
        "    print('1- Somar')\n",
        "    print('2- Subtrair')\n",
        "    print('3- Multiplicar')\n",
        "    print('4- Dividir')\n",
        "    print('5-Sair')\n",
        "\n",
        "\n",
        "while True:\n",
        "    num1=int(input('Digite um numero: '))\n",
        "    num2=int(input('Digite um numero: '))\n",
        "\n",
        "    x=int(input(menu()))\n",
        "    print(limpar_terminal())\n",
        "\n",
        "    if x==1:\n",
        "        soma(num1,num2)\n",
        "    elif x==2:\n",
        "        subt(num1,num2)\n",
        "    elif x==3:\n",
        "        mult(num1,num2)\n",
        "    elif x==4:\n",
        "        div(num1,num2)\n",
        "    elif x==5:\n",
        "        print('Saindo')\n",
        "        break\n",
        "    else:\n",
        "        print('Nenhuma opção é válida')\n",
        "\n",
        "\n"
      ],
      "metadata": {
        "colab": {
          "base_uri": "https://localhost:8080/"
        },
        "id": "F2DZA-VBnKv3",
        "outputId": "1aaae50c-65fa-4ad3-d669-d7981dfc026b"
      },
      "execution_count": null,
      "outputs": [
        {
          "output_type": "stream",
          "name": "stdout",
          "text": [
            "None\n",
            "Saindo\n"
          ]
        }
      ]
    },
    {
      "cell_type": "markdown",
      "source": [
        "Exercício:\n",
        "\n",
        "Fazer uma função que verifique se o numero recebido for primo, caso seja falso retorne que o numero não é primo, se for True retorne que é primo.\n",
        "Dica: Um número é primo se for divisível apenas por 1 e por ele mesmo.\n"
      ],
      "metadata": {
        "id": "z0j9jwGt1Q0V"
      }
    },
    {
      "cell_type": "code",
      "source": [
        "def primo(n):\n",
        "    if n < 2:\n",
        "        return False\n",
        "    for i in range(2,n):\n",
        "        if n%i ==0:\n",
        "            return False # Se encontrar um divisor, não é primo\n",
        "    return True\n",
        "n=int(input('Qual valor que você que você quer verificar?'))\n",
        "x=primo(n)\n",
        "if x == True:\n",
        "    print('É o Lucas')\n",
        "else:\n",
        "    print('Não é primo')"
      ],
      "metadata": {
        "colab": {
          "base_uri": "https://localhost:8080/"
        },
        "id": "9w716IePqNMV",
        "outputId": "cf6c3ce8-d1c9-4cf1-fc8a-489cc24cdb64"
      },
      "execution_count": null,
      "outputs": [
        {
          "output_type": "stream",
          "name": "stdout",
          "text": [
            "Qual valor que você que você quer verificar?4\n",
            "Não é primo\n"
          ]
        }
      ]
    },
    {
      "cell_type": "markdown",
      "source": [
        "Exercícios- Faça um programa que converta da notação de 24 horas para a notação de 12 horas. Por exemplo, o programa deve converter 14:25 em 2:25 P.M. A entrada é dada em dois inteiros. Deve haver pelo menos duas funções: uma para fazer a conversão e uma para a saída. Registre a informação A.M./P.M. como um valor ‘A’ para A.M. e ‘P’ para P.M. Assim, a função para efetuar as conversões terá um parâmetro formal para registrar se é A.M. ou P.M. Inclua um loop que permita que o usuário repita esse cálculo para novos valores de entrada todas as vezes que desejar."
      ],
      "metadata": {
        "id": "glBoyQ6g5Hlx"
      }
    },
    {
      "cell_type": "code",
      "source": [
        "def hora(h,m):\n",
        "    #Verificar se a hora e os minutos são válidos\n",
        "    if h<0 or h>23 or m<0 or m>59:\n",
        "        print('Formato de horas e minutos inválidos!!')\n",
        "        return\n",
        "    #converte a hora para o formato de 12 horas\n",
        "    if h<12:\n",
        "        periodo='A.M'\n",
        "        hh = h if h!= 0 else 12 # 0:00 em 24 horas é 12 am\n",
        "    else:\n",
        "        periodo='P.M'\n",
        "        hh = h - 12 if h!= 0 else 12 # 0:00 em 24 horas é 12 am\n",
        "    print(f'Sua hora: {hh}:{m:02d} {periodo}')\n",
        "\n",
        "#Loop principal\n",
        "while True:\n",
        "    print('\\nDigite 111 para sair')\n",
        "    h = int(input('Informe a hora (0-23)'))\n",
        "    if h==111:\n",
        "        break\n",
        "    m=int(input('informe os minutos(0-59): '))\n",
        "    hora(h,m)"
      ],
      "metadata": {
        "colab": {
          "base_uri": "https://localhost:8080/"
        },
        "id": "KUED6oAK3rEK",
        "outputId": "6102366b-034b-43e8-e580-2b2cd74d1d2a"
      },
      "execution_count": null,
      "outputs": [
        {
          "name": "stdout",
          "output_type": "stream",
          "text": [
            "\n",
            "Digite 111 para sair\n",
            "Informe a hora (0-23)20\n",
            "informe os minutos(0-59): 10\n",
            "Sua hora: 8:10 P.M\n",
            "\n",
            "Digite 111 para sair\n",
            "Informe a hora (0-23)111\n"
          ]
        }
      ]
    },
    {
      "cell_type": "markdown",
      "source": [
        "## match case"
      ],
      "metadata": {
        "id": "r9Vuyws9PWsH"
      }
    },
    {
      "cell_type": "markdown",
      "source": [
        "Estrutura de controle de fluxo\n",
        "Evitar múltiplos if...elif...else\n",
        "\n",
        "Sintaxe básica:\n",
        "\n",
        "```\n",
        "match expressão:\n",
        "    case '1':\n",
        "        #Código a ser executado se for correspondido\n",
        "    case '2':\n",
        "        #código....\n",
        "    case_:\n",
        "        #Código que irá ser executado caso nenhum acima for executdo\n",
        "```"
      ],
      "metadata": {
        "id": "Gn3-B5BcPd6n"
      }
    },
    {
      "cell_type": "markdown",
      "source": [
        "Código para executar dia da semana"
      ],
      "metadata": {
        "id": "lf8uGRD7RymD"
      }
    },
    {
      "cell_type": "code",
      "source": [
        "dia=int(input('Digite o dia da semana, coloque em numeros:'))\n",
        "match dia:\n",
        "    case 1:\n",
        "        print('Domingo')\n",
        "    case 2:\n",
        "        print('Segunda')\n",
        "    case 3:\n",
        "        print('Terça')\n",
        "    case 4:\n",
        "        print('Quarta')\n",
        "    case 5:\n",
        "        print('Quinta')\n",
        "    case 6:\n",
        "        print('Sexta')\n",
        "    case 7:\n",
        "        print('Sábado')\n",
        "    case _:\n",
        "        print('Digite entre 1 e 7')"
      ],
      "metadata": {
        "colab": {
          "base_uri": "https://localhost:8080/"
        },
        "id": "_lGGexOpPcHj",
        "outputId": "257a8e68-c009-4136-acfa-ab4deacebf85"
      },
      "execution_count": null,
      "outputs": [
        {
          "output_type": "stream",
          "name": "stdout",
          "text": [
            "Digite o dia da semana, coloque em numeros:9\n",
            "Digite entre 1 e 7\n"
          ]
        }
      ]
    },
    {
      "cell_type": "markdown",
      "source": [
        "\n",
        "Faça um programa que recebe uma nota (0 a 10) e use match case para imprimir:\n",
        "\n",
        "\"Reprovado\" (0 a 4)\n",
        "\n",
        "\"Recuperação\" (5 a 6)\n",
        "\n",
        "\"Aprovado\" (7 a 10)\n",
        "\n",
        "\"Nota inválida\" para outros valores."
      ],
      "metadata": {
        "id": "oZwbq1eUVahj"
      }
    },
    {
      "cell_type": "code",
      "source": [
        "nota=float(input('Digite sua nota: '))\n",
        "match nota:\n",
        "\n",
        "    case 0|1|2|3|4:\n",
        "        print('Reprovado')\n",
        "    case 5|6:\n",
        "        print('Recuperação')\n",
        "    case 7|8|9|10:\n",
        "        print('Aprovado')\n",
        "    case _:\n",
        "        print('Nota inválida ou um numero inteiro')\n",
        "\n"
      ],
      "metadata": {
        "colab": {
          "base_uri": "https://localhost:8080/"
        },
        "id": "xUGukiAAVcZ5",
        "outputId": "208c451c-ef90-46a4-ea85-df42c7c54ad9"
      },
      "execution_count": null,
      "outputs": [
        {
          "output_type": "stream",
          "name": "stdout",
          "text": [
            "Digite sua nota: 9.9\n",
            "Nota inválida ou um numero inteiro\n"
          ]
        }
      ]
    },
    {
      "cell_type": "code",
      "source": [
        "pessoa={'Professora':'Layla'}\n",
        "match pessoa:\n",
        "    case {'nome':nome,'idade':idade}:\n",
        "        print(f'Nome: {nome}, Idade: {idade}')\n",
        "    case {'nome':nome}:\n",
        "        print(f'Nome:{nome}')\n",
        "    case _:\n",
        "        print('Formato desconhecido')\n",
        "\n"
      ],
      "metadata": {
        "colab": {
          "base_uri": "https://localhost:8080/"
        },
        "id": "4pgl8NcpX-Ij",
        "outputId": "47b68403-d472-45fc-e33d-0c77631e55b4"
      },
      "execution_count": null,
      "outputs": [
        {
          "output_type": "stream",
          "name": "stdout",
          "text": [
            "Formato desconhecido\n"
          ]
        }
      ]
    },
    {
      "cell_type": "markdown",
      "source": [
        "Exercicio: Fazer um Menu usando match case"
      ],
      "metadata": {
        "id": "ZLew7fBHZ5lm"
      }
    },
    {
      "cell_type": "code",
      "source": [
        "#⭐Clarice\n",
        "opcao = int(input(\"Digite um valor de 1 a 5: \"))\n",
        "match opcao:\n",
        "    case 1:\n",
        "        print(\"Você escolheu cadastro!\")\n",
        "    case 2:\n",
        "        print(\"Você ecolheu edição!\")\n",
        "    case 3:\n",
        "        print(\"Você escolheu deletar!\")\n",
        "    case 4:\n",
        "        print(\"Você escolheu buscar!\")\n",
        "    case 5:\n",
        "        print(\"Você escolheu listar!\")\n",
        "    case _:\n",
        "        print(\"Comando inválido!\")"
      ],
      "metadata": {
        "colab": {
          "base_uri": "https://localhost:8080/"
        },
        "id": "5Onwt0V7Z-BQ",
        "outputId": "0a722105-06d6-41f4-b224-8f843c00b9bf"
      },
      "execution_count": null,
      "outputs": [
        {
          "output_type": "stream",
          "name": "stdout",
          "text": [
            "Digite um valor de 1 a 5: 0\n",
            "Comando inválido!\n"
          ]
        }
      ]
    },
    {
      "cell_type": "markdown",
      "source": [
        "## try, except, else e finally"
      ],
      "metadata": {
        "id": "YOK-BKWne_nX"
      }
    },
    {
      "cell_type": "markdown",
      "source": [
        "```\n",
        "try: #tente\n",
        "    #Código que pode gerar erro\n",
        "except TipoDeErro:\n",
        "    #Código que será executado se o erro ocorrer\n",
        "```"
      ],
      "metadata": {
        "id": "Eo2lWo-zg8no"
      }
    },
    {
      "cell_type": "code",
      "source": [
        "try:\n",
        "    num = int(input('Digite um número:'))\n",
        "    print(f'O numero digitado foi: {num}')\n",
        "except ValueError:\n",
        "    print('Digite um número inteiro')"
      ],
      "metadata": {
        "colab": {
          "base_uri": "https://localhost:8080/"
        },
        "id": "wYycDCEKfC5q",
        "outputId": "08c7d4b7-b273-4dab-b193-899c94f5dd35"
      },
      "execution_count": null,
      "outputs": [
        {
          "output_type": "stream",
          "name": "stdout",
          "text": [
            "Digite um número:a\n",
            "Digite um número inteiro\n"
          ]
        }
      ]
    },
    {
      "cell_type": "markdown",
      "source": [],
      "metadata": {
        "id": "y5-HgYAEhmcy"
      }
    },
    {
      "cell_type": "code",
      "source": [
        "# Stela  ★ ★ ★ ★ ★\n",
        "ctt_encontrados= [\n",
        "    {\"nome\": \"Ana Silva\", \"telefone\": \"11-98765-4321\"},\n",
        "    {\"nome\": \"Carlos Souza\", \"telefone\": \"21-98888-7777\"},\n",
        "    {\"nome\": \"Mariana Oliveira\", \"telefone\": \"31-99999-5555\"}\n",
        "]\n",
        "try:\n",
        "    # Solicita ao usuário que escolha qual contato editar\n",
        "    escolha = int(input('\\nEscolha o telefone do contato para editar: '))\n",
        "    if escolha < 1 or escolha > len(ctt_encontrados):\n",
        "        print('Opção inválida!')\n",
        "\n",
        "    contato = ctt_encontrados[escolha -1]\n",
        "\n",
        "except ValueError:\n",
        "   print('Valor inválido!')\n"
      ],
      "metadata": {
        "colab": {
          "base_uri": "https://localhost:8080/"
        },
        "id": "bhpOUEvnjfBz",
        "outputId": "070f6fdf-157b-4b3a-b721-4bd4400bb57d"
      },
      "execution_count": null,
      "outputs": [
        {
          "output_type": "stream",
          "name": "stdout",
          "text": [
            "\n",
            "Escolha o telefone do contato para editar: a\n",
            "Valor inválido!\n"
          ]
        }
      ]
    },
    {
      "cell_type": "code",
      "source": [
        " # Thaty  ★ ★ ★ ★ ★ e o kit\n",
        "try:\n",
        "    num1=int(input('Digite o primeiro numero: '))\n",
        "    num2=int(input('Digite o segundo numero: '))\n",
        "    resultado=num1/num2\n",
        "    print(resultado)\n",
        "except ValueError:\n",
        "    print('Digite um número inteiro')\n",
        "except ZeroDivisionError:\n",
        "    print('Não é possivel ter divisão por zero')\n"
      ],
      "metadata": {
        "colab": {
          "base_uri": "https://localhost:8080/"
        },
        "id": "bPOl04zvm2ea",
        "outputId": "a7e3b3db-1674-4f16-d14d-3bb156ff7db5"
      },
      "execution_count": null,
      "outputs": [
        {
          "output_type": "stream",
          "name": "stdout",
          "text": [
            "Digite o primeiro numero: 5\n",
            "Digite o segundo numero: 4\n",
            "1.25\n"
          ]
        }
      ]
    },
    {
      "cell_type": "code",
      "source": [
        "numeros =[1,5,83,67,32]\n",
        "try:\n",
        "    indice = int(input('Digite o índice da lista que você deseja selecionar (0 a 4)'))\n",
        "    print(numeros[indice])\n",
        "except ValueError:\n",
        "    print('Digite um número inteiro')\n",
        "except IndexError:\n",
        "    print('''Digite um numero dentro do parâmetro do tamanho da lista (0 a 4)''')\n",
        "else:\n",
        "    print('Busca realizada com sucesso')\n",
        "finally:\n",
        "    print('Fim da operação')\n"
      ],
      "metadata": {
        "colab": {
          "base_uri": "https://localhost:8080/"
        },
        "id": "WetQj3DQoCya",
        "outputId": "657e6786-3987-425a-d02c-c1c57b8ba7e6"
      },
      "execution_count": null,
      "outputs": [
        {
          "output_type": "stream",
          "name": "stdout",
          "text": [
            "Digite o índice da lista que você deseja selecionar (0 a 4) 2\n",
            "83\n",
            "Busca realizada com sucesso\n",
            "Fim da operação\n"
          ]
        }
      ]
    },
    {
      "cell_type": "markdown",
      "source": [
        "##Classes"
      ],
      "metadata": {
        "id": "l6BBWFIG_C-u"
      }
    },
    {
      "cell_type": "code",
      "source": [
        "#Maria Eduarda ★ ★ ★ ★ ★\n",
        "class aniversariante:\n",
        "    #metodo __init__(contrutor)\n",
        "    def __init__(self,nome,idade,profissao):\n",
        "        self.nome=nome\n",
        "        self.idade=idade\n",
        "        self.profissao = profissao\n",
        "\n",
        "    def apresentar(self):\n",
        "        return f'Ola sou {self.nome}, tenho {self.idade} anos e sou {self.profissao}'\n",
        "\n",
        "    def aniversario(self):\n",
        "        self.idade += 1\n",
        "        return f'Feliz aniversário! Agora eu tenho {self.idade} anos'"
      ],
      "metadata": {
        "id": "TXAHzvFN_Hfw"
      },
      "execution_count": null,
      "outputs": []
    },
    {
      "cell_type": "code",
      "source": [
        "pessoa=aniversariante('Stefane',30,'Analista de Dados')\n",
        "pessoa.aniversario()"
      ],
      "metadata": {
        "colab": {
          "base_uri": "https://localhost:8080/",
          "height": 35
        },
        "id": "5YknJyz7E6-3",
        "outputId": "aa1e042d-9d32-4798-a29e-34fcb425f14f"
      },
      "execution_count": null,
      "outputs": [
        {
          "output_type": "execute_result",
          "data": {
            "text/plain": [
              "'Feliz aniversário! Agora eu tenho 31 anos'"
            ],
            "application/vnd.google.colaboratory.intrinsic+json": {
              "type": "string"
            }
          },
          "metadata": {},
          "execution_count": 5
        }
      ]
    },
    {
      "cell_type": "code",
      "source": [
        "class carro:\n",
        "    def __init__(self, cor, modelo,placa, fabricante, ano):\n",
        "        self.cor = cor\n",
        "        self.modelo= modelo\n",
        "        self.placa= placa\n",
        "        self.fabricante= fabricante\n",
        "        self.ano=ano\n",
        "\n",
        "    def acelerar(self):\n",
        "        return f'{self.modelo}, cor {self.cor} da placa {self.placa} está acelerando'\n",
        "\n",
        "    def frear(self):\n",
        "        return print(f'{self.modelo} freiou')"
      ],
      "metadata": {
        "id": "QS2Vi3AOFtZc"
      },
      "execution_count": null,
      "outputs": []
    },
    {
      "cell_type": "code",
      "source": [
        "carro_suspeito= carro('branco','Kwid','XN123','Renault',2022)"
      ],
      "metadata": {
        "id": "VgXA4m2SH54C"
      },
      "execution_count": null,
      "outputs": []
    },
    {
      "cell_type": "code",
      "source": [
        "carro_suspeito.acelerar()\n"
      ],
      "metadata": {
        "colab": {
          "base_uri": "https://localhost:8080/",
          "height": 35
        },
        "id": "TzLUOKlUINhN",
        "outputId": "7a29de4e-a9a3-4812-fa2f-2ea0ea4cba48"
      },
      "execution_count": null,
      "outputs": [
        {
          "output_type": "execute_result",
          "data": {
            "text/plain": [
              "'Kwid, cor branco da placa XN123 está acelerando'"
            ],
            "application/vnd.google.colaboratory.intrinsic+json": {
              "type": "string"
            }
          },
          "metadata": {},
          "execution_count": 23
        }
      ]
    },
    {
      "cell_type": "code",
      "source": [
        "carro_suspeito.frear()"
      ],
      "metadata": {
        "colab": {
          "base_uri": "https://localhost:8080/",
          "height": 35
        },
        "id": "T6naI7WnIY-z",
        "outputId": "ba97a3b7-e493-4b39-f1e1-95afe13ba784"
      },
      "execution_count": null,
      "outputs": [
        {
          "output_type": "execute_result",
          "data": {
            "text/plain": [
              "'Kwid freiou'"
            ],
            "application/vnd.google.colaboratory.intrinsic+json": {
              "type": "string"
            }
          },
          "metadata": {},
          "execution_count": 22
        }
      ]
    },
    {
      "cell_type": "markdown",
      "source": [
        "Exercício- Faça uma classe de `Animal` e ele devera ter como atributo `nome`, `especie`, `idade`, `raça`, `class_alimentacao`, `peso`.\n",
        "\n",
        "1.   funções\n",
        "\n",
        "*   Emitir som\n",
        "*   Informações\n",
        "*   função (se for passaro voa, se for quadripede ele corre)\n",
        "*   comer (se for carnivoro come carne....)\n",
        "\n",
        "\n",
        "\n",
        "\n",
        "\n",
        "\n",
        "\n",
        "\n",
        "\n"
      ],
      "metadata": {
        "id": "q4BxixvkK3oM"
      }
    },
    {
      "cell_type": "code",
      "source": [
        "class Animal:\n",
        "    def __init__(self, nome, especie, idade, raca, class_alimentacao, peso):\n",
        "        self.nome=nome\n",
        "        self.especie=especie\n",
        "        self.idade=idade\n",
        "        self.raca=raca\n",
        "        self.class_alimentacao=class_alimentacao\n",
        "        self.peso=peso\n",
        "\n",
        "    def emitir_som(self):\n",
        "        if self.especie.lower() == 'cachorro':\n",
        "            return 'Au-au'\n",
        "        elif self.especie.lower() == 'gato':\n",
        "            return 'Miau'\n",
        "        elif self.especie.lower() == 'vaca':\n",
        "            return 'Muuu'\n",
        "        else:\n",
        "            return 'Som desconhecido'\n",
        "\n",
        "    def informacoes(self):\n",
        "        if self.especie.lower() == 'cachorro':\n",
        "            return 'São inteligentes, sociáveis, leais.'\n",
        "        elif self.especie.lower() == 'gato':\n",
        "            return 'São curiosos, possuem hábitos noturnos e são carinhosos.'\n",
        "        elif self.especie.lower() == 'vaca':\n",
        "            return 'São sociáveis, inteligentes e passam a maior parte do dia ruminando.'\n",
        "        else:\n",
        "            return 'Informações não disponíveis para esta espécie.'\n",
        "\n",
        "    def funcao(self):\n",
        "        if self.especie.lower() == 'cachorro':\n",
        "            return 'Ele corre'\n",
        "        elif self.especie.lower() == 'gato':\n",
        "            return 'Ele corre'\n",
        "        elif self.especie.lower() == 'vaca':\n",
        "            return 'Ela anda, mas também pode correr'\n",
        "        else:\n",
        "            return 'Função desconhecida'\n",
        "\n",
        "    def comer(self):\n",
        "        if self.class_alimentacao.lower()=='carnivoro':\n",
        "            return 'Esse animal gosta de alimentar de carne'\n",
        "        elif self.class_alimentacao.lower()=='herbivoro':\n",
        "            return 'Esse animal gosta de alimentar de plantas'\n",
        "        else:\n",
        "            return 'é um animal onívoro'\n",
        "\n"
      ],
      "metadata": {
        "id": "tCzPgEiFL3mj"
      },
      "execution_count": null,
      "outputs": []
    },
    {
      "cell_type": "markdown",
      "source": [
        "Exercicio 2: classe supermercado\n",
        "\n",
        "Crie uma classe chamada Produto para representar os itens de um supermercado. Cada produto deve ter os seguintes atributos:\n",
        "\n",
        "`nome`: O nome do produto (ex: Arroz, Feijão, Leite).\n",
        "\n",
        "`categoria`: A categoria do produto (ex: Alimentos, Bebidas, Limpeza, Higiene).\n",
        "\n",
        "`preco`: O preço do produto.\n",
        "\n",
        "`quantidade`: A quantidade em estoque.\n",
        "\n",
        "`codigo_barras`: O código de barras do produto.\n",
        "\n",
        "**Funções**:\n",
        "\n",
        "* exibir_informações()\n",
        "\n",
        "* atualizar_preço()\n",
        "\n",
        "* verificar_disponibilidade()\n",
        "\n",
        "* adicionar_estoque()\n",
        "\n",
        "* remover_estoque()"
      ],
      "metadata": {
        "id": "iSaWfR7oiCRV"
      }
    },
    {
      "cell_type": "code",
      "source": [],
      "metadata": {
        "id": "Sd21DQD3ixYm"
      },
      "execution_count": null,
      "outputs": []
    }
  ]
}