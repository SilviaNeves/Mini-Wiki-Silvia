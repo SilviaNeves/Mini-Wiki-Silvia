{
  "nbformat": 4,
  "nbformat_minor": 0,
  "metadata": {
    "colab": {
      "provenance": [],
      "include_colab_link": true
    },
    "kernelspec": {
      "name": "python3",
      "display_name": "Python 3"
    },
    "language_info": {
      "name": "python"
    }
  },
  "cells": [
    {
      "cell_type": "markdown",
      "metadata": {
        "id": "view-in-github",
        "colab_type": "text"
      },
      "source": [
        "<a href=\"https://colab.research.google.com/github/SilviaNeves/Mini-Wiki-Silvia/blob/main/C%C3%B3pia_de_GRUPO3_simulador_caixa_eletronico.ipynb\" target=\"_parent\"><img src=\"https://colab.research.google.com/assets/colab-badge.svg\" alt=\"Open In Colab\"/></a>"
      ]
    },
    {
      "cell_type": "code",
      "source": [
        "import datetime\n",
        "\n",
        "usuarios = {\n",
        "    \"user1\": {\"senha\": \"1234\", \"saldo\": 100, \"extrato\": [], \"saques_realizados\": 0, \"total_sacado\": 0},\n",
        "    \"user2\": {\"senha\": \"5678\", \"saldo\": 200, \"extrato\": [], \"saques_realizados\": 0, \"total_sacado\": 0},\n",
        "    \"user3\": {\"senha\": \"abcd\", \"saldo\": 300, \"extrato\": [], \"saques_realizados\": 0, \"total_sacado\": 0}}\n",
        "\n",
        "\n",
        "\n",
        "\n",
        "usuario_atual = None\n",
        "limite_saque = 1000\n",
        "\n",
        "\n",
        "def autenticar_usuario():\n",
        "  global usuario_atual\n",
        "\n",
        "  tentativas = 3  # Para poder modificar a variável tentativas dentro da função\n",
        "  while tentativas > 0:\n",
        "        usuario = input(\"Digite o usuário: \")\n",
        "        if usuario in usuarios:\n",
        "          senha_digitada = input(\"Digite a senha: \")\n",
        "\n",
        "          if senha_digitada == usuarios[usuario][\"senha\"]:\n",
        "            print(\"Acesso permitido!\")\n",
        "            usuario_atual = usuario\n",
        "            return True\n",
        "          else:\n",
        "            tentativas -= 1  # Decrementa o número de tentativas\n",
        "            print(f\"Senha incorreta. Você tem {tentativas} tentativas restantes.\")\n",
        "        else:\n",
        "          print('Usuário não encontrado.')\n",
        "\n",
        "  print(\"Número de tentativas excedido. Acesso bloqueado.\")\n",
        "  return False\n",
        "\n",
        "def verificar_saldo():\n",
        "  print(f\"Seu saldo é de R${usuarios[usuario_atual]['saldo']:.2f}\")\n",
        "\n",
        "\n",
        "def depositar():\n",
        "    valor_deposito = float(input(\"Digite o valor a ser depositado: \"))\n",
        "    if valor_deposito > 0:\n",
        "        usuarios[usuario_atual][\"saldo\"] += valor_deposito\n",
        "        data_hora = datetime.datetime.now().strftime(\"%Y-%m-%d %H:%M:%S\")\n",
        "        usuarios[usuario_atual][\"extrato\"].append(f\"Depósito: R${valor_deposito:.2f} - Data/Hora: {data_hora}\")\n",
        "        print(f\"Depósito de R${valor_deposito:.2f} realizado com sucesso!\")\n",
        "    else:\n",
        "        print(\"Valor de depósito inválido. O valor deve ser maior que zero.\")\n",
        "\n",
        "def sacar():\n",
        "    valor = float(input(\"Digite o valor a ser sacado: \"))\n",
        "\n",
        "    if valor <= 0:\n",
        "        print(\"Valor inválido para saque\")\n",
        "    elif valor > usuarios[usuario_atual][\"saldo\"]:\n",
        "        print(\"Saldo insuficiente\")\n",
        "    elif usuarios[usuario_atual][\"total_sacado\"] + valor > limite_saque:\n",
        "        print(f\"Você já sacou R${usuarios[usuario_atual]['total_sacado']:.2f} hoje. O limite diário é de R${limite_saque:.2f}.\")\n",
        "    else:\n",
        "        usuarios[usuario_atual][\"saldo\"] -= valor\n",
        "        usuarios[usuario_atual][\"saques_realizados\"] += 1\n",
        "        usuarios[usuario_atual][\"total_sacado\"] += valor\n",
        "        data_hora = datetime.datetime.now().strftime(\"%Y-%m-%d %H:%M:%S\")\n",
        "        usuarios[usuario_atual][\"extrato\"].append(f\"Saque: R${valor:.2f} - Data/Hora: {data_hora}\")\n",
        "        print(f\"Valor do Saque R${valor:.2f} realizado com sucesso!\")\n",
        "\n",
        "def ver_extrato():\n",
        "    print(\"\\nExtrato:\")\n",
        "\n",
        "    if not usuarios[usuario_atual][\"extrato\"]:\n",
        "        print(\"Nenhuma transação registrada.\")\n",
        "    else:\n",
        "      for transacao in usuarios[usuario_atual][\"extrato\"]:\n",
        "        print(transacao)\n",
        "\n",
        "def alterar_senha():\n",
        "    senha_atual = input(\"Digite a senha atual: \")\n",
        "    if senha_atual == usuarios[usuario_atual][\"senha\"]:\n",
        "        nova_senha = input(\"Digite a nova senha: \")\n",
        "        usuarios[usuario_atual][\"senha\"] = nova_senha\n",
        "        print(\"Senha alterada com sucesso!\")\n",
        "    else:\n",
        "      print('Senha Atual Incorreta.')\n",
        "\n",
        "def menu():\n",
        "    print(\"\\nBem-vindo ao Simulador de Caixa Eletrônico!\")\n",
        "    if not autenticar_usuario():\n",
        "        return\n",
        "    while True:\n",
        "        print(\"\\nEscolha uma opção:\")\n",
        "        print(\"1. Verificar Saldo\")\n",
        "        print(\"2. Depositar\")\n",
        "        print(\"3. Sacar\")\n",
        "        print(\"4. Ver Extrato\")\n",
        "        print(\"5. Alterar Senha\")\n",
        "        print(\"6. Sair\")\n",
        "\n",
        "        opcao = input(\"Digite o número da opção desejada: \")\n",
        "        if opcao == \"1\":\n",
        "            verificar_saldo()\n",
        "        elif opcao == \"2\":\n",
        "          depositar()\n",
        "        elif opcao == \"3\":\n",
        "          sacar()\n",
        "        elif opcao == \"4\":\n",
        "          ver_extrato()\n",
        "        elif opcao == \"5\":\n",
        "          alterar_senha()\n",
        "        elif opcao == \"6\":\n",
        "          print(\"Saindo do sistema. Obrigado(a)!\")\n",
        "          break\n",
        "        else:\n",
        "          print('Opção inválida!')\n",
        "\n",
        "menu()\n"
      ],
      "metadata": {
        "id": "sEOEZv9jjG_h",
        "colab": {
          "base_uri": "https://localhost:8080/"
        },
        "outputId": "71969c46-8dab-4809-ac3b-0ed2255ebbb9"
      },
      "execution_count": null,
      "outputs": [
        {
          "output_type": "stream",
          "name": "stdout",
          "text": [
            "\n",
            "Bem-vindo ao Simulador de Caixa Eletrônico!\n"
          ]
        }
      ]
    }
  ]
}